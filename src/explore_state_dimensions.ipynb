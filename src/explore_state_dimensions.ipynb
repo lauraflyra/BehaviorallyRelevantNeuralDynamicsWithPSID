{
 "cells": [
  {
   "cell_type": "code",
   "execution_count": 1,
   "outputs": [],
   "source": [
    "import numpy as np\n",
    "import pandas as pd\n",
    "import matplotlib.pyplot as plt\n",
    "import PSID\n",
    "from PSID.evaluation import evalPrediction\n",
    "from src.cross_validation_PSID import cross_validation, cross_validation_split\n",
    "from src.explore_state_dimensions import plot_explorations\n",
    "from src.explore_state_dimensions import explore_latent_behavior_dims\n",
    "%load_ext autoreload\n",
    "%autoreload 2\n",
    "\n",
    "# explore dimensions of behaviorally relevant dynamics\n",
    "# in here all latent space dimensions will be used to prioritize behavior, meaning n1 = nx\n",
    "\n",
    "PATH_FEATURES = \"/home/lauraflyra/Documents/BCCN/Lab_Rotation_USC/Code/Data/py_neuromodulation_derivatives/sub-000_ses-right_task-force_run-3/sub-000_ses-right_task-force_run-3_FEATURES.csv\"\n",
    "data_features = pd.read_csv(PATH_FEATURES, index_col=0)"
   ],
   "metadata": {
    "collapsed": false,
    "pycharm": {
     "name": "#%%\n"
    }
   }
  },
  {
   "cell_type": "markdown",
   "source": [
    "# Start with bandpass features"
   ],
   "metadata": {
    "collapsed": false,
    "pycharm": {
     "name": "#%% md\n"
    }
   }
  },
  {
   "cell_type": "code",
   "execution_count": 2,
   "outputs": [],
   "source": [
    "feature_df_bandpass = pd.concat([data_features.filter(like='LFP'),data_features.filter(like='ECOG')], axis = 1).filter(like='bandpass_activity').to_numpy()\n",
    "behavior_df = data_features[\"MOV_LEFT_CLEAN\"].to_numpy().reshape(-1, 1)"
   ],
   "metadata": {
    "collapsed": false,
    "pycharm": {
     "name": "#%%\n"
    }
   }
  },
  {
   "cell_type": "code",
   "execution_count": 4,
   "outputs": [
    {
     "data": {
      "text/plain": "(2810, 587)"
     },
     "execution_count": 4,
     "metadata": {},
     "output_type": "execute_result"
    }
   ],
   "source": [
    "pd.concat([data_features.filter(like='LFP'),data_features.filter(like='ECOG')], axis = 1).shape"
   ],
   "metadata": {
    "collapsed": false,
    "pycharm": {
     "name": "#%%\n"
    }
   }
  },
  {
   "cell_type": "code",
   "execution_count": 13,
   "outputs": [],
   "source": [
    "K_FOLDS = 5\n",
    "N_DIMS = 15"
   ],
   "metadata": {
    "collapsed": false,
    "pycharm": {
     "name": "#%%\n"
    }
   }
  },
  {
   "cell_type": "markdown",
   "source": [
    "Cross validation results from XGBOOST with $R^{2}$ for bandpass features:\n",
    "mean $R^{2}$ = 0.643\n",
    "std = 0.051"
   ],
   "metadata": {
    "collapsed": false,
    "pycharm": {
     "name": "#%% md\n"
    }
   }
  },
  {
   "cell_type": "code",
   "execution_count": 14,
   "outputs": [],
   "source": [
    "xgboost_mean_r2_bandpass = 0.643\n",
    "xgboost_std_r2_bandpass = 0.051"
   ],
   "metadata": {
    "collapsed": false,
    "pycharm": {
     "name": "#%%\n"
    }
   }
  },
  {
   "cell_type": "code",
   "execution_count": 15,
   "outputs": [
    {
     "name": "stdout",
     "output_type": "stream",
     "text": [
      "Behavior decoding evaluation:\n",
      "  PSID => 0.253\n",
      "Behavior decoding evaluation:\n",
      "  PSID => 0.412\n",
      "Behavior decoding evaluation:\n",
      "  PSID => 0.387\n",
      "Behavior decoding evaluation:\n",
      "  PSID => 0.397\n",
      "Behavior decoding evaluation:\n",
      "  PSID => 0.504\n",
      "Behavior decoding evaluation:\n",
      "  PSID => 0.605\n",
      "Behavior decoding evaluation:\n",
      "  PSID => 0.678\n",
      "Behavior decoding evaluation:\n",
      "  PSID => 0.642\n",
      "Behavior decoding evaluation:\n",
      "  PSID => 0.608\n",
      "Behavior decoding evaluation:\n",
      "  PSID => 0.631\n",
      "Behavior decoding evaluation:\n",
      "  PSID => 0.618\n",
      "Behavior decoding evaluation:\n",
      "  PSID => 0.708\n",
      "Behavior decoding evaluation:\n",
      "  PSID => 0.663\n",
      "Behavior decoding evaluation:\n",
      "  PSID => 0.608\n",
      "Behavior decoding evaluation:\n",
      "  PSID => 0.645\n",
      "Behavior decoding evaluation:\n",
      "  PSID => 0.603\n",
      "Behavior decoding evaluation:\n",
      "  PSID => 0.698\n",
      "Behavior decoding evaluation:\n",
      "  PSID => 0.683\n",
      "Behavior decoding evaluation:\n",
      "  PSID => 0.6\n",
      "Behavior decoding evaluation:\n",
      "  PSID => 0.631\n",
      "Behavior decoding evaluation:\n",
      "  PSID => 0.609\n",
      "Behavior decoding evaluation:\n",
      "  PSID => 0.707\n",
      "Behavior decoding evaluation:\n",
      "  PSID => 0.662\n",
      "Behavior decoding evaluation:\n",
      "  PSID => 0.604\n",
      "Behavior decoding evaluation:\n",
      "  PSID => 0.626\n",
      "Behavior decoding evaluation:\n",
      "  PSID => 0.616\n",
      "Behavior decoding evaluation:\n",
      "  PSID => 0.707\n",
      "Behavior decoding evaluation:\n",
      "  PSID => 0.664\n",
      "Behavior decoding evaluation:\n",
      "  PSID => 0.606\n",
      "Behavior decoding evaluation:\n",
      "  PSID => 0.629\n",
      "Behavior decoding evaluation:\n",
      "  PSID => 0.607\n",
      "Behavior decoding evaluation:\n",
      "  PSID => 0.703\n",
      "Behavior decoding evaluation:\n",
      "  PSID => 0.66\n",
      "Behavior decoding evaluation:\n",
      "  PSID => 0.597\n",
      "Behavior decoding evaluation:\n",
      "  PSID => 0.618\n",
      "Behavior decoding evaluation:\n",
      "  PSID => 0.606\n",
      "Behavior decoding evaluation:\n",
      "  PSID => 0.7\n",
      "Behavior decoding evaluation:\n",
      "  PSID => 0.656\n",
      "Behavior decoding evaluation:\n",
      "  PSID => 0.6\n",
      "Behavior decoding evaluation:\n",
      "  PSID => 0.618\n",
      "Behavior decoding evaluation:\n",
      "  PSID => 0.606\n",
      "Behavior decoding evaluation:\n",
      "  PSID => 0.699\n",
      "Behavior decoding evaluation:\n",
      "  PSID => 0.656\n",
      "Behavior decoding evaluation:\n",
      "  PSID => 0.598\n",
      "Behavior decoding evaluation:\n",
      "  PSID => 0.614\n",
      "Behavior decoding evaluation:\n",
      "  PSID => 0.598\n",
      "Behavior decoding evaluation:\n",
      "  PSID => 0.699\n",
      "Behavior decoding evaluation:\n",
      "  PSID => 0.65\n",
      "Behavior decoding evaluation:\n",
      "  PSID => 0.595\n",
      "Behavior decoding evaluation:\n",
      "  PSID => 0.612\n",
      "Behavior decoding evaluation:\n",
      "  PSID => 0.599\n",
      "Behavior decoding evaluation:\n",
      "  PSID => 0.698\n",
      "Behavior decoding evaluation:\n",
      "  PSID => 0.65\n",
      "Behavior decoding evaluation:\n",
      "  PSID => 0.594\n",
      "Behavior decoding evaluation:\n",
      "  PSID => 0.608\n",
      "Behavior decoding evaluation:\n",
      "  PSID => 0.588\n",
      "Behavior decoding evaluation:\n",
      "  PSID => 0.691\n",
      "Behavior decoding evaluation:\n",
      "  PSID => 0.643\n",
      "Behavior decoding evaluation:\n",
      "  PSID => 0.588\n",
      "Behavior decoding evaluation:\n",
      "  PSID => 0.606\n",
      "Behavior decoding evaluation:\n",
      "  PSID => 0.59\n",
      "Behavior decoding evaluation:\n",
      "  PSID => 0.691\n",
      "Behavior decoding evaluation:\n",
      "  PSID => 0.651\n",
      "Behavior decoding evaluation:\n",
      "  PSID => 0.588\n",
      "Behavior decoding evaluation:\n",
      "  PSID => 0.601\n",
      "Behavior decoding evaluation:\n",
      "  PSID => 0.589\n",
      "Behavior decoding evaluation:\n",
      "  PSID => 0.683\n",
      "Behavior decoding evaluation:\n",
      "  PSID => 0.648\n",
      "Behavior decoding evaluation:\n",
      "  PSID => 0.569\n",
      "Behavior decoding evaluation:\n",
      "  PSID => 0.598\n",
      "Behavior decoding evaluation:\n",
      "  PSID => 0.631\n",
      "Behavior decoding evaluation:\n",
      "  PSID => 0.717\n",
      "Behavior decoding evaluation:\n",
      "  PSID => 0.682\n",
      "Behavior decoding evaluation:\n",
      "  PSID => 0.617\n",
      "Behavior decoding evaluation:\n",
      "  PSID => 0.634\n",
      "Behavior decoding evaluation:\n",
      "  PSID => 0.0383\n",
      "Behavior decoding evaluation:\n",
      "  PSID => 0.179\n",
      "Behavior decoding evaluation:\n",
      "  PSID => 0.159\n",
      "Behavior decoding evaluation:\n",
      "  PSID => 0.147\n",
      "Behavior decoding evaluation:\n",
      "  PSID => 0.133\n",
      "Behavior decoding evaluation:\n",
      "  PSID => 0.294\n",
      "Behavior decoding evaluation:\n",
      "  PSID => 0.374\n",
      "Behavior decoding evaluation:\n",
      "  PSID => 0.236\n",
      "Behavior decoding evaluation:\n",
      "  PSID => 0.354\n",
      "Behavior decoding evaluation:\n",
      "  PSID => 0.376\n",
      "Behavior decoding evaluation:\n",
      "  PSID => 0.488\n",
      "Behavior decoding evaluation:\n",
      "  PSID => 0.583\n",
      "Behavior decoding evaluation:\n",
      "  PSID => 0.466\n",
      "Behavior decoding evaluation:\n",
      "  PSID => 0.545\n",
      "Behavior decoding evaluation:\n",
      "  PSID => 0.558\n",
      "Behavior decoding evaluation:\n",
      "  PSID => 0.464\n",
      "Behavior decoding evaluation:\n",
      "  PSID => 0.606\n",
      "Behavior decoding evaluation:\n",
      "  PSID => 0.507\n",
      "Behavior decoding evaluation:\n",
      "  PSID => 0.555\n",
      "Behavior decoding evaluation:\n",
      "  PSID => 0.581\n",
      "Behavior decoding evaluation:\n",
      "  PSID => 0.472\n",
      "Behavior decoding evaluation:\n",
      "  PSID => 0.609\n",
      "Behavior decoding evaluation:\n",
      "  PSID => 0.522\n",
      "Behavior decoding evaluation:\n",
      "  PSID => 0.574\n",
      "Behavior decoding evaluation:\n",
      "  PSID => 0.549\n",
      "Behavior decoding evaluation:\n",
      "  PSID => 0.5\n",
      "Behavior decoding evaluation:\n",
      "  PSID => 0.608\n",
      "Behavior decoding evaluation:\n",
      "  PSID => 0.507\n",
      "Behavior decoding evaluation:\n",
      "  PSID => 0.577\n",
      "Behavior decoding evaluation:\n",
      "  PSID => 0.578\n",
      "Behavior decoding evaluation:\n",
      "  PSID => 0.47\n",
      "Behavior decoding evaluation:\n",
      "  PSID => 0.606\n",
      "Behavior decoding evaluation:\n",
      "  PSID => 0.51\n",
      "Behavior decoding evaluation:\n",
      "  PSID => 0.561\n",
      "Behavior decoding evaluation:\n",
      "  PSID => 0.572\n",
      "Behavior decoding evaluation:\n",
      "  PSID => 0.475\n",
      "Behavior decoding evaluation:\n",
      "  PSID => 0.61\n",
      "Behavior decoding evaluation:\n",
      "  PSID => 0.514\n",
      "Behavior decoding evaluation:\n",
      "  PSID => 0.562\n",
      "Behavior decoding evaluation:\n",
      "  PSID => 0.567\n",
      "Behavior decoding evaluation:\n",
      "  PSID => 0.463\n",
      "Behavior decoding evaluation:\n",
      "  PSID => 0.609\n",
      "Behavior decoding evaluation:\n",
      "  PSID => 0.516\n",
      "Behavior decoding evaluation:\n",
      "  PSID => 0.55\n",
      "Behavior decoding evaluation:\n",
      "  PSID => 0.559\n",
      "Behavior decoding evaluation:\n",
      "  PSID => 0.466\n",
      "Behavior decoding evaluation:\n",
      "  PSID => 0.607\n",
      "Behavior decoding evaluation:\n",
      "  PSID => 0.518\n",
      "Behavior decoding evaluation:\n",
      "  PSID => 0.553\n",
      "Behavior decoding evaluation:\n",
      "  PSID => 0.558\n",
      "Behavior decoding evaluation:\n",
      "  PSID => 0.468\n",
      "Behavior decoding evaluation:\n",
      "  PSID => 0.609\n",
      "Behavior decoding evaluation:\n",
      "  PSID => 0.511\n",
      "Behavior decoding evaluation:\n",
      "  PSID => 0.547\n",
      "Behavior decoding evaluation:\n",
      "  PSID => 0.557\n",
      "Behavior decoding evaluation:\n",
      "  PSID => 0.475\n",
      "Behavior decoding evaluation:\n",
      "  PSID => 0.609\n",
      "Behavior decoding evaluation:\n",
      "  PSID => 0.511\n",
      "Behavior decoding evaluation:\n",
      "  PSID => 0.547\n",
      "Behavior decoding evaluation:\n",
      "  PSID => 0.552\n",
      "Behavior decoding evaluation:\n",
      "  PSID => 0.47\n",
      "Behavior decoding evaluation:\n",
      "  PSID => 0.609\n",
      "Behavior decoding evaluation:\n",
      "  PSID => 0.509\n",
      "Behavior decoding evaluation:\n",
      "  PSID => 0.539\n",
      "Behavior decoding evaluation:\n",
      "  PSID => 0.55\n",
      "Behavior decoding evaluation:\n",
      "  PSID => 0.47\n",
      "Behavior decoding evaluation:\n",
      "  PSID => 0.607\n",
      "Behavior decoding evaluation:\n",
      "  PSID => 0.513\n",
      "Behavior decoding evaluation:\n",
      "  PSID => 0.538\n",
      "Behavior decoding evaluation:\n",
      "  PSID => 0.547\n",
      "Behavior decoding evaluation:\n",
      "  PSID => 0.477\n",
      "Behavior decoding evaluation:\n",
      "  PSID => 0.604\n",
      "Behavior decoding evaluation:\n",
      "  PSID => 0.504\n",
      "Behavior decoding evaluation:\n",
      "  PSID => 0.538\n",
      "Behavior decoding evaluation:\n",
      "  PSID => 0.546\n",
      "Behavior decoding evaluation:\n",
      "  PSID => 0.0578\n",
      "Behavior decoding evaluation:\n",
      "  PSID => 0.141\n",
      "Behavior decoding evaluation:\n",
      "  PSID => 0.122\n",
      "Behavior decoding evaluation:\n",
      "  PSID => 0.13\n",
      "Behavior decoding evaluation:\n",
      "  PSID => 0.0915\n",
      "Behavior decoding evaluation:\n",
      "  PSID => 0.0601\n",
      "Behavior decoding evaluation:\n",
      "  PSID => 0.146\n",
      "Behavior decoding evaluation:\n",
      "  PSID => 0.0589\n",
      "Behavior decoding evaluation:\n",
      "  PSID => 0.13\n",
      "Behavior decoding evaluation:\n",
      "  PSID => 0.196\n",
      "Behavior decoding evaluation:\n",
      "  PSID => 0.318\n",
      "Behavior decoding evaluation:\n",
      "  PSID => 0.466\n",
      "Behavior decoding evaluation:\n",
      "  PSID => 0.376\n",
      "Behavior decoding evaluation:\n",
      "  PSID => 0.436\n",
      "Behavior decoding evaluation:\n",
      "  PSID => 0.444\n",
      "Behavior decoding evaluation:\n",
      "  PSID => 0.402\n",
      "Behavior decoding evaluation:\n",
      "  PSID => 0.549\n",
      "Behavior decoding evaluation:\n",
      "  PSID => 0.48\n",
      "Behavior decoding evaluation:\n",
      "  PSID => 0.543\n",
      "Behavior decoding evaluation:\n",
      "  PSID => 0.544\n",
      "Behavior decoding evaluation:\n",
      "  PSID => 0.407\n",
      "Behavior decoding evaluation:\n",
      "  PSID => 0.563\n",
      "Behavior decoding evaluation:\n",
      "  PSID => 0.461\n",
      "Behavior decoding evaluation:\n",
      "  PSID => 0.521\n",
      "Behavior decoding evaluation:\n",
      "  PSID => 0.534\n",
      "Behavior decoding evaluation:\n",
      "  PSID => 0.414\n",
      "Behavior decoding evaluation:\n",
      "  PSID => 0.563\n",
      "Behavior decoding evaluation:\n",
      "  PSID => 0.466\n",
      "Behavior decoding evaluation:\n",
      "  PSID => 0.543\n",
      "Behavior decoding evaluation:\n",
      "  PSID => 0.548\n",
      "Behavior decoding evaluation:\n",
      "  PSID => 0.419\n",
      "Behavior decoding evaluation:\n",
      "  PSID => 0.566\n",
      "Behavior decoding evaluation:\n",
      "  PSID => 0.474\n",
      "Behavior decoding evaluation:\n",
      "  PSID => 0.527\n",
      "Behavior decoding evaluation:\n",
      "  PSID => 0.55\n",
      "Behavior decoding evaluation:\n",
      "  PSID => 0.42\n",
      "Behavior decoding evaluation:\n",
      "  PSID => 0.56\n",
      "Behavior decoding evaluation:\n",
      "  PSID => 0.474\n",
      "Behavior decoding evaluation:\n",
      "  PSID => 0.534\n",
      "Behavior decoding evaluation:\n",
      "  PSID => 0.532\n",
      "Behavior decoding evaluation:\n",
      "  PSID => 0.417\n",
      "Behavior decoding evaluation:\n",
      "  PSID => 0.566\n",
      "Behavior decoding evaluation:\n",
      "  PSID => 0.476\n",
      "Behavior decoding evaluation:\n",
      "  PSID => 0.532\n",
      "Behavior decoding evaluation:\n",
      "  PSID => 0.552\n",
      "Behavior decoding evaluation:\n",
      "  PSID => 0.419\n",
      "Behavior decoding evaluation:\n",
      "  PSID => 0.568\n",
      "Behavior decoding evaluation:\n",
      "  PSID => 0.48\n",
      "Behavior decoding evaluation:\n",
      "  PSID => 0.533\n",
      "Behavior decoding evaluation:\n",
      "  PSID => 0.55\n",
      "Behavior decoding evaluation:\n",
      "  PSID => 0.418\n",
      "Behavior decoding evaluation:\n",
      "  PSID => 0.564\n",
      "Behavior decoding evaluation:\n",
      "  PSID => 0.485\n",
      "Behavior decoding evaluation:\n",
      "  PSID => 0.529\n",
      "Behavior decoding evaluation:\n",
      "  PSID => 0.548\n",
      "Behavior decoding evaluation:\n",
      "  PSID => 0.414\n",
      "Behavior decoding evaluation:\n",
      "  PSID => 0.56\n",
      "Behavior decoding evaluation:\n",
      "  PSID => 0.482\n",
      "Behavior decoding evaluation:\n",
      "  PSID => 0.529\n",
      "Behavior decoding evaluation:\n",
      "  PSID => 0.547\n",
      "Behavior decoding evaluation:\n",
      "  PSID => 0.413\n",
      "Behavior decoding evaluation:\n",
      "  PSID => 0.558\n",
      "Behavior decoding evaluation:\n",
      "  PSID => 0.48\n",
      "Behavior decoding evaluation:\n",
      "  PSID => 0.53\n",
      "Behavior decoding evaluation:\n",
      "  PSID => 0.546\n",
      "Behavior decoding evaluation:\n",
      "  PSID => 0.412\n",
      "Behavior decoding evaluation:\n",
      "  PSID => 0.558\n",
      "Behavior decoding evaluation:\n",
      "  PSID => 0.479\n",
      "Behavior decoding evaluation:\n",
      "  PSID => 0.524\n",
      "Behavior decoding evaluation:\n",
      "  PSID => 0.543\n",
      "Behavior decoding evaluation:\n",
      "  PSID => 0.416\n",
      "Behavior decoding evaluation:\n",
      "  PSID => 0.558\n",
      "Behavior decoding evaluation:\n",
      "  PSID => 0.479\n",
      "Behavior decoding evaluation:\n",
      "  PSID => 0.522\n",
      "Behavior decoding evaluation:\n",
      "  PSID => 0.544\n"
     ]
    }
   ],
   "source": [
    "i_s = [30, 40, 50]\n",
    "evals = []\n",
    "behavior_dims_latents =[]\n",
    "for i in i_s:\n",
    "    eval,behavior_dims_latent = explore_latent_behavior_dims(neural = feature_df_bandpass, behavior= behavior_df, k_folds=5, n_dims=15, max_dim=30,i=i, cv_eval='R2')\n",
    "    evals.append(eval)\n",
    "    behavior_dims_latents.append(behavior_dims_latent)\n"
   ],
   "metadata": {
    "collapsed": false,
    "pycharm": {
     "name": "#%%\n"
    }
   }
  },
  {
   "cell_type": "code",
   "execution_count": 18,
   "outputs": [
    {
     "data": {
      "text/plain": "<Figure size 640x480 with 1 Axes>",
      "image/png": "[encoded data removed]"
     },
     "metadata": {},
     "output_type": "display_data"
    }
   ],
   "source": [
    "metrics = \"R2\"\n",
    "feature_type = \"bandpass activity\"\n",
    "channel_type = 'STN and ECOG'\n",
    "for j in range(len(i_s)):\n",
    "        plt.plot(behavior_dims_latents[j], np.mean(evals[j], axis=1), label=\"i = {}\".format(i_s[j]))\n",
    "        plt.fill_between(behavior_dims_latents[j],\n",
    "                         np.mean(evals[j], axis=1) - np.std(evals[j], axis=1),\n",
    "                         np.mean(evals[j], axis=1) + np.std(evals[j], axis=1),\n",
    "                         alpha=0.5)\n",
    "plt.axhline(y=xgboost_mean_r2_bandpass, color='black', linestyle='-', label='XGBOOST')\n",
    "plt.axhline(y=xgboost_mean_r2_bandpass + xgboost_std_r2_bandpass, color='black', linestyle='-.',\n",
    "            label='XGBOOST + std', alpha=0.6)\n",
    "plt.axhline(y=xgboost_mean_r2_bandpass - xgboost_std_r2_bandpass, color='black', linestyle='-.',\n",
    "            label='XGBOOST - std', alpha=0.6)\n",
    "plt.ylim(0, 1)\n",
    "plt.ylabel(\"Decoding \" + metrics, fontsize=12)\n",
    "plt.xlabel(\"State dimension\", fontsize=12)\n",
    "plt.legend()\n",
    "plt.title(\n",
    "    \"Decoding \" + metrics + \" of behavior from neural activity \\nfor \" + feature_type + \" from \" + channel_type,\n",
    "    fontsize=12)\n",
    "plt.show()"
   ],
   "metadata": {
    "collapsed": false,
    "pycharm": {
     "name": "#%%\n"
    }
   }
  },
  {
   "cell_type": "code",
   "execution_count": 17,
   "outputs": [
    {
     "data": {
      "text/plain": "<Figure size 640x480 with 1 Axes>",
      "image/png": "[encoded data removed]"
     },
     "metadata": {},
     "output_type": "display_data"
    }
   ],
   "source": [
    "plot_explorations(evals, behavior_dims_latent, i_s,xgboost_mean=xgboost_mean_r2_bandpass, xgboost_std=xgboost_std_r2_bandpass)"
   ],
   "metadata": {
    "collapsed": false,
    "pycharm": {
     "name": "#%%\n"
    }
   }
  },
  {
   "cell_type": "markdown",
   "source": [
    "# Explore FFT features"
   ],
   "metadata": {
    "collapsed": false,
    "pycharm": {
     "name": "#%% md\n"
    }
   }
  },
  {
   "cell_type": "code",
   "execution_count": 4,
   "outputs": [],
   "source": [
    "feature_df_fft = pd.concat([data_features.filter(like='LFP'),data_features.filter(like='ECOG')], axis = 1).filter(like='fft').to_numpy()\n",
    "behavior_df = data_features[\"MOV_LEFT_CLEAN\"].to_numpy().reshape(-1, 1)"
   ],
   "metadata": {
    "collapsed": false,
    "pycharm": {
     "name": "#%%\n"
    }
   }
  },
  {
   "cell_type": "markdown",
   "source": [
    "Cross validation results from XGBOOST with $R^{2}$ for FFT features:\n",
    "mean $R^{2}$ = 0.77\n",
    "std = 0.06"
   ],
   "metadata": {
    "collapsed": false
   }
  },
  {
   "cell_type": "code",
   "execution_count": 5,
   "outputs": [],
   "source": [
    "xgboost_mean_r2_fft = 0.77\n",
    "xgboost_std_r2_fft = 0.03"
   ],
   "metadata": {
    "collapsed": false,
    "pycharm": {
     "name": "#%%\n"
    }
   }
  },
  {
   "cell_type": "code",
   "execution_count": 6,
   "outputs": [
    {
     "name": "stdout",
     "output_type": "stream",
     "text": [
      "Behavior decoding evaluation:\n",
      "  PSID => 0.164\n",
      "Behavior decoding evaluation:\n",
      "  PSID => 0.14\n",
      "Behavior decoding evaluation:\n",
      "  PSID => 0.13\n",
      "Behavior decoding evaluation:\n",
      "  PSID => 0.017\n",
      "Behavior decoding evaluation:\n",
      "  PSID => 0.242\n",
      "Behavior decoding evaluation:\n",
      "  PSID => 0.431\n",
      "Behavior decoding evaluation:\n",
      "  PSID => 0.404\n",
      "Behavior decoding evaluation:\n",
      "  PSID => 0.396\n",
      "Behavior decoding evaluation:\n",
      "  PSID => 0.349\n",
      "Behavior decoding evaluation:\n",
      "  PSID => 0.295\n",
      "Behavior decoding evaluation:\n",
      "  PSID => 0.51\n",
      "Behavior decoding evaluation:\n",
      "  PSID => 0.539\n",
      "Behavior decoding evaluation:\n",
      "  PSID => 0.495\n",
      "Behavior decoding evaluation:\n",
      "  PSID => 0.503\n",
      "Behavior decoding evaluation:\n",
      "  PSID => 0.438\n",
      "Behavior decoding evaluation:\n",
      "  PSID => 0.519\n",
      "Behavior decoding evaluation:\n",
      "  PSID => 0.528\n",
      "Behavior decoding evaluation:\n",
      "  PSID => 0.504\n",
      "Behavior decoding evaluation:\n",
      "  PSID => 0.521\n",
      "Behavior decoding evaluation:\n",
      "  PSID => 0.454\n",
      "Behavior decoding evaluation:\n",
      "  PSID => 0.506\n",
      "Behavior decoding evaluation:\n",
      "  PSID => 0.534\n",
      "Behavior decoding evaluation:\n",
      "  PSID => 0.495\n",
      "Behavior decoding evaluation:\n",
      "  PSID => 0.519\n",
      "Behavior decoding evaluation:\n",
      "  PSID => 0.462\n",
      "Behavior decoding evaluation:\n",
      "  PSID => 0.504\n",
      "Behavior decoding evaluation:\n",
      "  PSID => 0.535\n",
      "Behavior decoding evaluation:\n",
      "  PSID => 0.493\n",
      "Behavior decoding evaluation:\n",
      "  PSID => 0.53\n",
      "Behavior decoding evaluation:\n",
      "  PSID => 0.47\n",
      "Behavior decoding evaluation:\n",
      "  PSID => 0.494\n",
      "Behavior decoding evaluation:\n",
      "  PSID => 0.532\n",
      "Behavior decoding evaluation:\n",
      "  PSID => 0.497\n",
      "Behavior decoding evaluation:\n",
      "  PSID => 0.528\n",
      "Behavior decoding evaluation:\n",
      "  PSID => 0.465\n",
      "Behavior decoding evaluation:\n",
      "  PSID => 0.492\n",
      "Behavior decoding evaluation:\n",
      "  PSID => 0.524\n",
      "Behavior decoding evaluation:\n",
      "  PSID => 0.498\n",
      "Behavior decoding evaluation:\n",
      "  PSID => 0.53\n",
      "Behavior decoding evaluation:\n",
      "  PSID => 0.45\n",
      "Behavior decoding evaluation:\n",
      "  PSID => 0.485\n",
      "Behavior decoding evaluation:\n",
      "  PSID => 0.524\n",
      "Behavior decoding evaluation:\n",
      "  PSID => 0.493\n",
      "Behavior decoding evaluation:\n",
      "  PSID => 0.525\n",
      "Behavior decoding evaluation:\n",
      "  PSID => 0.453\n",
      "Behavior decoding evaluation:\n",
      "  PSID => 0.48\n",
      "Behavior decoding evaluation:\n",
      "  PSID => 0.518\n",
      "Behavior decoding evaluation:\n",
      "  PSID => 0.494\n",
      "Behavior decoding evaluation:\n",
      "  PSID => 0.525\n",
      "Behavior decoding evaluation:\n",
      "  PSID => 0.452\n",
      "Behavior decoding evaluation:\n",
      "  PSID => 0.485\n",
      "Behavior decoding evaluation:\n",
      "  PSID => 0.515\n",
      "Behavior decoding evaluation:\n",
      "  PSID => 0.487\n",
      "Behavior decoding evaluation:\n",
      "  PSID => 0.522\n",
      "Behavior decoding evaluation:\n",
      "  PSID => 0.446\n",
      "Behavior decoding evaluation:\n",
      "  PSID => 0.472\n",
      "Behavior decoding evaluation:\n",
      "  PSID => 0.504\n",
      "Behavior decoding evaluation:\n",
      "  PSID => 0.474\n",
      "Behavior decoding evaluation:\n",
      "  PSID => 0.531\n",
      "Behavior decoding evaluation:\n",
      "  PSID => 0.42\n",
      "Behavior decoding evaluation:\n",
      "  PSID => 0.47\n",
      "Behavior decoding evaluation:\n",
      "  PSID => 0.49\n",
      "Behavior decoding evaluation:\n",
      "  PSID => 0.478\n",
      "Behavior decoding evaluation:\n",
      "  PSID => 0.53\n",
      "Behavior decoding evaluation:\n",
      "  PSID => 0.412\n",
      "Behavior decoding evaluation:\n",
      "  PSID => 0.445\n",
      "Behavior decoding evaluation:\n",
      "  PSID => 0.507\n",
      "Behavior decoding evaluation:\n",
      "  PSID => 0.492\n",
      "Behavior decoding evaluation:\n",
      "  PSID => 0.484\n",
      "Behavior decoding evaluation:\n",
      "  PSID => 0.449\n",
      "Behavior decoding evaluation:\n",
      "  PSID => 0.516\n",
      "Behavior decoding evaluation:\n",
      "  PSID => 0.545\n",
      "Behavior decoding evaluation:\n",
      "  PSID => 0.53\n",
      "Behavior decoding evaluation:\n",
      "  PSID => 0.56\n",
      "Behavior decoding evaluation:\n",
      "  PSID => 0.487\n",
      "Behavior decoding evaluation:\n",
      "  PSID => -0.0192\n",
      "Behavior decoding evaluation:\n",
      "  PSID => 0.047\n",
      "Behavior decoding evaluation:\n",
      "  PSID => 0.0283\n",
      "Behavior decoding evaluation:\n",
      "  PSID => -0.131\n",
      "Behavior decoding evaluation:\n",
      "  PSID => -0.00928\n",
      "Behavior decoding evaluation:\n",
      "  PSID => 0.0351\n",
      "Behavior decoding evaluation:\n",
      "  PSID => 0.0328\n",
      "Behavior decoding evaluation:\n",
      "  PSID => -0.104\n",
      "Behavior decoding evaluation:\n",
      "  PSID => -0.208\n",
      "Behavior decoding evaluation:\n",
      "  PSID => -0.152\n",
      "Behavior decoding evaluation:\n",
      "  PSID => 0.204\n",
      "Behavior decoding evaluation:\n",
      "  PSID => 0.244\n",
      "Behavior decoding evaluation:\n",
      "  PSID => 0.0545\n",
      "Behavior decoding evaluation:\n",
      "  PSID => 0.164\n",
      "Behavior decoding evaluation:\n",
      "  PSID => 0.174\n",
      "Behavior decoding evaluation:\n",
      "  PSID => 0.368\n",
      "Behavior decoding evaluation:\n",
      "  PSID => 0.386\n",
      "Behavior decoding evaluation:\n",
      "  PSID => 0.273\n",
      "Behavior decoding evaluation:\n",
      "  PSID => 0.376\n",
      "Behavior decoding evaluation:\n",
      "  PSID => 0.345\n",
      "Behavior decoding evaluation:\n",
      "  PSID => 0.381\n",
      "Behavior decoding evaluation:\n",
      "  PSID => 0.404\n",
      "Behavior decoding evaluation:\n",
      "  PSID => 0.285\n",
      "Behavior decoding evaluation:\n",
      "  PSID => 0.388\n",
      "Behavior decoding evaluation:\n",
      "  PSID => 0.346\n",
      "Behavior decoding evaluation:\n",
      "  PSID => 0.368\n",
      "Behavior decoding evaluation:\n",
      "  PSID => 0.412\n",
      "Behavior decoding evaluation:\n",
      "  PSID => 0.289\n",
      "Behavior decoding evaluation:\n",
      "  PSID => 0.387\n",
      "Behavior decoding evaluation:\n",
      "  PSID => 0.362\n",
      "Behavior decoding evaluation:\n",
      "  PSID => 0.397\n",
      "Behavior decoding evaluation:\n",
      "  PSID => 0.406\n",
      "Behavior decoding evaluation:\n",
      "  PSID => 0.316\n",
      "Behavior decoding evaluation:\n",
      "  PSID => 0.415\n",
      "Behavior decoding evaluation:\n",
      "  PSID => 0.369\n",
      "Behavior decoding evaluation:\n",
      "  PSID => 0.411\n",
      "Behavior decoding evaluation:\n",
      "  PSID => 0.427\n",
      "Behavior decoding evaluation:\n",
      "  PSID => 0.328\n",
      "Behavior decoding evaluation:\n",
      "  PSID => 0.423\n",
      "Behavior decoding evaluation:\n",
      "  PSID => 0.413\n",
      "Behavior decoding evaluation:\n",
      "  PSID => 0.386\n",
      "Behavior decoding evaluation:\n",
      "  PSID => 0.428\n",
      "Behavior decoding evaluation:\n",
      "  PSID => 0.323\n",
      "Behavior decoding evaluation:\n",
      "  PSID => 0.411\n",
      "Behavior decoding evaluation:\n",
      "  PSID => 0.397\n",
      "Behavior decoding evaluation:\n",
      "  PSID => 0.409\n",
      "Behavior decoding evaluation:\n",
      "  PSID => 0.427\n",
      "Behavior decoding evaluation:\n",
      "  PSID => 0.318\n",
      "Behavior decoding evaluation:\n",
      "  PSID => 0.409\n",
      "Behavior decoding evaluation:\n",
      "  PSID => 0.395\n",
      "Behavior decoding evaluation:\n",
      "  PSID => 0.41\n",
      "Behavior decoding evaluation:\n",
      "  PSID => 0.424\n",
      "Behavior decoding evaluation:\n",
      "  PSID => 0.317\n",
      "Behavior decoding evaluation:\n",
      "  PSID => 0.409\n",
      "Behavior decoding evaluation:\n",
      "  PSID => 0.402\n",
      "Behavior decoding evaluation:\n",
      "  PSID => 0.399\n",
      "Behavior decoding evaluation:\n",
      "  PSID => 0.424\n",
      "Behavior decoding evaluation:\n",
      "  PSID => 0.31\n",
      "Behavior decoding evaluation:\n",
      "  PSID => 0.402\n",
      "Behavior decoding evaluation:\n",
      "  PSID => 0.396\n",
      "Behavior decoding evaluation:\n",
      "  PSID => 0.378\n",
      "Behavior decoding evaluation:\n",
      "  PSID => 0.422\n",
      "Behavior decoding evaluation:\n",
      "  PSID => 0.306\n",
      "Behavior decoding evaluation:\n",
      "  PSID => 0.409\n",
      "Behavior decoding evaluation:\n",
      "  PSID => 0.382\n",
      "Behavior decoding evaluation:\n",
      "  PSID => 0.384\n",
      "Behavior decoding evaluation:\n",
      "  PSID => 0.424\n",
      "Behavior decoding evaluation:\n",
      "  PSID => 0.306\n",
      "Behavior decoding evaluation:\n",
      "  PSID => 0.406\n",
      "Behavior decoding evaluation:\n",
      "  PSID => 0.381\n",
      "Behavior decoding evaluation:\n",
      "  PSID => 0.384\n",
      "Behavior decoding evaluation:\n",
      "  PSID => 0.414\n",
      "Behavior decoding evaluation:\n",
      "  PSID => 0.297\n",
      "Behavior decoding evaluation:\n",
      "  PSID => 0.394\n",
      "Behavior decoding evaluation:\n",
      "  PSID => 0.371\n",
      "Behavior decoding evaluation:\n",
      "  PSID => 0.0358\n",
      "Behavior decoding evaluation:\n",
      "  PSID => 0.0217\n",
      "Behavior decoding evaluation:\n",
      "  PSID => 0.0212\n",
      "Behavior decoding evaluation:\n",
      "  PSID => -0.11\n",
      "Behavior decoding evaluation:\n",
      "  PSID => -0.0109\n",
      "Behavior decoding evaluation:\n",
      "  PSID => -0.0523\n",
      "Behavior decoding evaluation:\n",
      "  PSID => -0.12\n",
      "Behavior decoding evaluation:\n",
      "  PSID => -0.203\n",
      "Behavior decoding evaluation:\n",
      "  PSID => -0.253\n",
      "Behavior decoding evaluation:\n",
      "  PSID => -0.107\n",
      "Behavior decoding evaluation:\n",
      "  PSID => 0.0805\n",
      "Behavior decoding evaluation:\n",
      "  PSID => 0.0626\n",
      "Behavior decoding evaluation:\n",
      "  PSID => -0.0986\n",
      "Behavior decoding evaluation:\n",
      "  PSID => -0.0749\n",
      "Behavior decoding evaluation:\n",
      "  PSID => -0.0284\n",
      "Behavior decoding evaluation:\n",
      "  PSID => 0.233\n",
      "Behavior decoding evaluation:\n",
      "  PSID => 0.274\n",
      "Behavior decoding evaluation:\n",
      "  PSID => 0.124\n",
      "Behavior decoding evaluation:\n",
      "  PSID => 0.214\n",
      "Behavior decoding evaluation:\n",
      "  PSID => 0.223\n",
      "Behavior decoding evaluation:\n",
      "  PSID => 0.346\n",
      "Behavior decoding evaluation:\n",
      "  PSID => 0.338\n",
      "Behavior decoding evaluation:\n",
      "  PSID => 0.239\n",
      "Behavior decoding evaluation:\n",
      "  PSID => 0.338\n",
      "Behavior decoding evaluation:\n",
      "  PSID => 0.307\n",
      "Behavior decoding evaluation:\n",
      "  PSID => 0.362\n",
      "Behavior decoding evaluation:\n",
      "  PSID => 0.341\n",
      "Behavior decoding evaluation:\n",
      "  PSID => 0.246\n",
      "Behavior decoding evaluation:\n",
      "  PSID => 0.387\n",
      "Behavior decoding evaluation:\n",
      "  PSID => 0.316\n",
      "Behavior decoding evaluation:\n",
      "  PSID => 0.359\n",
      "Behavior decoding evaluation:\n",
      "  PSID => 0.379\n",
      "Behavior decoding evaluation:\n",
      "  PSID => 0.263\n",
      "Behavior decoding evaluation:\n",
      "  PSID => 0.354\n",
      "Behavior decoding evaluation:\n",
      "  PSID => 0.325\n",
      "Behavior decoding evaluation:\n",
      "  PSID => 0.333\n",
      "Behavior decoding evaluation:\n",
      "  PSID => 0.386\n",
      "Behavior decoding evaluation:\n",
      "  PSID => 0.269\n",
      "Behavior decoding evaluation:\n",
      "  PSID => 0.347\n",
      "Behavior decoding evaluation:\n",
      "  PSID => 0.327\n",
      "Behavior decoding evaluation:\n",
      "  PSID => 0.371\n",
      "Behavior decoding evaluation:\n",
      "  PSID => 0.393\n",
      "Behavior decoding evaluation:\n",
      "  PSID => 0.286\n",
      "Behavior decoding evaluation:\n",
      "  PSID => 0.39\n",
      "Behavior decoding evaluation:\n",
      "  PSID => 0.33\n",
      "Behavior decoding evaluation:\n",
      "  PSID => 0.387\n",
      "Behavior decoding evaluation:\n",
      "  PSID => 0.405\n",
      "Behavior decoding evaluation:\n",
      "  PSID => 0.298\n",
      "Behavior decoding evaluation:\n",
      "  PSID => 0.398\n",
      "Behavior decoding evaluation:\n",
      "  PSID => 0.343\n",
      "Behavior decoding evaluation:\n",
      "  PSID => 0.367\n",
      "Behavior decoding evaluation:\n",
      "  PSID => 0.398\n",
      "Behavior decoding evaluation:\n",
      "  PSID => 0.281\n",
      "Behavior decoding evaluation:\n",
      "  PSID => 0.404\n",
      "Behavior decoding evaluation:\n",
      "  PSID => 0.343\n",
      "Behavior decoding evaluation:\n",
      "  PSID => 0.381\n",
      "Behavior decoding evaluation:\n",
      "  PSID => 0.404\n",
      "Behavior decoding evaluation:\n",
      "  PSID => 0.284\n",
      "Behavior decoding evaluation:\n",
      "  PSID => 0.404\n",
      "Behavior decoding evaluation:\n",
      "  PSID => 0.346\n",
      "Behavior decoding evaluation:\n",
      "  PSID => 0.392\n",
      "Behavior decoding evaluation:\n",
      "  PSID => 0.398\n",
      "Behavior decoding evaluation:\n",
      "  PSID => 0.29\n",
      "Behavior decoding evaluation:\n",
      "  PSID => 0.387\n",
      "Behavior decoding evaluation:\n",
      "  PSID => 0.356\n",
      "Behavior decoding evaluation:\n",
      "  PSID => 0.386\n",
      "Behavior decoding evaluation:\n",
      "  PSID => 0.389\n",
      "Behavior decoding evaluation:\n",
      "  PSID => 0.299\n",
      "Behavior decoding evaluation:\n",
      "  PSID => 0.405\n",
      "Behavior decoding evaluation:\n",
      "  PSID => 0.352\n",
      "Behavior decoding evaluation:\n",
      "  PSID => 0.377\n",
      "Behavior decoding evaluation:\n",
      "  PSID => 0.395\n",
      "Behavior decoding evaluation:\n",
      "  PSID => 0.29\n",
      "Behavior decoding evaluation:\n",
      "  PSID => 0.403\n",
      "Behavior decoding evaluation:\n",
      "  PSID => 0.351\n"
     ]
    }
   ],
   "source": [
    "i_s = [30, 40, 50]\n",
    "evals_fft = []\n",
    "for i in i_s:\n",
    "    eval,behavior_dims_latent = explore_latent_behavior_dims(neural = feature_df_fft, behavior= behavior_df, k_folds=5, n_dims=15, max_dim=30,i=i, cv_eval='R2')\n",
    "    evals_fft.append(eval)\n"
   ],
   "metadata": {
    "collapsed": false,
    "pycharm": {
     "name": "#%%\n"
    }
   }
  },
  {
   "cell_type": "code",
   "execution_count": 7,
   "outputs": [
    {
     "data": {
      "text/plain": "<Figure size 640x480 with 1 Axes>",
      "image/png": "[encoded data removed]"
     },
     "metadata": {},
     "output_type": "display_data"
    }
   ],
   "source": [
    "plot_explorations(evals_fft, behavior_dims_latent, i_s,xgboost_mean=xgboost_mean_r2_fft, xgboost_std=xgboost_std_r2_fft, feature_type='FFT')"
   ],
   "metadata": {
    "collapsed": false,
    "pycharm": {
     "name": "#%%\n"
    }
   }
  },
  {
   "cell_type": "markdown",
   "source": [
    "# Explore Sharpwave features"
   ],
   "metadata": {
    "collapsed": false
   }
  },
  {
   "cell_type": "code",
   "execution_count": 8,
   "outputs": [],
   "source": [
    "feature_df_sw = data_features.filter(like='ECOG').filter(like='Sharpwave_Mean').to_numpy()[1:]\n",
    "behavior_df = data_features[\"MOV_LEFT_CLEAN\"].to_numpy().reshape(-1, 1)[1:]"
   ],
   "metadata": {
    "collapsed": false,
    "pycharm": {
     "name": "#%%\n"
    }
   }
  },
  {
   "cell_type": "code",
   "execution_count": 8,
   "outputs": [
    {
     "data": {
      "text/plain": "Index(['ECOG_RIGHT_4-avgref_Sharpwave_Mean_peak_left_range_5_80',\n       'ECOG_RIGHT_4-avgref_Sharpwave_Mean_peak_right_range_5_80',\n       'ECOG_RIGHT_4-avgref_Sharpwave_Mean_trough_range_5_80',\n       'ECOG_RIGHT_4-avgref_Sharpwave_Mean_width_range_5_80',\n       'ECOG_RIGHT_4-avgref_Sharpwave_Mean_prominence_range_5_80',\n       'ECOG_RIGHT_4-avgref_Sharpwave_Mean_interval_range_5_80',\n       'ECOG_RIGHT_4-avgref_Sharpwave_Mean_decay_time_range_5_80',\n       'ECOG_RIGHT_4-avgref_Sharpwave_Mean_rise_time_range_5_80',\n       'ECOG_RIGHT_4-avgref_Sharpwave_Mean_sharpness_range_5_80',\n       'ECOG_RIGHT_4-avgref_Sharpwave_Mean_rise_steepness_range_5_80',\n       'ECOG_RIGHT_4-avgref_Sharpwave_Mean_decay_steepness_range_5_80',\n       'ECOG_RIGHT_4-avgref_Sharpwave_Mean_slope_ratio_range_5_80',\n       'ECOG_RIGHT_4-avgref_Sharpwave_Mean_peak_left_range_5_30',\n       'ECOG_RIGHT_4-avgref_Sharpwave_Mean_peak_right_range_5_30',\n       'ECOG_RIGHT_4-avgref_Sharpwave_Mean_trough_range_5_30',\n       'ECOG_RIGHT_4-avgref_Sharpwave_Mean_width_range_5_30',\n       'ECOG_RIGHT_4-avgref_Sharpwave_Mean_prominence_range_5_30',\n       'ECOG_RIGHT_4-avgref_Sharpwave_Mean_interval_range_5_30',\n       'ECOG_RIGHT_4-avgref_Sharpwave_Mean_decay_time_range_5_30',\n       'ECOG_RIGHT_4-avgref_Sharpwave_Mean_rise_time_range_5_30',\n       'ECOG_RIGHT_4-avgref_Sharpwave_Mean_sharpness_range_5_30',\n       'ECOG_RIGHT_4-avgref_Sharpwave_Mean_rise_steepness_range_5_30',\n       'ECOG_RIGHT_4-avgref_Sharpwave_Mean_decay_steepness_range_5_30',\n       'ECOG_RIGHT_4-avgref_Sharpwave_Mean_slope_ratio_range_5_30'],\n      dtype='object')"
     },
     "execution_count": 8,
     "metadata": {},
     "output_type": "execute_result"
    }
   ],
   "source": [
    "data_features.filter(like='ECOG_RIGHT_4').filter(like='Sharpwave_Mean').keys()"
   ],
   "metadata": {
    "collapsed": false,
    "pycharm": {
     "name": "#%%\n"
    }
   }
  },
  {
   "cell_type": "code",
   "execution_count": null,
   "outputs": [],
   "source": [
    "i_s = [30, 40, 50]\n",
    "evals_sw = []\n",
    "for i in i_s:\n",
    "    eval,behavior_dims_latent_sw = explore_latent_behavior_dims(neural = feature_df_sw, behavior= behavior_df, k_folds=5, n_dims=15, max_dim=30,i=i, cv_eval='R2')\n",
    "    evals_sw.append(eval)\n"
   ],
   "metadata": {
    "collapsed": false,
    "pycharm": {
     "name": "#%%\n"
    }
   }
  },
  {
   "cell_type": "code",
   "execution_count": 6,
   "outputs": [
    {
     "data": {
      "text/plain": "<Figure size 640x480 with 1 Axes>",
      "image/png": "[encoded data removed]"
     },
     "metadata": {},
     "output_type": "display_data"
    }
   ],
   "source": [
    "plot_explorations(evals_sw, behavior_dims_latent_sw, i_s,plot_xgboost=False, feature_type='sharpwave',channel_type='ECOG_RIGHT_4')"
   ],
   "metadata": {
    "collapsed": false,
    "pycharm": {
     "name": "#%%\n"
    }
   }
  },
  {
   "cell_type": "markdown",
   "source": [
    "# Explore bursts"
   ],
   "metadata": {
    "collapsed": false,
    "pycharm": {
     "name": "#%% md\n"
    }
   }
  },
  {
   "cell_type": "code",
   "execution_count": 9,
   "outputs": [],
   "source": [
    "feature_df_burst = pd.concat([data_features.filter(like='LFP'),data_features.filter(like='ECOG')], axis = 1).filter(like='bursts_low beta').to_numpy()[1:]\n",
    "behavior_df = data_features[\"MOV_LEFT_CLEAN\"].to_numpy().reshape(-1, 1)[1:]"
   ],
   "metadata": {
    "collapsed": false,
    "pycharm": {
     "name": "#%%\n"
    }
   }
  },
  {
   "cell_type": "code",
   "execution_count": 10,
   "outputs": [
    {
     "name": "stdout",
     "output_type": "stream",
     "text": [
      "Behavior decoding evaluation:\n",
      "  PSID => 0.0512\n",
      "Behavior decoding evaluation:\n",
      "  PSID => 0.035\n",
      "Behavior decoding evaluation:\n",
      "  PSID => 0.104\n",
      "Behavior decoding evaluation:\n",
      "  PSID => 0.0747\n",
      "Behavior decoding evaluation:\n",
      "  PSID => 0.123\n",
      "Behavior decoding evaluation:\n",
      "  PSID => -0.00271\n",
      "Behavior decoding evaluation:\n",
      "  PSID => -0.0222\n",
      "Behavior decoding evaluation:\n",
      "  PSID => 0.171\n",
      "Behavior decoding evaluation:\n",
      "  PSID => 0.15\n",
      "Behavior decoding evaluation:\n",
      "  PSID => 0.116\n",
      "Could not solve DARE: Reordering of (A, B) failed because the transformed matrix pair (A, B) would be too far from generalized Schur form; the problem is very ill-conditioned. (A, B) may have been partially reordered.\n"
     ]
    },
    {
     "name": "stderr",
     "output_type": "stream",
     "text": [
      "/home/lauraflyra/anaconda3/envs/Code/lib/python3.10/site-packages/PSID/LSSM.py:212: UserWarning: Steady state Kalman gain not available. Will perform non-steady-state Kalman.\n",
      "  warnings.warn('Steady state Kalman gain not available. Will perform non-steady-state Kalman.')\n"
     ]
    },
    {
     "name": "stdout",
     "output_type": "stream",
     "text": [
      "Behavior decoding evaluation:\n",
      "  PSID => -0.0309\n",
      "Could not solve DARE: The associated symplectic pencil has eigenvaluestoo close to the unit circle\n"
     ]
    },
    {
     "name": "stderr",
     "output_type": "stream",
     "text": [
      "/home/lauraflyra/anaconda3/envs/Code/lib/python3.10/site-packages/PSID/LSSM.py:212: UserWarning: Steady state Kalman gain not available. Will perform non-steady-state Kalman.\n",
      "  warnings.warn('Steady state Kalman gain not available. Will perform non-steady-state Kalman.')\n"
     ]
    },
    {
     "name": "stdout",
     "output_type": "stream",
     "text": [
      "Behavior decoding evaluation:\n",
      "  PSID => 0.0117\n",
      "Could not solve DARE: The associated symplectic pencil has eigenvaluestoo close to the unit circle\n"
     ]
    },
    {
     "name": "stderr",
     "output_type": "stream",
     "text": [
      "/home/lauraflyra/anaconda3/envs/Code/lib/python3.10/site-packages/PSID/LSSM.py:212: UserWarning: Steady state Kalman gain not available. Will perform non-steady-state Kalman.\n",
      "  warnings.warn('Steady state Kalman gain not available. Will perform non-steady-state Kalman.')\n"
     ]
    },
    {
     "name": "stdout",
     "output_type": "stream",
     "text": [
      "Behavior decoding evaluation:\n",
      "  PSID => 0.178\n",
      "Could not solve DARE: The associated symplectic pencil has eigenvaluestoo close to the unit circle\n"
     ]
    },
    {
     "name": "stderr",
     "output_type": "stream",
     "text": [
      "/home/lauraflyra/anaconda3/envs/Code/lib/python3.10/site-packages/PSID/LSSM.py:212: UserWarning: Steady state Kalman gain not available. Will perform non-steady-state Kalman.\n",
      "  warnings.warn('Steady state Kalman gain not available. Will perform non-steady-state Kalman.')\n"
     ]
    },
    {
     "name": "stdout",
     "output_type": "stream",
     "text": [
      "Behavior decoding evaluation:\n",
      "  PSID => 0.196\n",
      "Could not solve DARE: The associated symplectic pencil has eigenvaluestoo close to the unit circle\n"
     ]
    },
    {
     "name": "stderr",
     "output_type": "stream",
     "text": [
      "/home/lauraflyra/anaconda3/envs/Code/lib/python3.10/site-packages/PSID/LSSM.py:212: UserWarning: Steady state Kalman gain not available. Will perform non-steady-state Kalman.\n",
      "  warnings.warn('Steady state Kalman gain not available. Will perform non-steady-state Kalman.')\n"
     ]
    },
    {
     "name": "stdout",
     "output_type": "stream",
     "text": [
      "Behavior decoding evaluation:\n",
      "  PSID => 0.135\n",
      "Behavior decoding evaluation:\n",
      "  PSID => 0.0124\n",
      "Could not solve DARE: The associated symplectic pencil has eigenvaluestoo close to the unit circle\n"
     ]
    },
    {
     "name": "stderr",
     "output_type": "stream",
     "text": [
      "/home/lauraflyra/anaconda3/envs/Code/lib/python3.10/site-packages/PSID/LSSM.py:212: UserWarning: Steady state Kalman gain not available. Will perform non-steady-state Kalman.\n",
      "  warnings.warn('Steady state Kalman gain not available. Will perform non-steady-state Kalman.')\n"
     ]
    },
    {
     "name": "stdout",
     "output_type": "stream",
     "text": [
      "Behavior decoding evaluation:\n",
      "  PSID => 0.0133\n",
      "Behavior decoding evaluation:\n",
      "  PSID => 0.206\n",
      "Could not solve DARE: Reordering of (A, B) failed because the transformed matrix pair (A, B) would be too far from generalized Schur form; the problem is very ill-conditioned. (A, B) may have been partially reordered.\n"
     ]
    },
    {
     "name": "stderr",
     "output_type": "stream",
     "text": [
      "/home/lauraflyra/anaconda3/envs/Code/lib/python3.10/site-packages/PSID/LSSM.py:212: UserWarning: Steady state Kalman gain not available. Will perform non-steady-state Kalman.\n",
      "  warnings.warn('Steady state Kalman gain not available. Will perform non-steady-state Kalman.')\n"
     ]
    },
    {
     "name": "stdout",
     "output_type": "stream",
     "text": [
      "Behavior decoding evaluation:\n",
      "  PSID => 0.208\n",
      "Could not solve DARE: The associated symplectic pencil has eigenvaluestoo close to the unit circle\n"
     ]
    },
    {
     "name": "stderr",
     "output_type": "stream",
     "text": [
      "/home/lauraflyra/anaconda3/envs/Code/lib/python3.10/site-packages/PSID/LSSM.py:212: UserWarning: Steady state Kalman gain not available. Will perform non-steady-state Kalman.\n",
      "  warnings.warn('Steady state Kalman gain not available. Will perform non-steady-state Kalman.')\n"
     ]
    },
    {
     "name": "stdout",
     "output_type": "stream",
     "text": [
      "Behavior decoding evaluation:\n",
      "  PSID => 0.164\n",
      "Could not solve DARE: The associated symplectic pencil has eigenvaluestoo close to the unit circle\n"
     ]
    },
    {
     "name": "stderr",
     "output_type": "stream",
     "text": [
      "/home/lauraflyra/anaconda3/envs/Code/lib/python3.10/site-packages/PSID/LSSM.py:212: UserWarning: Steady state Kalman gain not available. Will perform non-steady-state Kalman.\n",
      "  warnings.warn('Steady state Kalman gain not available. Will perform non-steady-state Kalman.')\n"
     ]
    },
    {
     "name": "stdout",
     "output_type": "stream",
     "text": [
      "Behavior decoding evaluation:\n",
      "  PSID => -0.018\n",
      "Could not solve DARE: The associated symplectic pencil has eigenvaluestoo close to the unit circle\n"
     ]
    },
    {
     "name": "stderr",
     "output_type": "stream",
     "text": [
      "/home/lauraflyra/anaconda3/envs/Code/lib/python3.10/site-packages/PSID/LSSM.py:212: UserWarning: Steady state Kalman gain not available. Will perform non-steady-state Kalman.\n",
      "  warnings.warn('Steady state Kalman gain not available. Will perform non-steady-state Kalman.')\n"
     ]
    },
    {
     "name": "stdout",
     "output_type": "stream",
     "text": [
      "Behavior decoding evaluation:\n",
      "  PSID => 0.00366\n",
      "Could not solve DARE: The associated symplectic pencil has eigenvaluestoo close to the unit circle\n"
     ]
    },
    {
     "name": "stderr",
     "output_type": "stream",
     "text": [
      "/home/lauraflyra/anaconda3/envs/Code/lib/python3.10/site-packages/PSID/LSSM.py:212: UserWarning: Steady state Kalman gain not available. Will perform non-steady-state Kalman.\n",
      "  warnings.warn('Steady state Kalman gain not available. Will perform non-steady-state Kalman.')\n"
     ]
    },
    {
     "name": "stdout",
     "output_type": "stream",
     "text": [
      "Behavior decoding evaluation:\n",
      "  PSID => 0.191\n",
      "Could not solve DARE: The associated symplectic pencil has eigenvaluestoo close to the unit circle\n"
     ]
    },
    {
     "name": "stderr",
     "output_type": "stream",
     "text": [
      "/home/lauraflyra/anaconda3/envs/Code/lib/python3.10/site-packages/PSID/LSSM.py:212: UserWarning: Steady state Kalman gain not available. Will perform non-steady-state Kalman.\n",
      "  warnings.warn('Steady state Kalman gain not available. Will perform non-steady-state Kalman.')\n"
     ]
    },
    {
     "name": "stdout",
     "output_type": "stream",
     "text": [
      "Behavior decoding evaluation:\n",
      "  PSID => 0.202\n",
      "Could not solve DARE: The associated symplectic pencil has eigenvaluestoo close to the unit circle\n"
     ]
    },
    {
     "name": "stderr",
     "output_type": "stream",
     "text": [
      "/home/lauraflyra/anaconda3/envs/Code/lib/python3.10/site-packages/PSID/LSSM.py:212: UserWarning: Steady state Kalman gain not available. Will perform non-steady-state Kalman.\n",
      "  warnings.warn('Steady state Kalman gain not available. Will perform non-steady-state Kalman.')\n"
     ]
    },
    {
     "name": "stdout",
     "output_type": "stream",
     "text": [
      "Behavior decoding evaluation:\n",
      "  PSID => 0.162\n",
      "Could not solve DARE: The associated symplectic pencil has eigenvaluestoo close to the unit circle\n"
     ]
    },
    {
     "name": "stderr",
     "output_type": "stream",
     "text": [
      "/home/lauraflyra/anaconda3/envs/Code/lib/python3.10/site-packages/PSID/LSSM.py:212: UserWarning: Steady state Kalman gain not available. Will perform non-steady-state Kalman.\n",
      "  warnings.warn('Steady state Kalman gain not available. Will perform non-steady-state Kalman.')\n"
     ]
    },
    {
     "name": "stdout",
     "output_type": "stream",
     "text": [
      "Behavior decoding evaluation:\n",
      "  PSID => -0.13\n",
      "Could not solve DARE: Reordering of (A, B) failed because the transformed matrix pair (A, B) would be too far from generalized Schur form; the problem is very ill-conditioned. (A, B) may have been partially reordered.\n"
     ]
    },
    {
     "name": "stderr",
     "output_type": "stream",
     "text": [
      "/home/lauraflyra/anaconda3/envs/Code/lib/python3.10/site-packages/PSID/LSSM.py:212: UserWarning: Steady state Kalman gain not available. Will perform non-steady-state Kalman.\n",
      "  warnings.warn('Steady state Kalman gain not available. Will perform non-steady-state Kalman.')\n"
     ]
    },
    {
     "name": "stdout",
     "output_type": "stream",
     "text": [
      "Behavior decoding evaluation:\n",
      "  PSID => 0.0203\n",
      "Could not solve DARE: The associated symplectic pencil has eigenvaluestoo close to the unit circle\n"
     ]
    },
    {
     "name": "stderr",
     "output_type": "stream",
     "text": [
      "/home/lauraflyra/anaconda3/envs/Code/lib/python3.10/site-packages/PSID/LSSM.py:212: UserWarning: Steady state Kalman gain not available. Will perform non-steady-state Kalman.\n",
      "  warnings.warn('Steady state Kalman gain not available. Will perform non-steady-state Kalman.')\n"
     ]
    },
    {
     "name": "stdout",
     "output_type": "stream",
     "text": [
      "Behavior decoding evaluation:\n",
      "  PSID => 0.188\n",
      "Could not solve DARE: The associated symplectic pencil has eigenvaluestoo close to the unit circle\n"
     ]
    },
    {
     "name": "stderr",
     "output_type": "stream",
     "text": [
      "/home/lauraflyra/anaconda3/envs/Code/lib/python3.10/site-packages/PSID/LSSM.py:212: UserWarning: Steady state Kalman gain not available. Will perform non-steady-state Kalman.\n",
      "  warnings.warn('Steady state Kalman gain not available. Will perform non-steady-state Kalman.')\n"
     ]
    },
    {
     "name": "stdout",
     "output_type": "stream",
     "text": [
      "Behavior decoding evaluation:\n",
      "  PSID => 0.208\n",
      "Could not solve DARE: The associated symplectic pencil has eigenvaluestoo close to the unit circle\n"
     ]
    },
    {
     "name": "stderr",
     "output_type": "stream",
     "text": [
      "/home/lauraflyra/anaconda3/envs/Code/lib/python3.10/site-packages/PSID/LSSM.py:212: UserWarning: Steady state Kalman gain not available. Will perform non-steady-state Kalman.\n",
      "  warnings.warn('Steady state Kalman gain not available. Will perform non-steady-state Kalman.')\n"
     ]
    },
    {
     "name": "stdout",
     "output_type": "stream",
     "text": [
      "Behavior decoding evaluation:\n",
      "  PSID => 0.146\n",
      "Could not solve DARE: The associated symplectic pencil has eigenvaluestoo close to the unit circle\n"
     ]
    },
    {
     "name": "stderr",
     "output_type": "stream",
     "text": [
      "/home/lauraflyra/anaconda3/envs/Code/lib/python3.10/site-packages/PSID/LSSM.py:212: UserWarning: Steady state Kalman gain not available. Will perform non-steady-state Kalman.\n",
      "  warnings.warn('Steady state Kalman gain not available. Will perform non-steady-state Kalman.')\n"
     ]
    },
    {
     "name": "stdout",
     "output_type": "stream",
     "text": [
      "Behavior decoding evaluation:\n",
      "  PSID => -0.0595\n",
      "Could not solve DARE: Reordering of (A, B) failed because the transformed matrix pair (A, B) would be too far from generalized Schur form; the problem is very ill-conditioned. (A, B) may have been partially reordered.\n"
     ]
    },
    {
     "name": "stderr",
     "output_type": "stream",
     "text": [
      "/home/lauraflyra/anaconda3/envs/Code/lib/python3.10/site-packages/PSID/LSSM.py:212: UserWarning: Steady state Kalman gain not available. Will perform non-steady-state Kalman.\n",
      "  warnings.warn('Steady state Kalman gain not available. Will perform non-steady-state Kalman.')\n"
     ]
    },
    {
     "name": "stdout",
     "output_type": "stream",
     "text": [
      "Behavior decoding evaluation:\n",
      "  PSID => 0.0279\n",
      "Could not solve DARE: The associated symplectic pencil has eigenvaluestoo close to the unit circle\n"
     ]
    },
    {
     "name": "stderr",
     "output_type": "stream",
     "text": [
      "/home/lauraflyra/anaconda3/envs/Code/lib/python3.10/site-packages/PSID/LSSM.py:212: UserWarning: Steady state Kalman gain not available. Will perform non-steady-state Kalman.\n",
      "  warnings.warn('Steady state Kalman gain not available. Will perform non-steady-state Kalman.')\n"
     ]
    },
    {
     "name": "stdout",
     "output_type": "stream",
     "text": [
      "Behavior decoding evaluation:\n",
      "  PSID => 0.189\n",
      "Could not solve DARE: The associated symplectic pencil has eigenvaluestoo close to the unit circle\n"
     ]
    },
    {
     "name": "stderr",
     "output_type": "stream",
     "text": [
      "/home/lauraflyra/anaconda3/envs/Code/lib/python3.10/site-packages/PSID/LSSM.py:212: UserWarning: Steady state Kalman gain not available. Will perform non-steady-state Kalman.\n",
      "  warnings.warn('Steady state Kalman gain not available. Will perform non-steady-state Kalman.')\n"
     ]
    },
    {
     "name": "stdout",
     "output_type": "stream",
     "text": [
      "Behavior decoding evaluation:\n",
      "  PSID => 0.202\n",
      "Could not solve DARE: The associated symplectic pencil has eigenvaluestoo close to the unit circle\n"
     ]
    },
    {
     "name": "stderr",
     "output_type": "stream",
     "text": [
      "/home/lauraflyra/anaconda3/envs/Code/lib/python3.10/site-packages/PSID/LSSM.py:212: UserWarning: Steady state Kalman gain not available. Will perform non-steady-state Kalman.\n",
      "  warnings.warn('Steady state Kalman gain not available. Will perform non-steady-state Kalman.')\n"
     ]
    },
    {
     "name": "stdout",
     "output_type": "stream",
     "text": [
      "Behavior decoding evaluation:\n",
      "  PSID => 0.149\n",
      "Could not solve DARE: The associated symplectic pencil has eigenvaluestoo close to the unit circle\n"
     ]
    },
    {
     "name": "stderr",
     "output_type": "stream",
     "text": [
      "/home/lauraflyra/anaconda3/envs/Code/lib/python3.10/site-packages/PSID/LSSM.py:212: UserWarning: Steady state Kalman gain not available. Will perform non-steady-state Kalman.\n",
      "  warnings.warn('Steady state Kalman gain not available. Will perform non-steady-state Kalman.')\n"
     ]
    },
    {
     "name": "stdout",
     "output_type": "stream",
     "text": [
      "Behavior decoding evaluation:\n",
      "  PSID => -0.0431\n",
      "Could not solve DARE: The associated symplectic pencil has eigenvaluestoo close to the unit circle\n"
     ]
    },
    {
     "name": "stderr",
     "output_type": "stream",
     "text": [
      "/home/lauraflyra/anaconda3/envs/Code/lib/python3.10/site-packages/PSID/LSSM.py:212: UserWarning: Steady state Kalman gain not available. Will perform non-steady-state Kalman.\n",
      "  warnings.warn('Steady state Kalman gain not available. Will perform non-steady-state Kalman.')\n"
     ]
    },
    {
     "name": "stdout",
     "output_type": "stream",
     "text": [
      "Behavior decoding evaluation:\n",
      "  PSID => 0.0207\n",
      "Could not solve DARE: Reordering of (A, B) failed because the transformed matrix pair (A, B) would be too far from generalized Schur form; the problem is very ill-conditioned. (A, B) may have been partially reordered.\n"
     ]
    },
    {
     "name": "stderr",
     "output_type": "stream",
     "text": [
      "/home/lauraflyra/anaconda3/envs/Code/lib/python3.10/site-packages/PSID/LSSM.py:212: UserWarning: Steady state Kalman gain not available. Will perform non-steady-state Kalman.\n",
      "  warnings.warn('Steady state Kalman gain not available. Will perform non-steady-state Kalman.')\n"
     ]
    },
    {
     "name": "stdout",
     "output_type": "stream",
     "text": [
      "Behavior decoding evaluation:\n",
      "  PSID => 0.186\n",
      "Could not solve DARE: The associated symplectic pencil has eigenvaluestoo close to the unit circle\n"
     ]
    },
    {
     "name": "stderr",
     "output_type": "stream",
     "text": [
      "/home/lauraflyra/anaconda3/envs/Code/lib/python3.10/site-packages/PSID/LSSM.py:212: UserWarning: Steady state Kalman gain not available. Will perform non-steady-state Kalman.\n",
      "  warnings.warn('Steady state Kalman gain not available. Will perform non-steady-state Kalman.')\n"
     ]
    },
    {
     "name": "stdout",
     "output_type": "stream",
     "text": [
      "Behavior decoding evaluation:\n",
      "  PSID => 0.206\n",
      "Could not solve DARE: Reordering of (A, B) failed because the transformed matrix pair (A, B) would be too far from generalized Schur form; the problem is very ill-conditioned. (A, B) may have been partially reordered.\n"
     ]
    },
    {
     "name": "stderr",
     "output_type": "stream",
     "text": [
      "/home/lauraflyra/anaconda3/envs/Code/lib/python3.10/site-packages/PSID/LSSM.py:212: UserWarning: Steady state Kalman gain not available. Will perform non-steady-state Kalman.\n",
      "  warnings.warn('Steady state Kalman gain not available. Will perform non-steady-state Kalman.')\n"
     ]
    },
    {
     "name": "stdout",
     "output_type": "stream",
     "text": [
      "Behavior decoding evaluation:\n",
      "  PSID => 0.164\n",
      "Could not solve DARE: Reordering of (A, B) failed because the transformed matrix pair (A, B) would be too far from generalized Schur form; the problem is very ill-conditioned. (A, B) may have been partially reordered.\n"
     ]
    },
    {
     "name": "stderr",
     "output_type": "stream",
     "text": [
      "/home/lauraflyra/anaconda3/envs/Code/lib/python3.10/site-packages/PSID/LSSM.py:212: UserWarning: Steady state Kalman gain not available. Will perform non-steady-state Kalman.\n",
      "  warnings.warn('Steady state Kalman gain not available. Will perform non-steady-state Kalman.')\n"
     ]
    },
    {
     "name": "stdout",
     "output_type": "stream",
     "text": [
      "Behavior decoding evaluation:\n",
      "  PSID => -0.0336\n",
      "Could not solve DARE: Reordering of (A, B) failed because the transformed matrix pair (A, B) would be too far from generalized Schur form; the problem is very ill-conditioned. (A, B) may have been partially reordered.\n"
     ]
    },
    {
     "name": "stderr",
     "output_type": "stream",
     "text": [
      "/home/lauraflyra/anaconda3/envs/Code/lib/python3.10/site-packages/PSID/LSSM.py:212: UserWarning: Steady state Kalman gain not available. Will perform non-steady-state Kalman.\n",
      "  warnings.warn('Steady state Kalman gain not available. Will perform non-steady-state Kalman.')\n"
     ]
    },
    {
     "name": "stdout",
     "output_type": "stream",
     "text": [
      "Behavior decoding evaluation:\n",
      "  PSID => 0.0138\n",
      "Could not solve DARE: Reordering of (A, B) failed because the transformed matrix pair (A, B) would be too far from generalized Schur form; the problem is very ill-conditioned. (A, B) may have been partially reordered.\n"
     ]
    },
    {
     "name": "stderr",
     "output_type": "stream",
     "text": [
      "/home/lauraflyra/anaconda3/envs/Code/lib/python3.10/site-packages/PSID/LSSM.py:212: UserWarning: Steady state Kalman gain not available. Will perform non-steady-state Kalman.\n",
      "  warnings.warn('Steady state Kalman gain not available. Will perform non-steady-state Kalman.')\n"
     ]
    },
    {
     "name": "stdout",
     "output_type": "stream",
     "text": [
      "Behavior decoding evaluation:\n",
      "  PSID => 0.173\n",
      "Could not solve DARE: Reordering of (A, B) failed because the transformed matrix pair (A, B) would be too far from generalized Schur form; the problem is very ill-conditioned. (A, B) may have been partially reordered.\n"
     ]
    },
    {
     "name": "stderr",
     "output_type": "stream",
     "text": [
      "/home/lauraflyra/anaconda3/envs/Code/lib/python3.10/site-packages/PSID/LSSM.py:212: UserWarning: Steady state Kalman gain not available. Will perform non-steady-state Kalman.\n",
      "  warnings.warn('Steady state Kalman gain not available. Will perform non-steady-state Kalman.')\n"
     ]
    },
    {
     "name": "stdout",
     "output_type": "stream",
     "text": [
      "Behavior decoding evaluation:\n",
      "  PSID => 0.197\n",
      "Could not solve DARE: The associated symplectic pencil has eigenvaluestoo close to the unit circle\n"
     ]
    },
    {
     "name": "stderr",
     "output_type": "stream",
     "text": [
      "/home/lauraflyra/anaconda3/envs/Code/lib/python3.10/site-packages/PSID/LSSM.py:212: UserWarning: Steady state Kalman gain not available. Will perform non-steady-state Kalman.\n",
      "  warnings.warn('Steady state Kalman gain not available. Will perform non-steady-state Kalman.')\n"
     ]
    },
    {
     "name": "stdout",
     "output_type": "stream",
     "text": [
      "Behavior decoding evaluation:\n",
      "  PSID => 0.147\n",
      "Could not solve DARE: Reordering of (A, B) failed because the transformed matrix pair (A, B) would be too far from generalized Schur form; the problem is very ill-conditioned. (A, B) may have been partially reordered.\n"
     ]
    },
    {
     "name": "stderr",
     "output_type": "stream",
     "text": [
      "/home/lauraflyra/anaconda3/envs/Code/lib/python3.10/site-packages/PSID/LSSM.py:212: UserWarning: Steady state Kalman gain not available. Will perform non-steady-state Kalman.\n",
      "  warnings.warn('Steady state Kalman gain not available. Will perform non-steady-state Kalman.')\n"
     ]
    },
    {
     "name": "stdout",
     "output_type": "stream",
     "text": [
      "Behavior decoding evaluation:\n",
      "  PSID => -0.0122\n",
      "Could not solve DARE: Reordering of (A, B) failed because the transformed matrix pair (A, B) would be too far from generalized Schur form; the problem is very ill-conditioned. (A, B) may have been partially reordered.\n"
     ]
    },
    {
     "name": "stderr",
     "output_type": "stream",
     "text": [
      "/home/lauraflyra/anaconda3/envs/Code/lib/python3.10/site-packages/PSID/LSSM.py:212: UserWarning: Steady state Kalman gain not available. Will perform non-steady-state Kalman.\n",
      "  warnings.warn('Steady state Kalman gain not available. Will perform non-steady-state Kalman.')\n"
     ]
    },
    {
     "name": "stdout",
     "output_type": "stream",
     "text": [
      "Behavior decoding evaluation:\n",
      "  PSID => 0.0116\n",
      "Could not solve DARE: Reordering of (A, B) failed because the transformed matrix pair (A, B) would be too far from generalized Schur form; the problem is very ill-conditioned. (A, B) may have been partially reordered.\n"
     ]
    },
    {
     "name": "stderr",
     "output_type": "stream",
     "text": [
      "/home/lauraflyra/anaconda3/envs/Code/lib/python3.10/site-packages/PSID/LSSM.py:212: UserWarning: Steady state Kalman gain not available. Will perform non-steady-state Kalman.\n",
      "  warnings.warn('Steady state Kalman gain not available. Will perform non-steady-state Kalman.')\n"
     ]
    },
    {
     "name": "stdout",
     "output_type": "stream",
     "text": [
      "Behavior decoding evaluation:\n",
      "  PSID => 0.17\n",
      "Could not solve DARE: The associated symplectic pencil has eigenvaluestoo close to the unit circle\n"
     ]
    },
    {
     "name": "stderr",
     "output_type": "stream",
     "text": [
      "/home/lauraflyra/anaconda3/envs/Code/lib/python3.10/site-packages/PSID/LSSM.py:212: UserWarning: Steady state Kalman gain not available. Will perform non-steady-state Kalman.\n",
      "  warnings.warn('Steady state Kalman gain not available. Will perform non-steady-state Kalman.')\n"
     ]
    },
    {
     "name": "stdout",
     "output_type": "stream",
     "text": [
      "Behavior decoding evaluation:\n",
      "  PSID => 0.198\n",
      "Could not solve DARE: Reordering of (A, B) failed because the transformed matrix pair (A, B) would be too far from generalized Schur form; the problem is very ill-conditioned. (A, B) may have been partially reordered.\n"
     ]
    },
    {
     "name": "stderr",
     "output_type": "stream",
     "text": [
      "/home/lauraflyra/anaconda3/envs/Code/lib/python3.10/site-packages/PSID/LSSM.py:212: UserWarning: Steady state Kalman gain not available. Will perform non-steady-state Kalman.\n",
      "  warnings.warn('Steady state Kalman gain not available. Will perform non-steady-state Kalman.')\n"
     ]
    },
    {
     "name": "stdout",
     "output_type": "stream",
     "text": [
      "Behavior decoding evaluation:\n",
      "  PSID => 0.151\n",
      "Could not solve DARE: Reordering of (A, B) failed because the transformed matrix pair (A, B) would be too far from generalized Schur form; the problem is very ill-conditioned. (A, B) may have been partially reordered.\n"
     ]
    },
    {
     "name": "stderr",
     "output_type": "stream",
     "text": [
      "/home/lauraflyra/anaconda3/envs/Code/lib/python3.10/site-packages/PSID/LSSM.py:212: UserWarning: Steady state Kalman gain not available. Will perform non-steady-state Kalman.\n",
      "  warnings.warn('Steady state Kalman gain not available. Will perform non-steady-state Kalman.')\n"
     ]
    },
    {
     "name": "stdout",
     "output_type": "stream",
     "text": [
      "Behavior decoding evaluation:\n",
      "  PSID => -0.0515\n",
      "Could not solve DARE: Reordering of (A, B) failed because the transformed matrix pair (A, B) would be too far from generalized Schur form; the problem is very ill-conditioned. (A, B) may have been partially reordered.\n"
     ]
    },
    {
     "name": "stderr",
     "output_type": "stream",
     "text": [
      "/home/lauraflyra/anaconda3/envs/Code/lib/python3.10/site-packages/PSID/LSSM.py:212: UserWarning: Steady state Kalman gain not available. Will perform non-steady-state Kalman.\n",
      "  warnings.warn('Steady state Kalman gain not available. Will perform non-steady-state Kalman.')\n"
     ]
    },
    {
     "name": "stdout",
     "output_type": "stream",
     "text": [
      "Behavior decoding evaluation:\n",
      "  PSID => 0.0127\n",
      "Could not solve DARE: Reordering of (A, B) failed because the transformed matrix pair (A, B) would be too far from generalized Schur form; the problem is very ill-conditioned. (A, B) may have been partially reordered.\n"
     ]
    },
    {
     "name": "stderr",
     "output_type": "stream",
     "text": [
      "/home/lauraflyra/anaconda3/envs/Code/lib/python3.10/site-packages/PSID/LSSM.py:212: UserWarning: Steady state Kalman gain not available. Will perform non-steady-state Kalman.\n",
      "  warnings.warn('Steady state Kalman gain not available. Will perform non-steady-state Kalman.')\n"
     ]
    },
    {
     "name": "stdout",
     "output_type": "stream",
     "text": [
      "Behavior decoding evaluation:\n",
      "  PSID => 0.183\n",
      "Could not solve DARE: The associated symplectic pencil has eigenvaluestoo close to the unit circle\n"
     ]
    },
    {
     "name": "stderr",
     "output_type": "stream",
     "text": [
      "/home/lauraflyra/anaconda3/envs/Code/lib/python3.10/site-packages/PSID/LSSM.py:212: UserWarning: Steady state Kalman gain not available. Will perform non-steady-state Kalman.\n",
      "  warnings.warn('Steady state Kalman gain not available. Will perform non-steady-state Kalman.')\n"
     ]
    },
    {
     "name": "stdout",
     "output_type": "stream",
     "text": [
      "Behavior decoding evaluation:\n",
      "  PSID => 0.2\n",
      "Could not solve DARE: Reordering of (A, B) failed because the transformed matrix pair (A, B) would be too far from generalized Schur form; the problem is very ill-conditioned. (A, B) may have been partially reordered.\n"
     ]
    },
    {
     "name": "stderr",
     "output_type": "stream",
     "text": [
      "/home/lauraflyra/anaconda3/envs/Code/lib/python3.10/site-packages/PSID/LSSM.py:212: UserWarning: Steady state Kalman gain not available. Will perform non-steady-state Kalman.\n",
      "  warnings.warn('Steady state Kalman gain not available. Will perform non-steady-state Kalman.')\n"
     ]
    },
    {
     "name": "stdout",
     "output_type": "stream",
     "text": [
      "Behavior decoding evaluation:\n",
      "  PSID => 0.152\n",
      "Could not solve DARE: Reordering of (A, B) failed because the transformed matrix pair (A, B) would be too far from generalized Schur form; the problem is very ill-conditioned. (A, B) may have been partially reordered.\n"
     ]
    },
    {
     "name": "stderr",
     "output_type": "stream",
     "text": [
      "/home/lauraflyra/anaconda3/envs/Code/lib/python3.10/site-packages/PSID/LSSM.py:212: UserWarning: Steady state Kalman gain not available. Will perform non-steady-state Kalman.\n",
      "  warnings.warn('Steady state Kalman gain not available. Will perform non-steady-state Kalman.')\n"
     ]
    },
    {
     "name": "stdout",
     "output_type": "stream",
     "text": [
      "Behavior decoding evaluation:\n",
      "  PSID => -0.0243\n",
      "Could not solve DARE: Reordering of (A, B) failed because the transformed matrix pair (A, B) would be too far from generalized Schur form; the problem is very ill-conditioned. (A, B) may have been partially reordered.\n"
     ]
    },
    {
     "name": "stderr",
     "output_type": "stream",
     "text": [
      "/home/lauraflyra/anaconda3/envs/Code/lib/python3.10/site-packages/PSID/LSSM.py:212: UserWarning: Steady state Kalman gain not available. Will perform non-steady-state Kalman.\n",
      "  warnings.warn('Steady state Kalman gain not available. Will perform non-steady-state Kalman.')\n"
     ]
    },
    {
     "name": "stdout",
     "output_type": "stream",
     "text": [
      "Behavior decoding evaluation:\n",
      "  PSID => -0.00668\n",
      "Could not solve DARE: Reordering of (A, B) failed because the transformed matrix pair (A, B) would be too far from generalized Schur form; the problem is very ill-conditioned. (A, B) may have been partially reordered.\n"
     ]
    },
    {
     "name": "stderr",
     "output_type": "stream",
     "text": [
      "/home/lauraflyra/anaconda3/envs/Code/lib/python3.10/site-packages/PSID/LSSM.py:212: UserWarning: Steady state Kalman gain not available. Will perform non-steady-state Kalman.\n",
      "  warnings.warn('Steady state Kalman gain not available. Will perform non-steady-state Kalman.')\n"
     ]
    },
    {
     "name": "stdout",
     "output_type": "stream",
     "text": [
      "Behavior decoding evaluation:\n",
      "  PSID => 0.184\n",
      "Could not solve DARE: Reordering of (A, B) failed because the transformed matrix pair (A, B) would be too far from generalized Schur form; the problem is very ill-conditioned. (A, B) may have been partially reordered.\n"
     ]
    },
    {
     "name": "stderr",
     "output_type": "stream",
     "text": [
      "/home/lauraflyra/anaconda3/envs/Code/lib/python3.10/site-packages/PSID/LSSM.py:212: UserWarning: Steady state Kalman gain not available. Will perform non-steady-state Kalman.\n",
      "  warnings.warn('Steady state Kalman gain not available. Will perform non-steady-state Kalman.')\n"
     ]
    },
    {
     "name": "stdout",
     "output_type": "stream",
     "text": [
      "Behavior decoding evaluation:\n",
      "  PSID => 0.18\n",
      "Could not solve DARE: Reordering of (A, B) failed because the transformed matrix pair (A, B) would be too far from generalized Schur form; the problem is very ill-conditioned. (A, B) may have been partially reordered.\n"
     ]
    },
    {
     "name": "stderr",
     "output_type": "stream",
     "text": [
      "/home/lauraflyra/anaconda3/envs/Code/lib/python3.10/site-packages/PSID/LSSM.py:212: UserWarning: Steady state Kalman gain not available. Will perform non-steady-state Kalman.\n",
      "  warnings.warn('Steady state Kalman gain not available. Will perform non-steady-state Kalman.')\n"
     ]
    },
    {
     "name": "stdout",
     "output_type": "stream",
     "text": [
      "Behavior decoding evaluation:\n",
      "  PSID => 0.137\n",
      "Could not solve DARE: The associated symplectic pencil has eigenvaluestoo close to the unit circle\n"
     ]
    },
    {
     "name": "stderr",
     "output_type": "stream",
     "text": [
      "/home/lauraflyra/anaconda3/envs/Code/lib/python3.10/site-packages/PSID/LSSM.py:212: UserWarning: Steady state Kalman gain not available. Will perform non-steady-state Kalman.\n",
      "  warnings.warn('Steady state Kalman gain not available. Will perform non-steady-state Kalman.')\n"
     ]
    },
    {
     "name": "stdout",
     "output_type": "stream",
     "text": [
      "Behavior decoding evaluation:\n",
      "  PSID => -0.042\n",
      "Could not solve DARE: Reordering of (A, B) failed because the transformed matrix pair (A, B) would be too far from generalized Schur form; the problem is very ill-conditioned. (A, B) may have been partially reordered.\n"
     ]
    },
    {
     "name": "stderr",
     "output_type": "stream",
     "text": [
      "/home/lauraflyra/anaconda3/envs/Code/lib/python3.10/site-packages/PSID/LSSM.py:212: UserWarning: Steady state Kalman gain not available. Will perform non-steady-state Kalman.\n",
      "  warnings.warn('Steady state Kalman gain not available. Will perform non-steady-state Kalman.')\n"
     ]
    },
    {
     "name": "stdout",
     "output_type": "stream",
     "text": [
      "Behavior decoding evaluation:\n",
      "  PSID => 0.000292\n",
      "Could not solve DARE: Reordering of (A, B) failed because the transformed matrix pair (A, B) would be too far from generalized Schur form; the problem is very ill-conditioned. (A, B) may have been partially reordered.\n"
     ]
    },
    {
     "name": "stderr",
     "output_type": "stream",
     "text": [
      "/home/lauraflyra/anaconda3/envs/Code/lib/python3.10/site-packages/PSID/LSSM.py:212: UserWarning: Steady state Kalman gain not available. Will perform non-steady-state Kalman.\n",
      "  warnings.warn('Steady state Kalman gain not available. Will perform non-steady-state Kalman.')\n"
     ]
    },
    {
     "name": "stdout",
     "output_type": "stream",
     "text": [
      "Behavior decoding evaluation:\n",
      "  PSID => 0.183\n",
      "Could not solve DARE: The associated symplectic pencil has eigenvaluestoo close to the unit circle\n"
     ]
    },
    {
     "name": "stderr",
     "output_type": "stream",
     "text": [
      "/home/lauraflyra/anaconda3/envs/Code/lib/python3.10/site-packages/PSID/LSSM.py:212: UserWarning: Steady state Kalman gain not available. Will perform non-steady-state Kalman.\n",
      "  warnings.warn('Steady state Kalman gain not available. Will perform non-steady-state Kalman.')\n"
     ]
    },
    {
     "name": "stdout",
     "output_type": "stream",
     "text": [
      "Behavior decoding evaluation:\n",
      "  PSID => 0.177\n",
      "Could not solve DARE: Reordering of (A, B) failed because the transformed matrix pair (A, B) would be too far from generalized Schur form; the problem is very ill-conditioned. (A, B) may have been partially reordered.\n"
     ]
    },
    {
     "name": "stderr",
     "output_type": "stream",
     "text": [
      "/home/lauraflyra/anaconda3/envs/Code/lib/python3.10/site-packages/PSID/LSSM.py:212: UserWarning: Steady state Kalman gain not available. Will perform non-steady-state Kalman.\n",
      "  warnings.warn('Steady state Kalman gain not available. Will perform non-steady-state Kalman.')\n"
     ]
    },
    {
     "name": "stdout",
     "output_type": "stream",
     "text": [
      "Behavior decoding evaluation:\n",
      "  PSID => -0.000283\n",
      "Could not solve DARE: The associated symplectic pencil has eigenvaluestoo close to the unit circle\n"
     ]
    },
    {
     "name": "stderr",
     "output_type": "stream",
     "text": [
      "/home/lauraflyra/anaconda3/envs/Code/lib/python3.10/site-packages/PSID/LSSM.py:212: UserWarning: Steady state Kalman gain not available. Will perform non-steady-state Kalman.\n",
      "  warnings.warn('Steady state Kalman gain not available. Will perform non-steady-state Kalman.')\n"
     ]
    },
    {
     "name": "stdout",
     "output_type": "stream",
     "text": [
      "Behavior decoding evaluation:\n",
      "  PSID => -0.046\n",
      "Could not solve DARE: Reordering of (A, B) failed because the transformed matrix pair (A, B) would be too far from generalized Schur form; the problem is very ill-conditioned. (A, B) may have been partially reordered.\n"
     ]
    },
    {
     "name": "stderr",
     "output_type": "stream",
     "text": [
      "/home/lauraflyra/anaconda3/envs/Code/lib/python3.10/site-packages/PSID/LSSM.py:212: UserWarning: Steady state Kalman gain not available. Will perform non-steady-state Kalman.\n",
      "  warnings.warn('Steady state Kalman gain not available. Will perform non-steady-state Kalman.')\n"
     ]
    },
    {
     "name": "stdout",
     "output_type": "stream",
     "text": [
      "Behavior decoding evaluation:\n",
      "  PSID => -0.00024\n",
      "Could not solve DARE: Reordering of (A, B) failed because the transformed matrix pair (A, B) would be too far from generalized Schur form; the problem is very ill-conditioned. (A, B) may have been partially reordered.\n"
     ]
    },
    {
     "name": "stderr",
     "output_type": "stream",
     "text": [
      "/home/lauraflyra/anaconda3/envs/Code/lib/python3.10/site-packages/PSID/LSSM.py:212: UserWarning: Steady state Kalman gain not available. Will perform non-steady-state Kalman.\n",
      "  warnings.warn('Steady state Kalman gain not available. Will perform non-steady-state Kalman.')\n"
     ]
    },
    {
     "name": "stdout",
     "output_type": "stream",
     "text": [
      "Behavior decoding evaluation:\n",
      "  PSID => -0.000644\n",
      "Could not solve DARE: Reordering of (A, B) failed because the transformed matrix pair (A, B) would be too far from generalized Schur form; the problem is very ill-conditioned. (A, B) may have been partially reordered.\n"
     ]
    },
    {
     "name": "stderr",
     "output_type": "stream",
     "text": [
      "/home/lauraflyra/anaconda3/envs/Code/lib/python3.10/site-packages/PSID/LSSM.py:212: UserWarning: Steady state Kalman gain not available. Will perform non-steady-state Kalman.\n",
      "  warnings.warn('Steady state Kalman gain not available. Will perform non-steady-state Kalman.')\n"
     ]
    },
    {
     "name": "stdout",
     "output_type": "stream",
     "text": [
      "Behavior decoding evaluation:\n",
      "  PSID => -0.000398\n",
      "Could not solve DARE: Reordering of (A, B) failed because the transformed matrix pair (A, B) would be too far from generalized Schur form; the problem is very ill-conditioned. (A, B) may have been partially reordered.\n"
     ]
    },
    {
     "name": "stderr",
     "output_type": "stream",
     "text": [
      "/home/lauraflyra/anaconda3/envs/Code/lib/python3.10/site-packages/PSID/LSSM.py:212: UserWarning: Steady state Kalman gain not available. Will perform non-steady-state Kalman.\n",
      "  warnings.warn('Steady state Kalman gain not available. Will perform non-steady-state Kalman.')\n"
     ]
    },
    {
     "name": "stdout",
     "output_type": "stream",
     "text": [
      "Behavior decoding evaluation:\n",
      "  PSID => -0.000283\n",
      "Could not solve DARE: The associated symplectic pencil has eigenvaluestoo close to the unit circle\n"
     ]
    },
    {
     "name": "stderr",
     "output_type": "stream",
     "text": [
      "/home/lauraflyra/anaconda3/envs/Code/lib/python3.10/site-packages/PSID/LSSM.py:212: UserWarning: Steady state Kalman gain not available. Will perform non-steady-state Kalman.\n",
      "  warnings.warn('Steady state Kalman gain not available. Will perform non-steady-state Kalman.')\n"
     ]
    },
    {
     "name": "stdout",
     "output_type": "stream",
     "text": [
      "Behavior decoding evaluation:\n",
      "  PSID => -0.123\n",
      "Could not solve DARE: Reordering of (A, B) failed because the transformed matrix pair (A, B) would be too far from generalized Schur form; the problem is very ill-conditioned. (A, B) may have been partially reordered.\n"
     ]
    },
    {
     "name": "stderr",
     "output_type": "stream",
     "text": [
      "/home/lauraflyra/anaconda3/envs/Code/lib/python3.10/site-packages/PSID/LSSM.py:212: UserWarning: Steady state Kalman gain not available. Will perform non-steady-state Kalman.\n",
      "  warnings.warn('Steady state Kalman gain not available. Will perform non-steady-state Kalman.')\n"
     ]
    },
    {
     "name": "stdout",
     "output_type": "stream",
     "text": [
      "Behavior decoding evaluation:\n",
      "  PSID => 0.0369\n",
      "Could not solve DARE: The associated symplectic pencil has eigenvaluestoo close to the unit circle\n"
     ]
    },
    {
     "name": "stderr",
     "output_type": "stream",
     "text": [
      "/home/lauraflyra/anaconda3/envs/Code/lib/python3.10/site-packages/PSID/LSSM.py:212: UserWarning: Steady state Kalman gain not available. Will perform non-steady-state Kalman.\n",
      "  warnings.warn('Steady state Kalman gain not available. Will perform non-steady-state Kalman.')\n"
     ]
    },
    {
     "name": "stdout",
     "output_type": "stream",
     "text": [
      "Behavior decoding evaluation:\n",
      "  PSID => 0.151\n",
      "Could not solve DARE: Reordering of (A, B) failed because the transformed matrix pair (A, B) would be too far from generalized Schur form; the problem is very ill-conditioned. (A, B) may have been partially reordered.\n"
     ]
    },
    {
     "name": "stderr",
     "output_type": "stream",
     "text": [
      "/home/lauraflyra/anaconda3/envs/Code/lib/python3.10/site-packages/PSID/LSSM.py:212: UserWarning: Steady state Kalman gain not available. Will perform non-steady-state Kalman.\n",
      "  warnings.warn('Steady state Kalman gain not available. Will perform non-steady-state Kalman.')\n"
     ]
    },
    {
     "name": "stdout",
     "output_type": "stream",
     "text": [
      "Behavior decoding evaluation:\n",
      "  PSID => 0.182\n",
      "Could not solve DARE: The associated symplectic pencil has eigenvaluestoo close to the unit circle\n"
     ]
    },
    {
     "name": "stderr",
     "output_type": "stream",
     "text": [
      "/home/lauraflyra/anaconda3/envs/Code/lib/python3.10/site-packages/PSID/LSSM.py:212: UserWarning: Steady state Kalman gain not available. Will perform non-steady-state Kalman.\n",
      "  warnings.warn('Steady state Kalman gain not available. Will perform non-steady-state Kalman.')\n"
     ]
    },
    {
     "name": "stdout",
     "output_type": "stream",
     "text": [
      "Behavior decoding evaluation:\n",
      "  PSID => 0.112\n",
      "Behavior decoding evaluation:\n",
      "  PSID => 0.036\n",
      "Behavior decoding evaluation:\n",
      "  PSID => 0.0392\n",
      "Behavior decoding evaluation:\n",
      "  PSID => 0.11\n",
      "Behavior decoding evaluation:\n",
      "  PSID => 0.104\n",
      "Behavior decoding evaluation:\n",
      "  PSID => 0.119\n",
      "Behavior decoding evaluation:\n",
      "  PSID => -0.0291\n",
      "Behavior decoding evaluation:\n",
      "  PSID => -0.0349\n",
      "Behavior decoding evaluation:\n",
      "  PSID => 0.0931\n",
      "Behavior decoding evaluation:\n",
      "  PSID => 0.12\n",
      "Behavior decoding evaluation:\n",
      "  PSID => 0.0853\n",
      "Could not solve DARE: The associated symplectic pencil has eigenvaluestoo close to the unit circle\n"
     ]
    },
    {
     "name": "stderr",
     "output_type": "stream",
     "text": [
      "/home/lauraflyra/anaconda3/envs/Code/lib/python3.10/site-packages/PSID/LSSM.py:212: UserWarning: Steady state Kalman gain not available. Will perform non-steady-state Kalman.\n",
      "  warnings.warn('Steady state Kalman gain not available. Will perform non-steady-state Kalman.')\n"
     ]
    },
    {
     "name": "stdout",
     "output_type": "stream",
     "text": [
      "Behavior decoding evaluation:\n",
      "  PSID => -0.172\n",
      "Could not solve DARE: The associated symplectic pencil has eigenvaluestoo close to the unit circle\n"
     ]
    },
    {
     "name": "stderr",
     "output_type": "stream",
     "text": [
      "/home/lauraflyra/anaconda3/envs/Code/lib/python3.10/site-packages/PSID/LSSM.py:212: UserWarning: Steady state Kalman gain not available. Will perform non-steady-state Kalman.\n",
      "  warnings.warn('Steady state Kalman gain not available. Will perform non-steady-state Kalman.')\n"
     ]
    },
    {
     "name": "stdout",
     "output_type": "stream",
     "text": [
      "Behavior decoding evaluation:\n",
      "  PSID => -0.0702\n",
      "Could not solve DARE: The associated symplectic pencil has eigenvaluestoo close to the unit circle\n"
     ]
    },
    {
     "name": "stderr",
     "output_type": "stream",
     "text": [
      "/home/lauraflyra/anaconda3/envs/Code/lib/python3.10/site-packages/PSID/LSSM.py:212: UserWarning: Steady state Kalman gain not available. Will perform non-steady-state Kalman.\n",
      "  warnings.warn('Steady state Kalman gain not available. Will perform non-steady-state Kalman.')\n"
     ]
    },
    {
     "name": "stdout",
     "output_type": "stream",
     "text": [
      "Behavior decoding evaluation:\n",
      "  PSID => 0.115\n",
      "Could not solve DARE: The associated symplectic pencil has eigenvaluestoo close to the unit circle\n"
     ]
    },
    {
     "name": "stderr",
     "output_type": "stream",
     "text": [
      "/home/lauraflyra/anaconda3/envs/Code/lib/python3.10/site-packages/PSID/LSSM.py:212: UserWarning: Steady state Kalman gain not available. Will perform non-steady-state Kalman.\n",
      "  warnings.warn('Steady state Kalman gain not available. Will perform non-steady-state Kalman.')\n"
     ]
    },
    {
     "name": "stdout",
     "output_type": "stream",
     "text": [
      "Behavior decoding evaluation:\n",
      "  PSID => 0.159\n",
      "Could not solve DARE: The associated symplectic pencil has eigenvaluestoo close to the unit circle\n"
     ]
    },
    {
     "name": "stderr",
     "output_type": "stream",
     "text": [
      "/home/lauraflyra/anaconda3/envs/Code/lib/python3.10/site-packages/PSID/LSSM.py:212: UserWarning: Steady state Kalman gain not available. Will perform non-steady-state Kalman.\n",
      "  warnings.warn('Steady state Kalman gain not available. Will perform non-steady-state Kalman.')\n"
     ]
    },
    {
     "name": "stdout",
     "output_type": "stream",
     "text": [
      "Behavior decoding evaluation:\n",
      "  PSID => 0.0972\n",
      "Could not solve DARE: The associated symplectic pencil has eigenvaluestoo close to the unit circle\n"
     ]
    },
    {
     "name": "stderr",
     "output_type": "stream",
     "text": [
      "/home/lauraflyra/anaconda3/envs/Code/lib/python3.10/site-packages/PSID/LSSM.py:212: UserWarning: Steady state Kalman gain not available. Will perform non-steady-state Kalman.\n",
      "  warnings.warn('Steady state Kalman gain not available. Will perform non-steady-state Kalman.')\n"
     ]
    },
    {
     "name": "stdout",
     "output_type": "stream",
     "text": [
      "Behavior decoding evaluation:\n",
      "  PSID => -0.0882\n",
      "Could not solve DARE: The associated symplectic pencil has eigenvaluestoo close to the unit circle\n"
     ]
    },
    {
     "name": "stderr",
     "output_type": "stream",
     "text": [
      "/home/lauraflyra/anaconda3/envs/Code/lib/python3.10/site-packages/PSID/LSSM.py:212: UserWarning: Steady state Kalman gain not available. Will perform non-steady-state Kalman.\n",
      "  warnings.warn('Steady state Kalman gain not available. Will perform non-steady-state Kalman.')\n"
     ]
    },
    {
     "name": "stdout",
     "output_type": "stream",
     "text": [
      "Behavior decoding evaluation:\n",
      "  PSID => -0.031\n",
      "Could not solve DARE: The associated symplectic pencil has eigenvaluestoo close to the unit circle\n"
     ]
    },
    {
     "name": "stderr",
     "output_type": "stream",
     "text": [
      "/home/lauraflyra/anaconda3/envs/Code/lib/python3.10/site-packages/PSID/LSSM.py:212: UserWarning: Steady state Kalman gain not available. Will perform non-steady-state Kalman.\n",
      "  warnings.warn('Steady state Kalman gain not available. Will perform non-steady-state Kalman.')\n"
     ]
    },
    {
     "name": "stdout",
     "output_type": "stream",
     "text": [
      "Behavior decoding evaluation:\n",
      "  PSID => 0.153\n",
      "Could not solve DARE: Reordering of (A, B) failed because the transformed matrix pair (A, B) would be too far from generalized Schur form; the problem is very ill-conditioned. (A, B) may have been partially reordered.\n"
     ]
    },
    {
     "name": "stderr",
     "output_type": "stream",
     "text": [
      "/home/lauraflyra/anaconda3/envs/Code/lib/python3.10/site-packages/PSID/LSSM.py:212: UserWarning: Steady state Kalman gain not available. Will perform non-steady-state Kalman.\n",
      "  warnings.warn('Steady state Kalman gain not available. Will perform non-steady-state Kalman.')\n"
     ]
    },
    {
     "name": "stdout",
     "output_type": "stream",
     "text": [
      "Behavior decoding evaluation:\n",
      "  PSID => 0.189\n",
      "Could not solve DARE: The associated symplectic pencil has eigenvaluestoo close to the unit circle\n"
     ]
    },
    {
     "name": "stderr",
     "output_type": "stream",
     "text": [
      "/home/lauraflyra/anaconda3/envs/Code/lib/python3.10/site-packages/PSID/LSSM.py:212: UserWarning: Steady state Kalman gain not available. Will perform non-steady-state Kalman.\n",
      "  warnings.warn('Steady state Kalman gain not available. Will perform non-steady-state Kalman.')\n"
     ]
    },
    {
     "name": "stdout",
     "output_type": "stream",
     "text": [
      "Behavior decoding evaluation:\n",
      "  PSID => 0.13\n",
      "Could not solve DARE: The associated symplectic pencil has eigenvaluestoo close to the unit circle\n"
     ]
    },
    {
     "name": "stderr",
     "output_type": "stream",
     "text": [
      "/home/lauraflyra/anaconda3/envs/Code/lib/python3.10/site-packages/PSID/LSSM.py:212: UserWarning: Steady state Kalman gain not available. Will perform non-steady-state Kalman.\n",
      "  warnings.warn('Steady state Kalman gain not available. Will perform non-steady-state Kalman.')\n"
     ]
    },
    {
     "name": "stdout",
     "output_type": "stream",
     "text": [
      "Behavior decoding evaluation:\n",
      "  PSID => -0.071\n",
      "Could not solve DARE: The associated symplectic pencil has eigenvaluestoo close to the unit circle\n"
     ]
    },
    {
     "name": "stderr",
     "output_type": "stream",
     "text": [
      "/home/lauraflyra/anaconda3/envs/Code/lib/python3.10/site-packages/PSID/LSSM.py:212: UserWarning: Steady state Kalman gain not available. Will perform non-steady-state Kalman.\n",
      "  warnings.warn('Steady state Kalman gain not available. Will perform non-steady-state Kalman.')\n"
     ]
    },
    {
     "name": "stdout",
     "output_type": "stream",
     "text": [
      "Behavior decoding evaluation:\n",
      "  PSID => -0.0119\n",
      "Could not solve DARE: The associated symplectic pencil has eigenvaluestoo close to the unit circle\n"
     ]
    },
    {
     "name": "stderr",
     "output_type": "stream",
     "text": [
      "/home/lauraflyra/anaconda3/envs/Code/lib/python3.10/site-packages/PSID/LSSM.py:212: UserWarning: Steady state Kalman gain not available. Will perform non-steady-state Kalman.\n",
      "  warnings.warn('Steady state Kalman gain not available. Will perform non-steady-state Kalman.')\n"
     ]
    },
    {
     "name": "stdout",
     "output_type": "stream",
     "text": [
      "Behavior decoding evaluation:\n",
      "  PSID => 0.149\n",
      "Could not solve DARE: Reordering of (A, B) failed because the transformed matrix pair (A, B) would be too far from generalized Schur form; the problem is very ill-conditioned. (A, B) may have been partially reordered.\n"
     ]
    },
    {
     "name": "stderr",
     "output_type": "stream",
     "text": [
      "/home/lauraflyra/anaconda3/envs/Code/lib/python3.10/site-packages/PSID/LSSM.py:212: UserWarning: Steady state Kalman gain not available. Will perform non-steady-state Kalman.\n",
      "  warnings.warn('Steady state Kalman gain not available. Will perform non-steady-state Kalman.')\n"
     ]
    },
    {
     "name": "stdout",
     "output_type": "stream",
     "text": [
      "Behavior decoding evaluation:\n",
      "  PSID => 0.205\n",
      "Could not solve DARE: The associated symplectic pencil has eigenvaluestoo close to the unit circle\n"
     ]
    },
    {
     "name": "stderr",
     "output_type": "stream",
     "text": [
      "/home/lauraflyra/anaconda3/envs/Code/lib/python3.10/site-packages/PSID/LSSM.py:212: UserWarning: Steady state Kalman gain not available. Will perform non-steady-state Kalman.\n",
      "  warnings.warn('Steady state Kalman gain not available. Will perform non-steady-state Kalman.')\n"
     ]
    },
    {
     "name": "stdout",
     "output_type": "stream",
     "text": [
      "Behavior decoding evaluation:\n",
      "  PSID => 0.127\n",
      "Could not solve DARE: The associated symplectic pencil has eigenvaluestoo close to the unit circle\n"
     ]
    },
    {
     "name": "stderr",
     "output_type": "stream",
     "text": [
      "/home/lauraflyra/anaconda3/envs/Code/lib/python3.10/site-packages/PSID/LSSM.py:212: UserWarning: Steady state Kalman gain not available. Will perform non-steady-state Kalman.\n",
      "  warnings.warn('Steady state Kalman gain not available. Will perform non-steady-state Kalman.')\n"
     ]
    },
    {
     "name": "stdout",
     "output_type": "stream",
     "text": [
      "Behavior decoding evaluation:\n",
      "  PSID => -0.0839\n",
      "Could not solve DARE: Reordering of (A, B) failed because the transformed matrix pair (A, B) would be too far from generalized Schur form; the problem is very ill-conditioned. (A, B) may have been partially reordered.\n"
     ]
    },
    {
     "name": "stderr",
     "output_type": "stream",
     "text": [
      "/home/lauraflyra/anaconda3/envs/Code/lib/python3.10/site-packages/PSID/LSSM.py:212: UserWarning: Steady state Kalman gain not available. Will perform non-steady-state Kalman.\n",
      "  warnings.warn('Steady state Kalman gain not available. Will perform non-steady-state Kalman.')\n"
     ]
    },
    {
     "name": "stdout",
     "output_type": "stream",
     "text": [
      "Behavior decoding evaluation:\n",
      "  PSID => -0.00519\n",
      "Could not solve DARE: The associated symplectic pencil has eigenvaluestoo close to the unit circle\n"
     ]
    },
    {
     "name": "stderr",
     "output_type": "stream",
     "text": [
      "/home/lauraflyra/anaconda3/envs/Code/lib/python3.10/site-packages/PSID/LSSM.py:212: UserWarning: Steady state Kalman gain not available. Will perform non-steady-state Kalman.\n",
      "  warnings.warn('Steady state Kalman gain not available. Will perform non-steady-state Kalman.')\n"
     ]
    },
    {
     "name": "stdout",
     "output_type": "stream",
     "text": [
      "Behavior decoding evaluation:\n",
      "  PSID => 0.0816\n",
      "Could not solve DARE: The associated symplectic pencil has eigenvaluestoo close to the unit circle\n"
     ]
    },
    {
     "name": "stderr",
     "output_type": "stream",
     "text": [
      "/home/lauraflyra/anaconda3/envs/Code/lib/python3.10/site-packages/PSID/LSSM.py:212: UserWarning: Steady state Kalman gain not available. Will perform non-steady-state Kalman.\n",
      "  warnings.warn('Steady state Kalman gain not available. Will perform non-steady-state Kalman.')\n"
     ]
    },
    {
     "name": "stdout",
     "output_type": "stream",
     "text": [
      "Behavior decoding evaluation:\n",
      "  PSID => 0.216\n",
      "Could not solve DARE: The associated symplectic pencil has eigenvaluestoo close to the unit circle\n"
     ]
    },
    {
     "name": "stderr",
     "output_type": "stream",
     "text": [
      "/home/lauraflyra/anaconda3/envs/Code/lib/python3.10/site-packages/PSID/LSSM.py:212: UserWarning: Steady state Kalman gain not available. Will perform non-steady-state Kalman.\n",
      "  warnings.warn('Steady state Kalman gain not available. Will perform non-steady-state Kalman.')\n"
     ]
    },
    {
     "name": "stdout",
     "output_type": "stream",
     "text": [
      "Behavior decoding evaluation:\n",
      "  PSID => 0.165\n",
      "Could not solve DARE: The associated symplectic pencil has eigenvaluestoo close to the unit circle\n"
     ]
    },
    {
     "name": "stderr",
     "output_type": "stream",
     "text": [
      "/home/lauraflyra/anaconda3/envs/Code/lib/python3.10/site-packages/PSID/LSSM.py:212: UserWarning: Steady state Kalman gain not available. Will perform non-steady-state Kalman.\n",
      "  warnings.warn('Steady state Kalman gain not available. Will perform non-steady-state Kalman.')\n"
     ]
    },
    {
     "name": "stdout",
     "output_type": "stream",
     "text": [
      "Behavior decoding evaluation:\n",
      "  PSID => -0.0592\n",
      "Could not solve DARE: The associated symplectic pencil has eigenvaluestoo close to the unit circle\n"
     ]
    },
    {
     "name": "stderr",
     "output_type": "stream",
     "text": [
      "/home/lauraflyra/anaconda3/envs/Code/lib/python3.10/site-packages/PSID/LSSM.py:212: UserWarning: Steady state Kalman gain not available. Will perform non-steady-state Kalman.\n",
      "  warnings.warn('Steady state Kalman gain not available. Will perform non-steady-state Kalman.')\n"
     ]
    },
    {
     "name": "stdout",
     "output_type": "stream",
     "text": [
      "Behavior decoding evaluation:\n",
      "  PSID => 0.00995\n",
      "Could not solve DARE: The associated symplectic pencil has eigenvaluestoo close to the unit circle\n"
     ]
    },
    {
     "name": "stderr",
     "output_type": "stream",
     "text": [
      "/home/lauraflyra/anaconda3/envs/Code/lib/python3.10/site-packages/PSID/LSSM.py:212: UserWarning: Steady state Kalman gain not available. Will perform non-steady-state Kalman.\n",
      "  warnings.warn('Steady state Kalman gain not available. Will perform non-steady-state Kalman.')\n"
     ]
    },
    {
     "name": "stdout",
     "output_type": "stream",
     "text": [
      "Behavior decoding evaluation:\n",
      "  PSID => 0.138\n",
      "Could not solve DARE: The associated symplectic pencil has eigenvaluestoo close to the unit circle\n"
     ]
    },
    {
     "name": "stderr",
     "output_type": "stream",
     "text": [
      "/home/lauraflyra/anaconda3/envs/Code/lib/python3.10/site-packages/PSID/LSSM.py:212: UserWarning: Steady state Kalman gain not available. Will perform non-steady-state Kalman.\n",
      "  warnings.warn('Steady state Kalman gain not available. Will perform non-steady-state Kalman.')\n"
     ]
    },
    {
     "name": "stdout",
     "output_type": "stream",
     "text": [
      "Behavior decoding evaluation:\n",
      "  PSID => 0.21\n",
      "Could not solve DARE: The associated symplectic pencil has eigenvaluestoo close to the unit circle\n"
     ]
    },
    {
     "name": "stderr",
     "output_type": "stream",
     "text": [
      "/home/lauraflyra/anaconda3/envs/Code/lib/python3.10/site-packages/PSID/LSSM.py:212: UserWarning: Steady state Kalman gain not available. Will perform non-steady-state Kalman.\n",
      "  warnings.warn('Steady state Kalman gain not available. Will perform non-steady-state Kalman.')\n"
     ]
    },
    {
     "name": "stdout",
     "output_type": "stream",
     "text": [
      "Behavior decoding evaluation:\n",
      "  PSID => 0.153\n",
      "Could not solve DARE: Reordering of (A, B) failed because the transformed matrix pair (A, B) would be too far from generalized Schur form; the problem is very ill-conditioned. (A, B) may have been partially reordered.\n"
     ]
    },
    {
     "name": "stderr",
     "output_type": "stream",
     "text": [
      "/home/lauraflyra/anaconda3/envs/Code/lib/python3.10/site-packages/PSID/LSSM.py:212: UserWarning: Steady state Kalman gain not available. Will perform non-steady-state Kalman.\n",
      "  warnings.warn('Steady state Kalman gain not available. Will perform non-steady-state Kalman.')\n"
     ]
    },
    {
     "name": "stdout",
     "output_type": "stream",
     "text": [
      "Behavior decoding evaluation:\n",
      "  PSID => -0.111\n",
      "Could not solve DARE: The associated symplectic pencil has eigenvaluestoo close to the unit circle\n"
     ]
    },
    {
     "name": "stderr",
     "output_type": "stream",
     "text": [
      "/home/lauraflyra/anaconda3/envs/Code/lib/python3.10/site-packages/PSID/LSSM.py:212: UserWarning: Steady state Kalman gain not available. Will perform non-steady-state Kalman.\n",
      "  warnings.warn('Steady state Kalman gain not available. Will perform non-steady-state Kalman.')\n"
     ]
    },
    {
     "name": "stdout",
     "output_type": "stream",
     "text": [
      "Behavior decoding evaluation:\n",
      "  PSID => -0.00817\n",
      "Could not solve DARE: The associated symplectic pencil has eigenvaluestoo close to the unit circle\n"
     ]
    },
    {
     "name": "stderr",
     "output_type": "stream",
     "text": [
      "/home/lauraflyra/anaconda3/envs/Code/lib/python3.10/site-packages/PSID/LSSM.py:212: UserWarning: Steady state Kalman gain not available. Will perform non-steady-state Kalman.\n",
      "  warnings.warn('Steady state Kalman gain not available. Will perform non-steady-state Kalman.')\n"
     ]
    },
    {
     "name": "stdout",
     "output_type": "stream",
     "text": [
      "Behavior decoding evaluation:\n",
      "  PSID => 0.142\n",
      "Could not solve DARE: Reordering of (A, B) failed because the transformed matrix pair (A, B) would be too far from generalized Schur form; the problem is very ill-conditioned. (A, B) may have been partially reordered.\n"
     ]
    },
    {
     "name": "stderr",
     "output_type": "stream",
     "text": [
      "/home/lauraflyra/anaconda3/envs/Code/lib/python3.10/site-packages/PSID/LSSM.py:212: UserWarning: Steady state Kalman gain not available. Will perform non-steady-state Kalman.\n",
      "  warnings.warn('Steady state Kalman gain not available. Will perform non-steady-state Kalman.')\n"
     ]
    },
    {
     "name": "stdout",
     "output_type": "stream",
     "text": [
      "Behavior decoding evaluation:\n",
      "  PSID => 0.22\n",
      "Could not solve DARE: Reordering of (A, B) failed because the transformed matrix pair (A, B) would be too far from generalized Schur form; the problem is very ill-conditioned. (A, B) may have been partially reordered.\n"
     ]
    },
    {
     "name": "stderr",
     "output_type": "stream",
     "text": [
      "/home/lauraflyra/anaconda3/envs/Code/lib/python3.10/site-packages/PSID/LSSM.py:212: UserWarning: Steady state Kalman gain not available. Will perform non-steady-state Kalman.\n",
      "  warnings.warn('Steady state Kalman gain not available. Will perform non-steady-state Kalman.')\n"
     ]
    },
    {
     "name": "stdout",
     "output_type": "stream",
     "text": [
      "Behavior decoding evaluation:\n",
      "  PSID => 0.151\n",
      "Could not solve DARE: The associated symplectic pencil has eigenvaluestoo close to the unit circle\n"
     ]
    },
    {
     "name": "stderr",
     "output_type": "stream",
     "text": [
      "/home/lauraflyra/anaconda3/envs/Code/lib/python3.10/site-packages/PSID/LSSM.py:212: UserWarning: Steady state Kalman gain not available. Will perform non-steady-state Kalman.\n",
      "  warnings.warn('Steady state Kalman gain not available. Will perform non-steady-state Kalman.')\n"
     ]
    },
    {
     "name": "stdout",
     "output_type": "stream",
     "text": [
      "Behavior decoding evaluation:\n",
      "  PSID => -0.102\n",
      "Could not solve DARE: Reordering of (A, B) failed because the transformed matrix pair (A, B) would be too far from generalized Schur form; the problem is very ill-conditioned. (A, B) may have been partially reordered.\n"
     ]
    },
    {
     "name": "stderr",
     "output_type": "stream",
     "text": [
      "/home/lauraflyra/anaconda3/envs/Code/lib/python3.10/site-packages/PSID/LSSM.py:212: UserWarning: Steady state Kalman gain not available. Will perform non-steady-state Kalman.\n",
      "  warnings.warn('Steady state Kalman gain not available. Will perform non-steady-state Kalman.')\n"
     ]
    },
    {
     "name": "stdout",
     "output_type": "stream",
     "text": [
      "Behavior decoding evaluation:\n",
      "  PSID => -0.0258\n",
      "Could not solve DARE: Reordering of (A, B) failed because the transformed matrix pair (A, B) would be too far from generalized Schur form; the problem is very ill-conditioned. (A, B) may have been partially reordered.\n"
     ]
    },
    {
     "name": "stderr",
     "output_type": "stream",
     "text": [
      "/home/lauraflyra/anaconda3/envs/Code/lib/python3.10/site-packages/PSID/LSSM.py:212: UserWarning: Steady state Kalman gain not available. Will perform non-steady-state Kalman.\n",
      "  warnings.warn('Steady state Kalman gain not available. Will perform non-steady-state Kalman.')\n"
     ]
    },
    {
     "name": "stdout",
     "output_type": "stream",
     "text": [
      "Behavior decoding evaluation:\n",
      "  PSID => 0.146\n",
      "Could not solve DARE: Reordering of (A, B) failed because the transformed matrix pair (A, B) would be too far from generalized Schur form; the problem is very ill-conditioned. (A, B) may have been partially reordered.\n"
     ]
    },
    {
     "name": "stderr",
     "output_type": "stream",
     "text": [
      "/home/lauraflyra/anaconda3/envs/Code/lib/python3.10/site-packages/PSID/LSSM.py:212: UserWarning: Steady state Kalman gain not available. Will perform non-steady-state Kalman.\n",
      "  warnings.warn('Steady state Kalman gain not available. Will perform non-steady-state Kalman.')\n"
     ]
    },
    {
     "name": "stdout",
     "output_type": "stream",
     "text": [
      "Behavior decoding evaluation:\n",
      "  PSID => 0.2\n",
      "Could not solve DARE: Reordering of (A, B) failed because the transformed matrix pair (A, B) would be too far from generalized Schur form; the problem is very ill-conditioned. (A, B) may have been partially reordered.\n"
     ]
    },
    {
     "name": "stderr",
     "output_type": "stream",
     "text": [
      "/home/lauraflyra/anaconda3/envs/Code/lib/python3.10/site-packages/PSID/LSSM.py:212: UserWarning: Steady state Kalman gain not available. Will perform non-steady-state Kalman.\n",
      "  warnings.warn('Steady state Kalman gain not available. Will perform non-steady-state Kalman.')\n"
     ]
    },
    {
     "name": "stdout",
     "output_type": "stream",
     "text": [
      "Behavior decoding evaluation:\n",
      "  PSID => 0.148\n",
      "Could not solve DARE: Reordering of (A, B) failed because the transformed matrix pair (A, B) would be too far from generalized Schur form; the problem is very ill-conditioned. (A, B) may have been partially reordered.\n"
     ]
    },
    {
     "name": "stderr",
     "output_type": "stream",
     "text": [
      "/home/lauraflyra/anaconda3/envs/Code/lib/python3.10/site-packages/PSID/LSSM.py:212: UserWarning: Steady state Kalman gain not available. Will perform non-steady-state Kalman.\n",
      "  warnings.warn('Steady state Kalman gain not available. Will perform non-steady-state Kalman.')\n"
     ]
    },
    {
     "name": "stdout",
     "output_type": "stream",
     "text": [
      "Behavior decoding evaluation:\n",
      "  PSID => -0.0658\n",
      "Could not solve DARE: The associated symplectic pencil has eigenvaluestoo close to the unit circle\n"
     ]
    },
    {
     "name": "stderr",
     "output_type": "stream",
     "text": [
      "/home/lauraflyra/anaconda3/envs/Code/lib/python3.10/site-packages/PSID/LSSM.py:212: UserWarning: Steady state Kalman gain not available. Will perform non-steady-state Kalman.\n",
      "  warnings.warn('Steady state Kalman gain not available. Will perform non-steady-state Kalman.')\n"
     ]
    },
    {
     "name": "stdout",
     "output_type": "stream",
     "text": [
      "Behavior decoding evaluation:\n",
      "  PSID => -0.0299\n",
      "Could not solve DARE: Reordering of (A, B) failed because the transformed matrix pair (A, B) would be too far from generalized Schur form; the problem is very ill-conditioned. (A, B) may have been partially reordered.\n"
     ]
    },
    {
     "name": "stderr",
     "output_type": "stream",
     "text": [
      "/home/lauraflyra/anaconda3/envs/Code/lib/python3.10/site-packages/PSID/LSSM.py:212: UserWarning: Steady state Kalman gain not available. Will perform non-steady-state Kalman.\n",
      "  warnings.warn('Steady state Kalman gain not available. Will perform non-steady-state Kalman.')\n"
     ]
    },
    {
     "name": "stdout",
     "output_type": "stream",
     "text": [
      "Behavior decoding evaluation:\n",
      "  PSID => 0.152\n",
      "Could not solve DARE: Reordering of (A, B) failed because the transformed matrix pair (A, B) would be too far from generalized Schur form; the problem is very ill-conditioned. (A, B) may have been partially reordered.\n"
     ]
    },
    {
     "name": "stderr",
     "output_type": "stream",
     "text": [
      "/home/lauraflyra/anaconda3/envs/Code/lib/python3.10/site-packages/PSID/LSSM.py:212: UserWarning: Steady state Kalman gain not available. Will perform non-steady-state Kalman.\n",
      "  warnings.warn('Steady state Kalman gain not available. Will perform non-steady-state Kalman.')\n"
     ]
    },
    {
     "name": "stdout",
     "output_type": "stream",
     "text": [
      "Behavior decoding evaluation:\n",
      "  PSID => 0.202\n",
      "Could not solve DARE: Reordering of (A, B) failed because the transformed matrix pair (A, B) would be too far from generalized Schur form; the problem is very ill-conditioned. (A, B) may have been partially reordered.\n"
     ]
    },
    {
     "name": "stderr",
     "output_type": "stream",
     "text": [
      "/home/lauraflyra/anaconda3/envs/Code/lib/python3.10/site-packages/PSID/LSSM.py:212: UserWarning: Steady state Kalman gain not available. Will perform non-steady-state Kalman.\n",
      "  warnings.warn('Steady state Kalman gain not available. Will perform non-steady-state Kalman.')\n"
     ]
    },
    {
     "name": "stdout",
     "output_type": "stream",
     "text": [
      "Behavior decoding evaluation:\n",
      "  PSID => 0.138\n",
      "Could not solve DARE: Reordering of (A, B) failed because the transformed matrix pair (A, B) would be too far from generalized Schur form; the problem is very ill-conditioned. (A, B) may have been partially reordered.\n"
     ]
    },
    {
     "name": "stderr",
     "output_type": "stream",
     "text": [
      "/home/lauraflyra/anaconda3/envs/Code/lib/python3.10/site-packages/PSID/LSSM.py:212: UserWarning: Steady state Kalman gain not available. Will perform non-steady-state Kalman.\n",
      "  warnings.warn('Steady state Kalman gain not available. Will perform non-steady-state Kalman.')\n"
     ]
    },
    {
     "name": "stdout",
     "output_type": "stream",
     "text": [
      "Behavior decoding evaluation:\n",
      "  PSID => -0.183\n",
      "Could not solve DARE: The associated symplectic pencil has eigenvaluestoo close to the unit circle\n"
     ]
    },
    {
     "name": "stderr",
     "output_type": "stream",
     "text": [
      "/home/lauraflyra/anaconda3/envs/Code/lib/python3.10/site-packages/PSID/LSSM.py:212: UserWarning: Steady state Kalman gain not available. Will perform non-steady-state Kalman.\n",
      "  warnings.warn('Steady state Kalman gain not available. Will perform non-steady-state Kalman.')\n"
     ]
    },
    {
     "name": "stdout",
     "output_type": "stream",
     "text": [
      "Behavior decoding evaluation:\n",
      "  PSID => -8.74e-05\n",
      "Could not solve DARE: Reordering of (A, B) failed because the transformed matrix pair (A, B) would be too far from generalized Schur form; the problem is very ill-conditioned. (A, B) may have been partially reordered.\n"
     ]
    },
    {
     "name": "stderr",
     "output_type": "stream",
     "text": [
      "/home/lauraflyra/anaconda3/envs/Code/lib/python3.10/site-packages/PSID/LSSM.py:212: UserWarning: Steady state Kalman gain not available. Will perform non-steady-state Kalman.\n",
      "  warnings.warn('Steady state Kalman gain not available. Will perform non-steady-state Kalman.')\n"
     ]
    },
    {
     "name": "stdout",
     "output_type": "stream",
     "text": [
      "Behavior decoding evaluation:\n",
      "  PSID => 0.143\n",
      "Could not solve DARE: Reordering of (A, B) failed because the transformed matrix pair (A, B) would be too far from generalized Schur form; the problem is very ill-conditioned. (A, B) may have been partially reordered.\n"
     ]
    },
    {
     "name": "stderr",
     "output_type": "stream",
     "text": [
      "/home/lauraflyra/anaconda3/envs/Code/lib/python3.10/site-packages/PSID/LSSM.py:212: UserWarning: Steady state Kalman gain not available. Will perform non-steady-state Kalman.\n",
      "  warnings.warn('Steady state Kalman gain not available. Will perform non-steady-state Kalman.')\n"
     ]
    },
    {
     "name": "stdout",
     "output_type": "stream",
     "text": [
      "Behavior decoding evaluation:\n",
      "  PSID => 0.204\n",
      "Could not solve DARE: The associated symplectic pencil has eigenvaluestoo close to the unit circle\n"
     ]
    },
    {
     "name": "stderr",
     "output_type": "stream",
     "text": [
      "/home/lauraflyra/anaconda3/envs/Code/lib/python3.10/site-packages/PSID/LSSM.py:212: UserWarning: Steady state Kalman gain not available. Will perform non-steady-state Kalman.\n",
      "  warnings.warn('Steady state Kalman gain not available. Will perform non-steady-state Kalman.')\n"
     ]
    },
    {
     "name": "stdout",
     "output_type": "stream",
     "text": [
      "Behavior decoding evaluation:\n",
      "  PSID => 0.137\n",
      "Could not solve DARE: Reordering of (A, B) failed because the transformed matrix pair (A, B) would be too far from generalized Schur form; the problem is very ill-conditioned. (A, B) may have been partially reordered.\n"
     ]
    },
    {
     "name": "stderr",
     "output_type": "stream",
     "text": [
      "/home/lauraflyra/anaconda3/envs/Code/lib/python3.10/site-packages/PSID/LSSM.py:212: UserWarning: Steady state Kalman gain not available. Will perform non-steady-state Kalman.\n",
      "  warnings.warn('Steady state Kalman gain not available. Will perform non-steady-state Kalman.')\n"
     ]
    },
    {
     "name": "stdout",
     "output_type": "stream",
     "text": [
      "Behavior decoding evaluation:\n",
      "  PSID => -0.0898\n",
      "Could not solve DARE: Reordering of (A, B) failed because the transformed matrix pair (A, B) would be too far from generalized Schur form; the problem is very ill-conditioned. (A, B) may have been partially reordered.\n"
     ]
    },
    {
     "name": "stderr",
     "output_type": "stream",
     "text": [
      "/home/lauraflyra/anaconda3/envs/Code/lib/python3.10/site-packages/PSID/LSSM.py:212: UserWarning: Steady state Kalman gain not available. Will perform non-steady-state Kalman.\n",
      "  warnings.warn('Steady state Kalman gain not available. Will perform non-steady-state Kalman.')\n"
     ]
    },
    {
     "name": "stdout",
     "output_type": "stream",
     "text": [
      "Behavior decoding evaluation:\n",
      "  PSID => -0.0114\n",
      "Could not solve DARE: Reordering of (A, B) failed because the transformed matrix pair (A, B) would be too far from generalized Schur form; the problem is very ill-conditioned. (A, B) may have been partially reordered.\n"
     ]
    },
    {
     "name": "stderr",
     "output_type": "stream",
     "text": [
      "/home/lauraflyra/anaconda3/envs/Code/lib/python3.10/site-packages/PSID/LSSM.py:212: UserWarning: Steady state Kalman gain not available. Will perform non-steady-state Kalman.\n",
      "  warnings.warn('Steady state Kalman gain not available. Will perform non-steady-state Kalman.')\n"
     ]
    },
    {
     "name": "stdout",
     "output_type": "stream",
     "text": [
      "Behavior decoding evaluation:\n",
      "  PSID => 0.131\n",
      "Could not solve DARE: Reordering of (A, B) failed because the transformed matrix pair (A, B) would be too far from generalized Schur form; the problem is very ill-conditioned. (A, B) may have been partially reordered.\n"
     ]
    },
    {
     "name": "stderr",
     "output_type": "stream",
     "text": [
      "/home/lauraflyra/anaconda3/envs/Code/lib/python3.10/site-packages/PSID/LSSM.py:212: UserWarning: Steady state Kalman gain not available. Will perform non-steady-state Kalman.\n",
      "  warnings.warn('Steady state Kalman gain not available. Will perform non-steady-state Kalman.')\n"
     ]
    },
    {
     "name": "stdout",
     "output_type": "stream",
     "text": [
      "Behavior decoding evaluation:\n",
      "  PSID => 0.205\n",
      "Could not solve DARE: Reordering of (A, B) failed because the transformed matrix pair (A, B) would be too far from generalized Schur form; the problem is very ill-conditioned. (A, B) may have been partially reordered.\n"
     ]
    },
    {
     "name": "stderr",
     "output_type": "stream",
     "text": [
      "/home/lauraflyra/anaconda3/envs/Code/lib/python3.10/site-packages/PSID/LSSM.py:212: UserWarning: Steady state Kalman gain not available. Will perform non-steady-state Kalman.\n",
      "  warnings.warn('Steady state Kalman gain not available. Will perform non-steady-state Kalman.')\n"
     ]
    },
    {
     "name": "stdout",
     "output_type": "stream",
     "text": [
      "Behavior decoding evaluation:\n",
      "  PSID => 0.146\n",
      "Could not solve DARE: The associated symplectic pencil has eigenvaluestoo close to the unit circle\n"
     ]
    },
    {
     "name": "stderr",
     "output_type": "stream",
     "text": [
      "/home/lauraflyra/anaconda3/envs/Code/lib/python3.10/site-packages/PSID/LSSM.py:212: UserWarning: Steady state Kalman gain not available. Will perform non-steady-state Kalman.\n",
      "  warnings.warn('Steady state Kalman gain not available. Will perform non-steady-state Kalman.')\n"
     ]
    },
    {
     "name": "stdout",
     "output_type": "stream",
     "text": [
      "Behavior decoding evaluation:\n",
      "  PSID => -0.145\n",
      "Could not solve DARE: Reordering of (A, B) failed because the transformed matrix pair (A, B) would be too far from generalized Schur form; the problem is very ill-conditioned. (A, B) may have been partially reordered.\n"
     ]
    },
    {
     "name": "stderr",
     "output_type": "stream",
     "text": [
      "/home/lauraflyra/anaconda3/envs/Code/lib/python3.10/site-packages/PSID/LSSM.py:212: UserWarning: Steady state Kalman gain not available. Will perform non-steady-state Kalman.\n",
      "  warnings.warn('Steady state Kalman gain not available. Will perform non-steady-state Kalman.')\n"
     ]
    },
    {
     "name": "stdout",
     "output_type": "stream",
     "text": [
      "Behavior decoding evaluation:\n",
      "  PSID => -0.023\n",
      "Could not solve DARE: Reordering of (A, B) failed because the transformed matrix pair (A, B) would be too far from generalized Schur form; the problem is very ill-conditioned. (A, B) may have been partially reordered.\n"
     ]
    },
    {
     "name": "stderr",
     "output_type": "stream",
     "text": [
      "/home/lauraflyra/anaconda3/envs/Code/lib/python3.10/site-packages/PSID/LSSM.py:212: UserWarning: Steady state Kalman gain not available. Will perform non-steady-state Kalman.\n",
      "  warnings.warn('Steady state Kalman gain not available. Will perform non-steady-state Kalman.')\n"
     ]
    },
    {
     "name": "stdout",
     "output_type": "stream",
     "text": [
      "Behavior decoding evaluation:\n",
      "  PSID => 0.111\n",
      "Could not solve DARE: Reordering of (A, B) failed because the transformed matrix pair (A, B) would be too far from generalized Schur form; the problem is very ill-conditioned. (A, B) may have been partially reordered.\n"
     ]
    },
    {
     "name": "stderr",
     "output_type": "stream",
     "text": [
      "/home/lauraflyra/anaconda3/envs/Code/lib/python3.10/site-packages/PSID/LSSM.py:212: UserWarning: Steady state Kalman gain not available. Will perform non-steady-state Kalman.\n",
      "  warnings.warn('Steady state Kalman gain not available. Will perform non-steady-state Kalman.')\n"
     ]
    },
    {
     "name": "stdout",
     "output_type": "stream",
     "text": [
      "Behavior decoding evaluation:\n",
      "  PSID => 0.203\n",
      "Could not solve DARE: Reordering of (A, B) failed because the transformed matrix pair (A, B) would be too far from generalized Schur form; the problem is very ill-conditioned. (A, B) may have been partially reordered.\n"
     ]
    },
    {
     "name": "stderr",
     "output_type": "stream",
     "text": [
      "/home/lauraflyra/anaconda3/envs/Code/lib/python3.10/site-packages/PSID/LSSM.py:212: UserWarning: Steady state Kalman gain not available. Will perform non-steady-state Kalman.\n",
      "  warnings.warn('Steady state Kalman gain not available. Will perform non-steady-state Kalman.')\n"
     ]
    },
    {
     "name": "stdout",
     "output_type": "stream",
     "text": [
      "Behavior decoding evaluation:\n",
      "  PSID => 0.143\n",
      "Could not solve DARE: Reordering of (A, B) failed because the transformed matrix pair (A, B) would be too far from generalized Schur form; the problem is very ill-conditioned. (A, B) may have been partially reordered.\n"
     ]
    },
    {
     "name": "stderr",
     "output_type": "stream",
     "text": [
      "/home/lauraflyra/anaconda3/envs/Code/lib/python3.10/site-packages/PSID/LSSM.py:212: UserWarning: Steady state Kalman gain not available. Will perform non-steady-state Kalman.\n",
      "  warnings.warn('Steady state Kalman gain not available. Will perform non-steady-state Kalman.')\n"
     ]
    },
    {
     "name": "stdout",
     "output_type": "stream",
     "text": [
      "Behavior decoding evaluation:\n",
      "  PSID => -0.101\n",
      "Could not solve DARE: Reordering of (A, B) failed because the transformed matrix pair (A, B) would be too far from generalized Schur form; the problem is very ill-conditioned. (A, B) may have been partially reordered.\n"
     ]
    },
    {
     "name": "stderr",
     "output_type": "stream",
     "text": [
      "/home/lauraflyra/anaconda3/envs/Code/lib/python3.10/site-packages/PSID/LSSM.py:212: UserWarning: Steady state Kalman gain not available. Will perform non-steady-state Kalman.\n",
      "  warnings.warn('Steady state Kalman gain not available. Will perform non-steady-state Kalman.')\n"
     ]
    },
    {
     "name": "stdout",
     "output_type": "stream",
     "text": [
      "Behavior decoding evaluation:\n",
      "  PSID => -0.0213\n",
      "Could not solve DARE: Reordering of (A, B) failed because the transformed matrix pair (A, B) would be too far from generalized Schur form; the problem is very ill-conditioned. (A, B) may have been partially reordered.\n"
     ]
    },
    {
     "name": "stderr",
     "output_type": "stream",
     "text": [
      "/home/lauraflyra/anaconda3/envs/Code/lib/python3.10/site-packages/PSID/LSSM.py:212: UserWarning: Steady state Kalman gain not available. Will perform non-steady-state Kalman.\n",
      "  warnings.warn('Steady state Kalman gain not available. Will perform non-steady-state Kalman.')\n"
     ]
    },
    {
     "name": "stdout",
     "output_type": "stream",
     "text": [
      "Behavior decoding evaluation:\n",
      "  PSID => 0.133\n",
      "Could not solve DARE: The associated symplectic pencil has eigenvaluestoo close to the unit circle\n"
     ]
    },
    {
     "name": "stderr",
     "output_type": "stream",
     "text": [
      "/home/lauraflyra/anaconda3/envs/Code/lib/python3.10/site-packages/PSID/LSSM.py:212: UserWarning: Steady state Kalman gain not available. Will perform non-steady-state Kalman.\n",
      "  warnings.warn('Steady state Kalman gain not available. Will perform non-steady-state Kalman.')\n"
     ]
    },
    {
     "name": "stdout",
     "output_type": "stream",
     "text": [
      "Behavior decoding evaluation:\n",
      "  PSID => 0.201\n",
      "Could not solve DARE: Reordering of (A, B) failed because the transformed matrix pair (A, B) would be too far from generalized Schur form; the problem is very ill-conditioned. (A, B) may have been partially reordered.\n"
     ]
    },
    {
     "name": "stderr",
     "output_type": "stream",
     "text": [
      "/home/lauraflyra/anaconda3/envs/Code/lib/python3.10/site-packages/PSID/LSSM.py:212: UserWarning: Steady state Kalman gain not available. Will perform non-steady-state Kalman.\n",
      "  warnings.warn('Steady state Kalman gain not available. Will perform non-steady-state Kalman.')\n"
     ]
    },
    {
     "name": "stdout",
     "output_type": "stream",
     "text": [
      "Behavior decoding evaluation:\n",
      "  PSID => 0.141\n",
      "Could not solve DARE: The associated symplectic pencil has eigenvaluestoo close to the unit circle\n"
     ]
    },
    {
     "name": "stderr",
     "output_type": "stream",
     "text": [
      "/home/lauraflyra/anaconda3/envs/Code/lib/python3.10/site-packages/PSID/LSSM.py:212: UserWarning: Steady state Kalman gain not available. Will perform non-steady-state Kalman.\n",
      "  warnings.warn('Steady state Kalman gain not available. Will perform non-steady-state Kalman.')\n"
     ]
    },
    {
     "name": "stdout",
     "output_type": "stream",
     "text": [
      "Behavior decoding evaluation:\n",
      "  PSID => -0.208\n",
      "Could not solve DARE: The associated symplectic pencil has eigenvaluestoo close to the unit circle\n"
     ]
    },
    {
     "name": "stderr",
     "output_type": "stream",
     "text": [
      "/home/lauraflyra/anaconda3/envs/Code/lib/python3.10/site-packages/PSID/LSSM.py:212: UserWarning: Steady state Kalman gain not available. Will perform non-steady-state Kalman.\n",
      "  warnings.warn('Steady state Kalman gain not available. Will perform non-steady-state Kalman.')\n"
     ]
    },
    {
     "name": "stdout",
     "output_type": "stream",
     "text": [
      "Behavior decoding evaluation:\n",
      "  PSID => -0.017\n",
      "Could not solve DARE: Reordering of (A, B) failed because the transformed matrix pair (A, B) would be too far from generalized Schur form; the problem is very ill-conditioned. (A, B) may have been partially reordered.\n"
     ]
    },
    {
     "name": "stderr",
     "output_type": "stream",
     "text": [
      "/home/lauraflyra/anaconda3/envs/Code/lib/python3.10/site-packages/PSID/LSSM.py:212: UserWarning: Steady state Kalman gain not available. Will perform non-steady-state Kalman.\n",
      "  warnings.warn('Steady state Kalman gain not available. Will perform non-steady-state Kalman.')\n"
     ]
    },
    {
     "name": "stdout",
     "output_type": "stream",
     "text": [
      "Behavior decoding evaluation:\n",
      "  PSID => 0.149\n",
      "Could not solve DARE: Reordering of (A, B) failed because the transformed matrix pair (A, B) would be too far from generalized Schur form; the problem is very ill-conditioned. (A, B) may have been partially reordered.\n"
     ]
    },
    {
     "name": "stderr",
     "output_type": "stream",
     "text": [
      "/home/lauraflyra/anaconda3/envs/Code/lib/python3.10/site-packages/PSID/LSSM.py:212: UserWarning: Steady state Kalman gain not available. Will perform non-steady-state Kalman.\n",
      "  warnings.warn('Steady state Kalman gain not available. Will perform non-steady-state Kalman.')\n"
     ]
    },
    {
     "name": "stdout",
     "output_type": "stream",
     "text": [
      "Behavior decoding evaluation:\n",
      "  PSID => 0.203\n",
      "Could not solve DARE: Reordering of (A, B) failed because the transformed matrix pair (A, B) would be too far from generalized Schur form; the problem is very ill-conditioned. (A, B) may have been partially reordered.\n"
     ]
    },
    {
     "name": "stderr",
     "output_type": "stream",
     "text": [
      "/home/lauraflyra/anaconda3/envs/Code/lib/python3.10/site-packages/PSID/LSSM.py:212: UserWarning: Steady state Kalman gain not available. Will perform non-steady-state Kalman.\n",
      "  warnings.warn('Steady state Kalman gain not available. Will perform non-steady-state Kalman.')\n"
     ]
    },
    {
     "name": "stdout",
     "output_type": "stream",
     "text": [
      "Behavior decoding evaluation:\n",
      "  PSID => 0.145\n",
      "Behavior decoding evaluation:\n",
      "  PSID => -0.0607\n",
      "Behavior decoding evaluation:\n",
      "  PSID => 0.00658\n",
      "Behavior decoding evaluation:\n",
      "  PSID => 0.0729\n",
      "Behavior decoding evaluation:\n",
      "  PSID => 0.0934\n",
      "Behavior decoding evaluation:\n",
      "  PSID => -0.0417\n",
      "Behavior decoding evaluation:\n",
      "  PSID => -0.186\n",
      "Behavior decoding evaluation:\n",
      "  PSID => -0.145\n",
      "Behavior decoding evaluation:\n",
      "  PSID => -0.0471\n",
      "Behavior decoding evaluation:\n",
      "  PSID => -0.0109\n",
      "Behavior decoding evaluation:\n",
      "  PSID => -0.197\n",
      "Behavior decoding evaluation:\n",
      "  PSID => -0.0793\n",
      "Could not solve DARE: The associated symplectic pencil has eigenvaluestoo close to the unit circle\n"
     ]
    },
    {
     "name": "stderr",
     "output_type": "stream",
     "text": [
      "/home/lauraflyra/anaconda3/envs/Code/lib/python3.10/site-packages/PSID/LSSM.py:212: UserWarning: Steady state Kalman gain not available. Will perform non-steady-state Kalman.\n",
      "  warnings.warn('Steady state Kalman gain not available. Will perform non-steady-state Kalman.')\n"
     ]
    },
    {
     "name": "stdout",
     "output_type": "stream",
     "text": [
      "Behavior decoding evaluation:\n",
      "  PSID => -0.126\n",
      "Could not solve DARE: The associated symplectic pencil has eigenvaluestoo close to the unit circle\n"
     ]
    },
    {
     "name": "stderr",
     "output_type": "stream",
     "text": [
      "/home/lauraflyra/anaconda3/envs/Code/lib/python3.10/site-packages/PSID/LSSM.py:212: UserWarning: Steady state Kalman gain not available. Will perform non-steady-state Kalman.\n",
      "  warnings.warn('Steady state Kalman gain not available. Will perform non-steady-state Kalman.')\n"
     ]
    },
    {
     "name": "stdout",
     "output_type": "stream",
     "text": [
      "Behavior decoding evaluation:\n",
      "  PSID => 0.00962\n",
      "Could not solve DARE: The associated symplectic pencil has eigenvaluestoo close to the unit circle\n"
     ]
    },
    {
     "name": "stderr",
     "output_type": "stream",
     "text": [
      "/home/lauraflyra/anaconda3/envs/Code/lib/python3.10/site-packages/PSID/LSSM.py:212: UserWarning: Steady state Kalman gain not available. Will perform non-steady-state Kalman.\n",
      "  warnings.warn('Steady state Kalman gain not available. Will perform non-steady-state Kalman.')\n"
     ]
    },
    {
     "name": "stdout",
     "output_type": "stream",
     "text": [
      "Behavior decoding evaluation:\n",
      "  PSID => 0.0846\n",
      "Could not solve DARE: Reordering of (A, B) failed because the transformed matrix pair (A, B) would be too far from generalized Schur form; the problem is very ill-conditioned. (A, B) may have been partially reordered.\n"
     ]
    },
    {
     "name": "stderr",
     "output_type": "stream",
     "text": [
      "/home/lauraflyra/anaconda3/envs/Code/lib/python3.10/site-packages/PSID/LSSM.py:212: UserWarning: Steady state Kalman gain not available. Will perform non-steady-state Kalman.\n",
      "  warnings.warn('Steady state Kalman gain not available. Will perform non-steady-state Kalman.')\n"
     ]
    },
    {
     "name": "stdout",
     "output_type": "stream",
     "text": [
      "Behavior decoding evaluation:\n",
      "  PSID => -0.0662\n",
      "Could not solve DARE: The associated symplectic pencil has eigenvaluestoo close to the unit circle\n"
     ]
    },
    {
     "name": "stderr",
     "output_type": "stream",
     "text": [
      "/home/lauraflyra/anaconda3/envs/Code/lib/python3.10/site-packages/PSID/LSSM.py:212: UserWarning: Steady state Kalman gain not available. Will perform non-steady-state Kalman.\n",
      "  warnings.warn('Steady state Kalman gain not available. Will perform non-steady-state Kalman.')\n"
     ]
    },
    {
     "name": "stdout",
     "output_type": "stream",
     "text": [
      "Behavior decoding evaluation:\n",
      "  PSID => -0.452\n",
      "Could not solve DARE: Reordering of (A, B) failed because the transformed matrix pair (A, B) would be too far from generalized Schur form; the problem is very ill-conditioned. (A, B) may have been partially reordered.\n"
     ]
    },
    {
     "name": "stderr",
     "output_type": "stream",
     "text": [
      "/home/lauraflyra/anaconda3/envs/Code/lib/python3.10/site-packages/PSID/LSSM.py:212: UserWarning: Steady state Kalman gain not available. Will perform non-steady-state Kalman.\n",
      "  warnings.warn('Steady state Kalman gain not available. Will perform non-steady-state Kalman.')\n"
     ]
    },
    {
     "name": "stdout",
     "output_type": "stream",
     "text": [
      "Behavior decoding evaluation:\n",
      "  PSID => -0.0809\n",
      "Could not solve DARE: The associated symplectic pencil has eigenvaluestoo close to the unit circle\n"
     ]
    },
    {
     "name": "stderr",
     "output_type": "stream",
     "text": [
      "/home/lauraflyra/anaconda3/envs/Code/lib/python3.10/site-packages/PSID/LSSM.py:212: UserWarning: Steady state Kalman gain not available. Will perform non-steady-state Kalman.\n",
      "  warnings.warn('Steady state Kalman gain not available. Will perform non-steady-state Kalman.')\n"
     ]
    },
    {
     "name": "stdout",
     "output_type": "stream",
     "text": [
      "Behavior decoding evaluation:\n",
      "  PSID => 0.0237\n",
      "Could not solve DARE: The associated symplectic pencil has eigenvaluestoo close to the unit circle\n"
     ]
    },
    {
     "name": "stderr",
     "output_type": "stream",
     "text": [
      "/home/lauraflyra/anaconda3/envs/Code/lib/python3.10/site-packages/PSID/LSSM.py:212: UserWarning: Steady state Kalman gain not available. Will perform non-steady-state Kalman.\n",
      "  warnings.warn('Steady state Kalman gain not available. Will perform non-steady-state Kalman.')\n"
     ]
    },
    {
     "name": "stdout",
     "output_type": "stream",
     "text": [
      "Behavior decoding evaluation:\n",
      "  PSID => 0.107\n",
      "Could not solve DARE: The associated symplectic pencil has eigenvaluestoo close to the unit circle\n"
     ]
    },
    {
     "name": "stderr",
     "output_type": "stream",
     "text": [
      "/home/lauraflyra/anaconda3/envs/Code/lib/python3.10/site-packages/PSID/LSSM.py:212: UserWarning: Steady state Kalman gain not available. Will perform non-steady-state Kalman.\n",
      "  warnings.warn('Steady state Kalman gain not available. Will perform non-steady-state Kalman.')\n"
     ]
    },
    {
     "name": "stdout",
     "output_type": "stream",
     "text": [
      "Behavior decoding evaluation:\n",
      "  PSID => -0.034\n",
      "Could not solve DARE: The associated symplectic pencil has eigenvaluestoo close to the unit circle\n"
     ]
    },
    {
     "name": "stderr",
     "output_type": "stream",
     "text": [
      "/home/lauraflyra/anaconda3/envs/Code/lib/python3.10/site-packages/PSID/LSSM.py:212: UserWarning: Steady state Kalman gain not available. Will perform non-steady-state Kalman.\n",
      "  warnings.warn('Steady state Kalman gain not available. Will perform non-steady-state Kalman.')\n"
     ]
    },
    {
     "name": "stdout",
     "output_type": "stream",
     "text": [
      "Behavior decoding evaluation:\n",
      "  PSID => -0.31\n",
      "Could not solve DARE: The associated symplectic pencil has eigenvaluestoo close to the unit circle\n"
     ]
    },
    {
     "name": "stderr",
     "output_type": "stream",
     "text": [
      "/home/lauraflyra/anaconda3/envs/Code/lib/python3.10/site-packages/PSID/LSSM.py:212: UserWarning: Steady state Kalman gain not available. Will perform non-steady-state Kalman.\n",
      "  warnings.warn('Steady state Kalman gain not available. Will perform non-steady-state Kalman.')\n"
     ]
    },
    {
     "name": "stdout",
     "output_type": "stream",
     "text": [
      "Behavior decoding evaluation:\n",
      "  PSID => -0.1\n",
      "Could not solve DARE: The associated symplectic pencil has eigenvaluestoo close to the unit circle\n"
     ]
    },
    {
     "name": "stderr",
     "output_type": "stream",
     "text": [
      "/home/lauraflyra/anaconda3/envs/Code/lib/python3.10/site-packages/PSID/LSSM.py:212: UserWarning: Steady state Kalman gain not available. Will perform non-steady-state Kalman.\n",
      "  warnings.warn('Steady state Kalman gain not available. Will perform non-steady-state Kalman.')\n"
     ]
    },
    {
     "name": "stdout",
     "output_type": "stream",
     "text": [
      "Behavior decoding evaluation:\n",
      "  PSID => 0.0307\n",
      "Could not solve DARE: The associated symplectic pencil has eigenvaluestoo close to the unit circle\n"
     ]
    },
    {
     "name": "stderr",
     "output_type": "stream",
     "text": [
      "/home/lauraflyra/anaconda3/envs/Code/lib/python3.10/site-packages/PSID/LSSM.py:212: UserWarning: Steady state Kalman gain not available. Will perform non-steady-state Kalman.\n",
      "  warnings.warn('Steady state Kalman gain not available. Will perform non-steady-state Kalman.')\n"
     ]
    },
    {
     "name": "stdout",
     "output_type": "stream",
     "text": [
      "Behavior decoding evaluation:\n",
      "  PSID => 0.116\n",
      "Could not solve DARE: The associated symplectic pencil has eigenvaluestoo close to the unit circle\n"
     ]
    },
    {
     "name": "stderr",
     "output_type": "stream",
     "text": [
      "/home/lauraflyra/anaconda3/envs/Code/lib/python3.10/site-packages/PSID/LSSM.py:212: UserWarning: Steady state Kalman gain not available. Will perform non-steady-state Kalman.\n",
      "  warnings.warn('Steady state Kalman gain not available. Will perform non-steady-state Kalman.')\n"
     ]
    },
    {
     "name": "stdout",
     "output_type": "stream",
     "text": [
      "Behavior decoding evaluation:\n",
      "  PSID => -0.0383\n",
      "Could not solve DARE: The associated symplectic pencil has eigenvaluestoo close to the unit circle\n"
     ]
    },
    {
     "name": "stderr",
     "output_type": "stream",
     "text": [
      "/home/lauraflyra/anaconda3/envs/Code/lib/python3.10/site-packages/PSID/LSSM.py:212: UserWarning: Steady state Kalman gain not available. Will perform non-steady-state Kalman.\n",
      "  warnings.warn('Steady state Kalman gain not available. Will perform non-steady-state Kalman.')\n"
     ]
    },
    {
     "name": "stdout",
     "output_type": "stream",
     "text": [
      "Behavior decoding evaluation:\n",
      "  PSID => -0.3\n",
      "Could not solve DARE: Reordering of (A, B) failed because the transformed matrix pair (A, B) would be too far from generalized Schur form; the problem is very ill-conditioned. (A, B) may have been partially reordered.\n"
     ]
    },
    {
     "name": "stderr",
     "output_type": "stream",
     "text": [
      "/home/lauraflyra/anaconda3/envs/Code/lib/python3.10/site-packages/PSID/LSSM.py:212: UserWarning: Steady state Kalman gain not available. Will perform non-steady-state Kalman.\n",
      "  warnings.warn('Steady state Kalman gain not available. Will perform non-steady-state Kalman.')\n"
     ]
    },
    {
     "name": "stdout",
     "output_type": "stream",
     "text": [
      "Behavior decoding evaluation:\n",
      "  PSID => -0.0943\n",
      "Could not solve DARE: The associated symplectic pencil has eigenvaluestoo close to the unit circle\n"
     ]
    },
    {
     "name": "stderr",
     "output_type": "stream",
     "text": [
      "/home/lauraflyra/anaconda3/envs/Code/lib/python3.10/site-packages/PSID/LSSM.py:212: UserWarning: Steady state Kalman gain not available. Will perform non-steady-state Kalman.\n",
      "  warnings.warn('Steady state Kalman gain not available. Will perform non-steady-state Kalman.')\n"
     ]
    },
    {
     "name": "stdout",
     "output_type": "stream",
     "text": [
      "Behavior decoding evaluation:\n",
      "  PSID => 0.0238\n",
      "Could not solve DARE: The associated symplectic pencil has eigenvaluestoo close to the unit circle\n"
     ]
    },
    {
     "name": "stderr",
     "output_type": "stream",
     "text": [
      "/home/lauraflyra/anaconda3/envs/Code/lib/python3.10/site-packages/PSID/LSSM.py:212: UserWarning: Steady state Kalman gain not available. Will perform non-steady-state Kalman.\n",
      "  warnings.warn('Steady state Kalman gain not available. Will perform non-steady-state Kalman.')\n"
     ]
    },
    {
     "name": "stdout",
     "output_type": "stream",
     "text": [
      "Behavior decoding evaluation:\n",
      "  PSID => 0.138\n",
      "Could not solve DARE: Reordering of (A, B) failed because the transformed matrix pair (A, B) would be too far from generalized Schur form; the problem is very ill-conditioned. (A, B) may have been partially reordered.\n"
     ]
    },
    {
     "name": "stderr",
     "output_type": "stream",
     "text": [
      "/home/lauraflyra/anaconda3/envs/Code/lib/python3.10/site-packages/PSID/LSSM.py:212: UserWarning: Steady state Kalman gain not available. Will perform non-steady-state Kalman.\n",
      "  warnings.warn('Steady state Kalman gain not available. Will perform non-steady-state Kalman.')\n"
     ]
    },
    {
     "name": "stdout",
     "output_type": "stream",
     "text": [
      "Behavior decoding evaluation:\n",
      "  PSID => -0.0298\n",
      "Could not solve DARE: Reordering of (A, B) failed because the transformed matrix pair (A, B) would be too far from generalized Schur form; the problem is very ill-conditioned. (A, B) may have been partially reordered.\n"
     ]
    },
    {
     "name": "stderr",
     "output_type": "stream",
     "text": [
      "/home/lauraflyra/anaconda3/envs/Code/lib/python3.10/site-packages/PSID/LSSM.py:212: UserWarning: Steady state Kalman gain not available. Will perform non-steady-state Kalman.\n",
      "  warnings.warn('Steady state Kalman gain not available. Will perform non-steady-state Kalman.')\n"
     ]
    },
    {
     "name": "stdout",
     "output_type": "stream",
     "text": [
      "Behavior decoding evaluation:\n",
      "  PSID => -0.315\n",
      "Could not solve DARE: The associated symplectic pencil has eigenvaluestoo close to the unit circle\n"
     ]
    },
    {
     "name": "stderr",
     "output_type": "stream",
     "text": [
      "/home/lauraflyra/anaconda3/envs/Code/lib/python3.10/site-packages/PSID/LSSM.py:212: UserWarning: Steady state Kalman gain not available. Will perform non-steady-state Kalman.\n",
      "  warnings.warn('Steady state Kalman gain not available. Will perform non-steady-state Kalman.')\n"
     ]
    },
    {
     "name": "stdout",
     "output_type": "stream",
     "text": [
      "Behavior decoding evaluation:\n",
      "  PSID => -0.145\n",
      "Could not solve DARE: The associated symplectic pencil has eigenvaluestoo close to the unit circle\n"
     ]
    },
    {
     "name": "stderr",
     "output_type": "stream",
     "text": [
      "/home/lauraflyra/anaconda3/envs/Code/lib/python3.10/site-packages/PSID/LSSM.py:212: UserWarning: Steady state Kalman gain not available. Will perform non-steady-state Kalman.\n",
      "  warnings.warn('Steady state Kalman gain not available. Will perform non-steady-state Kalman.')\n"
     ]
    },
    {
     "name": "stdout",
     "output_type": "stream",
     "text": [
      "Behavior decoding evaluation:\n",
      "  PSID => -0.00409\n",
      "Could not solve DARE: The associated symplectic pencil has eigenvaluestoo close to the unit circle\n"
     ]
    },
    {
     "name": "stderr",
     "output_type": "stream",
     "text": [
      "/home/lauraflyra/anaconda3/envs/Code/lib/python3.10/site-packages/PSID/LSSM.py:212: UserWarning: Steady state Kalman gain not available. Will perform non-steady-state Kalman.\n",
      "  warnings.warn('Steady state Kalman gain not available. Will perform non-steady-state Kalman.')\n"
     ]
    },
    {
     "name": "stdout",
     "output_type": "stream",
     "text": [
      "Behavior decoding evaluation:\n",
      "  PSID => 0.113\n",
      "Could not solve DARE: The associated symplectic pencil has eigenvaluestoo close to the unit circle\n"
     ]
    },
    {
     "name": "stderr",
     "output_type": "stream",
     "text": [
      "/home/lauraflyra/anaconda3/envs/Code/lib/python3.10/site-packages/PSID/LSSM.py:212: UserWarning: Steady state Kalman gain not available. Will perform non-steady-state Kalman.\n",
      "  warnings.warn('Steady state Kalman gain not available. Will perform non-steady-state Kalman.')\n"
     ]
    },
    {
     "name": "stdout",
     "output_type": "stream",
     "text": [
      "Behavior decoding evaluation:\n",
      "  PSID => -0.021\n",
      "Could not solve DARE: Reordering of (A, B) failed because the transformed matrix pair (A, B) would be too far from generalized Schur form; the problem is very ill-conditioned. (A, B) may have been partially reordered.\n"
     ]
    },
    {
     "name": "stderr",
     "output_type": "stream",
     "text": [
      "/home/lauraflyra/anaconda3/envs/Code/lib/python3.10/site-packages/PSID/LSSM.py:212: UserWarning: Steady state Kalman gain not available. Will perform non-steady-state Kalman.\n",
      "  warnings.warn('Steady state Kalman gain not available. Will perform non-steady-state Kalman.')\n"
     ]
    },
    {
     "name": "stdout",
     "output_type": "stream",
     "text": [
      "Behavior decoding evaluation:\n",
      "  PSID => -0.351\n",
      "Could not solve DARE: The associated symplectic pencil has eigenvaluestoo close to the unit circle\n"
     ]
    },
    {
     "name": "stderr",
     "output_type": "stream",
     "text": [
      "/home/lauraflyra/anaconda3/envs/Code/lib/python3.10/site-packages/PSID/LSSM.py:212: UserWarning: Steady state Kalman gain not available. Will perform non-steady-state Kalman.\n",
      "  warnings.warn('Steady state Kalman gain not available. Will perform non-steady-state Kalman.')\n"
     ]
    },
    {
     "name": "stdout",
     "output_type": "stream",
     "text": [
      "Behavior decoding evaluation:\n",
      "  PSID => -0.145\n",
      "Could not solve DARE: The associated symplectic pencil has eigenvaluestoo close to the unit circle\n"
     ]
    },
    {
     "name": "stderr",
     "output_type": "stream",
     "text": [
      "/home/lauraflyra/anaconda3/envs/Code/lib/python3.10/site-packages/PSID/LSSM.py:212: UserWarning: Steady state Kalman gain not available. Will perform non-steady-state Kalman.\n",
      "  warnings.warn('Steady state Kalman gain not available. Will perform non-steady-state Kalman.')\n"
     ]
    },
    {
     "name": "stdout",
     "output_type": "stream",
     "text": [
      "Behavior decoding evaluation:\n",
      "  PSID => 0.0174\n",
      "Could not solve DARE: Reordering of (A, B) failed because the transformed matrix pair (A, B) would be too far from generalized Schur form; the problem is very ill-conditioned. (A, B) may have been partially reordered.\n"
     ]
    },
    {
     "name": "stderr",
     "output_type": "stream",
     "text": [
      "/home/lauraflyra/anaconda3/envs/Code/lib/python3.10/site-packages/PSID/LSSM.py:212: UserWarning: Steady state Kalman gain not available. Will perform non-steady-state Kalman.\n",
      "  warnings.warn('Steady state Kalman gain not available. Will perform non-steady-state Kalman.')\n"
     ]
    },
    {
     "name": "stdout",
     "output_type": "stream",
     "text": [
      "Behavior decoding evaluation:\n",
      "  PSID => 0.12\n",
      "Could not solve DARE: Reordering of (A, B) failed because the transformed matrix pair (A, B) would be too far from generalized Schur form; the problem is very ill-conditioned. (A, B) may have been partially reordered.\n"
     ]
    },
    {
     "name": "stderr",
     "output_type": "stream",
     "text": [
      "/home/lauraflyra/anaconda3/envs/Code/lib/python3.10/site-packages/PSID/LSSM.py:212: UserWarning: Steady state Kalman gain not available. Will perform non-steady-state Kalman.\n",
      "  warnings.warn('Steady state Kalman gain not available. Will perform non-steady-state Kalman.')\n"
     ]
    },
    {
     "name": "stdout",
     "output_type": "stream",
     "text": [
      "Behavior decoding evaluation:\n",
      "  PSID => -0.0432\n",
      "Could not solve DARE: Reordering of (A, B) failed because the transformed matrix pair (A, B) would be too far from generalized Schur form; the problem is very ill-conditioned. (A, B) may have been partially reordered.\n"
     ]
    },
    {
     "name": "stderr",
     "output_type": "stream",
     "text": [
      "/home/lauraflyra/anaconda3/envs/Code/lib/python3.10/site-packages/PSID/LSSM.py:212: UserWarning: Steady state Kalman gain not available. Will perform non-steady-state Kalman.\n",
      "  warnings.warn('Steady state Kalman gain not available. Will perform non-steady-state Kalman.')\n"
     ]
    },
    {
     "name": "stdout",
     "output_type": "stream",
     "text": [
      "Behavior decoding evaluation:\n",
      "  PSID => -0.332\n",
      "Could not solve DARE: Reordering of (A, B) failed because the transformed matrix pair (A, B) would be too far from generalized Schur form; the problem is very ill-conditioned. (A, B) may have been partially reordered.\n"
     ]
    },
    {
     "name": "stderr",
     "output_type": "stream",
     "text": [
      "/home/lauraflyra/anaconda3/envs/Code/lib/python3.10/site-packages/PSID/LSSM.py:212: UserWarning: Steady state Kalman gain not available. Will perform non-steady-state Kalman.\n",
      "  warnings.warn('Steady state Kalman gain not available. Will perform non-steady-state Kalman.')\n"
     ]
    },
    {
     "name": "stdout",
     "output_type": "stream",
     "text": [
      "Behavior decoding evaluation:\n",
      "  PSID => -0.124\n",
      "Could not solve DARE: The associated symplectic pencil has eigenvaluestoo close to the unit circle\n"
     ]
    },
    {
     "name": "stderr",
     "output_type": "stream",
     "text": [
      "/home/lauraflyra/anaconda3/envs/Code/lib/python3.10/site-packages/PSID/LSSM.py:212: UserWarning: Steady state Kalman gain not available. Will perform non-steady-state Kalman.\n",
      "  warnings.warn('Steady state Kalman gain not available. Will perform non-steady-state Kalman.')\n"
     ]
    },
    {
     "name": "stdout",
     "output_type": "stream",
     "text": [
      "Behavior decoding evaluation:\n",
      "  PSID => 0.00363\n",
      "Could not solve DARE: Reordering of (A, B) failed because the transformed matrix pair (A, B) would be too far from generalized Schur form; the problem is very ill-conditioned. (A, B) may have been partially reordered.\n"
     ]
    },
    {
     "name": "stderr",
     "output_type": "stream",
     "text": [
      "/home/lauraflyra/anaconda3/envs/Code/lib/python3.10/site-packages/PSID/LSSM.py:212: UserWarning: Steady state Kalman gain not available. Will perform non-steady-state Kalman.\n",
      "  warnings.warn('Steady state Kalman gain not available. Will perform non-steady-state Kalman.')\n"
     ]
    },
    {
     "name": "stdout",
     "output_type": "stream",
     "text": [
      "Behavior decoding evaluation:\n",
      "  PSID => 0.135\n",
      "Could not solve DARE: The associated symplectic pencil has eigenvaluestoo close to the unit circle\n"
     ]
    },
    {
     "name": "stderr",
     "output_type": "stream",
     "text": [
      "/home/lauraflyra/anaconda3/envs/Code/lib/python3.10/site-packages/PSID/LSSM.py:212: UserWarning: Steady state Kalman gain not available. Will perform non-steady-state Kalman.\n",
      "  warnings.warn('Steady state Kalman gain not available. Will perform non-steady-state Kalman.')\n"
     ]
    },
    {
     "name": "stdout",
     "output_type": "stream",
     "text": [
      "Behavior decoding evaluation:\n",
      "  PSID => -0.0125\n",
      "Could not solve DARE: Reordering of (A, B) failed because the transformed matrix pair (A, B) would be too far from generalized Schur form; the problem is very ill-conditioned. (A, B) may have been partially reordered.\n"
     ]
    },
    {
     "name": "stderr",
     "output_type": "stream",
     "text": [
      "/home/lauraflyra/anaconda3/envs/Code/lib/python3.10/site-packages/PSID/LSSM.py:212: UserWarning: Steady state Kalman gain not available. Will perform non-steady-state Kalman.\n",
      "  warnings.warn('Steady state Kalman gain not available. Will perform non-steady-state Kalman.')\n"
     ]
    },
    {
     "name": "stdout",
     "output_type": "stream",
     "text": [
      "Behavior decoding evaluation:\n",
      "  PSID => -0.34\n",
      "Could not solve DARE: Reordering of (A, B) failed because the transformed matrix pair (A, B) would be too far from generalized Schur form; the problem is very ill-conditioned. (A, B) may have been partially reordered.\n"
     ]
    },
    {
     "name": "stderr",
     "output_type": "stream",
     "text": [
      "/home/lauraflyra/anaconda3/envs/Code/lib/python3.10/site-packages/PSID/LSSM.py:212: UserWarning: Steady state Kalman gain not available. Will perform non-steady-state Kalman.\n",
      "  warnings.warn('Steady state Kalman gain not available. Will perform non-steady-state Kalman.')\n"
     ]
    },
    {
     "name": "stdout",
     "output_type": "stream",
     "text": [
      "Behavior decoding evaluation:\n",
      "  PSID => -0.142\n",
      "Could not solve DARE: Reordering of (A, B) failed because the transformed matrix pair (A, B) would be too far from generalized Schur form; the problem is very ill-conditioned. (A, B) may have been partially reordered.\n"
     ]
    },
    {
     "name": "stderr",
     "output_type": "stream",
     "text": [
      "/home/lauraflyra/anaconda3/envs/Code/lib/python3.10/site-packages/PSID/LSSM.py:212: UserWarning: Steady state Kalman gain not available. Will perform non-steady-state Kalman.\n",
      "  warnings.warn('Steady state Kalman gain not available. Will perform non-steady-state Kalman.')\n"
     ]
    },
    {
     "name": "stdout",
     "output_type": "stream",
     "text": [
      "Behavior decoding evaluation:\n",
      "  PSID => -0.00713\n",
      "Could not solve DARE: The associated symplectic pencil has eigenvaluestoo close to the unit circle\n"
     ]
    },
    {
     "name": "stderr",
     "output_type": "stream",
     "text": [
      "/home/lauraflyra/anaconda3/envs/Code/lib/python3.10/site-packages/PSID/LSSM.py:212: UserWarning: Steady state Kalman gain not available. Will perform non-steady-state Kalman.\n",
      "  warnings.warn('Steady state Kalman gain not available. Will perform non-steady-state Kalman.')\n"
     ]
    },
    {
     "name": "stdout",
     "output_type": "stream",
     "text": [
      "Behavior decoding evaluation:\n",
      "  PSID => 0.125\n",
      "Could not solve DARE: Reordering of (A, B) failed because the transformed matrix pair (A, B) would be too far from generalized Schur form; the problem is very ill-conditioned. (A, B) may have been partially reordered.\n"
     ]
    },
    {
     "name": "stderr",
     "output_type": "stream",
     "text": [
      "/home/lauraflyra/anaconda3/envs/Code/lib/python3.10/site-packages/PSID/LSSM.py:212: UserWarning: Steady state Kalman gain not available. Will perform non-steady-state Kalman.\n",
      "  warnings.warn('Steady state Kalman gain not available. Will perform non-steady-state Kalman.')\n"
     ]
    },
    {
     "name": "stdout",
     "output_type": "stream",
     "text": [
      "Behavior decoding evaluation:\n",
      "  PSID => -0.0193\n",
      "Could not solve DARE: Reordering of (A, B) failed because the transformed matrix pair (A, B) would be too far from generalized Schur form; the problem is very ill-conditioned. (A, B) may have been partially reordered.\n"
     ]
    },
    {
     "name": "stderr",
     "output_type": "stream",
     "text": [
      "/home/lauraflyra/anaconda3/envs/Code/lib/python3.10/site-packages/PSID/LSSM.py:212: UserWarning: Steady state Kalman gain not available. Will perform non-steady-state Kalman.\n",
      "  warnings.warn('Steady state Kalman gain not available. Will perform non-steady-state Kalman.')\n"
     ]
    },
    {
     "name": "stdout",
     "output_type": "stream",
     "text": [
      "Behavior decoding evaluation:\n",
      "  PSID => -0.34\n",
      "Could not solve DARE: Reordering of (A, B) failed because the transformed matrix pair (A, B) would be too far from generalized Schur form; the problem is very ill-conditioned. (A, B) may have been partially reordered.\n"
     ]
    },
    {
     "name": "stderr",
     "output_type": "stream",
     "text": [
      "/home/lauraflyra/anaconda3/envs/Code/lib/python3.10/site-packages/PSID/LSSM.py:212: UserWarning: Steady state Kalman gain not available. Will perform non-steady-state Kalman.\n",
      "  warnings.warn('Steady state Kalman gain not available. Will perform non-steady-state Kalman.')\n"
     ]
    },
    {
     "name": "stdout",
     "output_type": "stream",
     "text": [
      "Behavior decoding evaluation:\n",
      "  PSID => -0.142\n",
      "Could not solve DARE: The associated symplectic pencil has eigenvaluestoo close to the unit circle\n"
     ]
    },
    {
     "name": "stderr",
     "output_type": "stream",
     "text": [
      "/home/lauraflyra/anaconda3/envs/Code/lib/python3.10/site-packages/PSID/LSSM.py:212: UserWarning: Steady state Kalman gain not available. Will perform non-steady-state Kalman.\n",
      "  warnings.warn('Steady state Kalman gain not available. Will perform non-steady-state Kalman.')\n"
     ]
    },
    {
     "name": "stdout",
     "output_type": "stream",
     "text": [
      "Behavior decoding evaluation:\n",
      "  PSID => -0.0175\n",
      "Could not solve DARE: Reordering of (A, B) failed because the transformed matrix pair (A, B) would be too far from generalized Schur form; the problem is very ill-conditioned. (A, B) may have been partially reordered.\n"
     ]
    },
    {
     "name": "stderr",
     "output_type": "stream",
     "text": [
      "/home/lauraflyra/anaconda3/envs/Code/lib/python3.10/site-packages/PSID/LSSM.py:212: UserWarning: Steady state Kalman gain not available. Will perform non-steady-state Kalman.\n",
      "  warnings.warn('Steady state Kalman gain not available. Will perform non-steady-state Kalman.')\n"
     ]
    },
    {
     "name": "stdout",
     "output_type": "stream",
     "text": [
      "Behavior decoding evaluation:\n",
      "  PSID => 0.11\n",
      "Could not solve DARE: Reordering of (A, B) failed because the transformed matrix pair (A, B) would be too far from generalized Schur form; the problem is very ill-conditioned. (A, B) may have been partially reordered.\n"
     ]
    },
    {
     "name": "stderr",
     "output_type": "stream",
     "text": [
      "/home/lauraflyra/anaconda3/envs/Code/lib/python3.10/site-packages/PSID/LSSM.py:212: UserWarning: Steady state Kalman gain not available. Will perform non-steady-state Kalman.\n",
      "  warnings.warn('Steady state Kalman gain not available. Will perform non-steady-state Kalman.')\n"
     ]
    },
    {
     "name": "stdout",
     "output_type": "stream",
     "text": [
      "Behavior decoding evaluation:\n",
      "  PSID => -0.0161\n",
      "Could not solve DARE: The associated symplectic pencil has eigenvaluestoo close to the unit circle\n"
     ]
    },
    {
     "name": "stderr",
     "output_type": "stream",
     "text": [
      "/home/lauraflyra/anaconda3/envs/Code/lib/python3.10/site-packages/PSID/LSSM.py:212: UserWarning: Steady state Kalman gain not available. Will perform non-steady-state Kalman.\n",
      "  warnings.warn('Steady state Kalman gain not available. Will perform non-steady-state Kalman.')\n"
     ]
    },
    {
     "name": "stdout",
     "output_type": "stream",
     "text": [
      "Behavior decoding evaluation:\n",
      "  PSID => -0.369\n",
      "Could not solve DARE: Reordering of (A, B) failed because the transformed matrix pair (A, B) would be too far from generalized Schur form; the problem is very ill-conditioned. (A, B) may have been partially reordered.\n"
     ]
    },
    {
     "name": "stderr",
     "output_type": "stream",
     "text": [
      "/home/lauraflyra/anaconda3/envs/Code/lib/python3.10/site-packages/PSID/LSSM.py:212: UserWarning: Steady state Kalman gain not available. Will perform non-steady-state Kalman.\n",
      "  warnings.warn('Steady state Kalman gain not available. Will perform non-steady-state Kalman.')\n"
     ]
    },
    {
     "name": "stdout",
     "output_type": "stream",
     "text": [
      "Behavior decoding evaluation:\n",
      "  PSID => -0.147\n",
      "Could not solve DARE: The associated symplectic pencil has eigenvaluestoo close to the unit circle\n"
     ]
    },
    {
     "name": "stderr",
     "output_type": "stream",
     "text": [
      "/home/lauraflyra/anaconda3/envs/Code/lib/python3.10/site-packages/PSID/LSSM.py:212: UserWarning: Steady state Kalman gain not available. Will perform non-steady-state Kalman.\n",
      "  warnings.warn('Steady state Kalman gain not available. Will perform non-steady-state Kalman.')\n"
     ]
    },
    {
     "name": "stdout",
     "output_type": "stream",
     "text": [
      "Behavior decoding evaluation:\n",
      "  PSID => 0.00237\n",
      "Could not solve DARE: The associated symplectic pencil has eigenvaluestoo close to the unit circle\n"
     ]
    },
    {
     "name": "stderr",
     "output_type": "stream",
     "text": [
      "/home/lauraflyra/anaconda3/envs/Code/lib/python3.10/site-packages/PSID/LSSM.py:212: UserWarning: Steady state Kalman gain not available. Will perform non-steady-state Kalman.\n",
      "  warnings.warn('Steady state Kalman gain not available. Will perform non-steady-state Kalman.')\n"
     ]
    },
    {
     "name": "stdout",
     "output_type": "stream",
     "text": [
      "Behavior decoding evaluation:\n",
      "  PSID => 0.111\n",
      "Could not solve DARE: Reordering of (A, B) failed because the transformed matrix pair (A, B) would be too far from generalized Schur form; the problem is very ill-conditioned. (A, B) may have been partially reordered.\n"
     ]
    },
    {
     "name": "stderr",
     "output_type": "stream",
     "text": [
      "/home/lauraflyra/anaconda3/envs/Code/lib/python3.10/site-packages/PSID/LSSM.py:212: UserWarning: Steady state Kalman gain not available. Will perform non-steady-state Kalman.\n",
      "  warnings.warn('Steady state Kalman gain not available. Will perform non-steady-state Kalman.')\n"
     ]
    },
    {
     "name": "stdout",
     "output_type": "stream",
     "text": [
      "Behavior decoding evaluation:\n",
      "  PSID => -0.0174\n",
      "Could not solve DARE: The associated symplectic pencil has eigenvaluestoo close to the unit circle\n"
     ]
    },
    {
     "name": "stderr",
     "output_type": "stream",
     "text": [
      "/home/lauraflyra/anaconda3/envs/Code/lib/python3.10/site-packages/PSID/LSSM.py:212: UserWarning: Steady state Kalman gain not available. Will perform non-steady-state Kalman.\n",
      "  warnings.warn('Steady state Kalman gain not available. Will perform non-steady-state Kalman.')\n"
     ]
    },
    {
     "name": "stdout",
     "output_type": "stream",
     "text": [
      "Behavior decoding evaluation:\n",
      "  PSID => -0.364\n",
      "Could not solve DARE: Reordering of (A, B) failed because the transformed matrix pair (A, B) would be too far from generalized Schur form; the problem is very ill-conditioned. (A, B) may have been partially reordered.\n"
     ]
    },
    {
     "name": "stderr",
     "output_type": "stream",
     "text": [
      "/home/lauraflyra/anaconda3/envs/Code/lib/python3.10/site-packages/PSID/LSSM.py:212: UserWarning: Steady state Kalman gain not available. Will perform non-steady-state Kalman.\n",
      "  warnings.warn('Steady state Kalman gain not available. Will perform non-steady-state Kalman.')\n"
     ]
    },
    {
     "name": "stdout",
     "output_type": "stream",
     "text": [
      "Behavior decoding evaluation:\n",
      "  PSID => -0.143\n",
      "Could not solve DARE: Reordering of (A, B) failed because the transformed matrix pair (A, B) would be too far from generalized Schur form; the problem is very ill-conditioned. (A, B) may have been partially reordered.\n"
     ]
    },
    {
     "name": "stderr",
     "output_type": "stream",
     "text": [
      "/home/lauraflyra/anaconda3/envs/Code/lib/python3.10/site-packages/PSID/LSSM.py:212: UserWarning: Steady state Kalman gain not available. Will perform non-steady-state Kalman.\n",
      "  warnings.warn('Steady state Kalman gain not available. Will perform non-steady-state Kalman.')\n"
     ]
    },
    {
     "name": "stdout",
     "output_type": "stream",
     "text": [
      "Behavior decoding evaluation:\n",
      "  PSID => -0.0021\n",
      "Could not solve DARE: Reordering of (A, B) failed because the transformed matrix pair (A, B) would be too far from generalized Schur form; the problem is very ill-conditioned. (A, B) may have been partially reordered.\n"
     ]
    },
    {
     "name": "stderr",
     "output_type": "stream",
     "text": [
      "/home/lauraflyra/anaconda3/envs/Code/lib/python3.10/site-packages/PSID/LSSM.py:212: UserWarning: Steady state Kalman gain not available. Will perform non-steady-state Kalman.\n",
      "  warnings.warn('Steady state Kalman gain not available. Will perform non-steady-state Kalman.')\n"
     ]
    },
    {
     "name": "stdout",
     "output_type": "stream",
     "text": [
      "Behavior decoding evaluation:\n",
      "  PSID => 0.123\n",
      "Could not solve DARE: The associated symplectic pencil has eigenvaluestoo close to the unit circle\n"
     ]
    },
    {
     "name": "stderr",
     "output_type": "stream",
     "text": [
      "/home/lauraflyra/anaconda3/envs/Code/lib/python3.10/site-packages/PSID/LSSM.py:212: UserWarning: Steady state Kalman gain not available. Will perform non-steady-state Kalman.\n",
      "  warnings.warn('Steady state Kalman gain not available. Will perform non-steady-state Kalman.')\n"
     ]
    },
    {
     "name": "stdout",
     "output_type": "stream",
     "text": [
      "Behavior decoding evaluation:\n",
      "  PSID => -0.0182\n",
      "Could not solve DARE: Reordering of (A, B) failed because the transformed matrix pair (A, B) would be too far from generalized Schur form; the problem is very ill-conditioned. (A, B) may have been partially reordered.\n"
     ]
    },
    {
     "name": "stderr",
     "output_type": "stream",
     "text": [
      "/home/lauraflyra/anaconda3/envs/Code/lib/python3.10/site-packages/PSID/LSSM.py:212: UserWarning: Steady state Kalman gain not available. Will perform non-steady-state Kalman.\n",
      "  warnings.warn('Steady state Kalman gain not available. Will perform non-steady-state Kalman.')\n"
     ]
    },
    {
     "name": "stdout",
     "output_type": "stream",
     "text": [
      "Behavior decoding evaluation:\n",
      "  PSID => -0.361\n",
      "Could not solve DARE: The associated symplectic pencil has eigenvaluestoo close to the unit circle\n"
     ]
    },
    {
     "name": "stderr",
     "output_type": "stream",
     "text": [
      "/home/lauraflyra/anaconda3/envs/Code/lib/python3.10/site-packages/PSID/LSSM.py:212: UserWarning: Steady state Kalman gain not available. Will perform non-steady-state Kalman.\n",
      "  warnings.warn('Steady state Kalman gain not available. Will perform non-steady-state Kalman.')\n"
     ]
    },
    {
     "name": "stdout",
     "output_type": "stream",
     "text": [
      "Behavior decoding evaluation:\n",
      "  PSID => -0.134\n",
      "Could not solve DARE: Reordering of (A, B) failed because the transformed matrix pair (A, B) would be too far from generalized Schur form; the problem is very ill-conditioned. (A, B) may have been partially reordered.\n"
     ]
    },
    {
     "name": "stderr",
     "output_type": "stream",
     "text": [
      "/home/lauraflyra/anaconda3/envs/Code/lib/python3.10/site-packages/PSID/LSSM.py:212: UserWarning: Steady state Kalman gain not available. Will perform non-steady-state Kalman.\n",
      "  warnings.warn('Steady state Kalman gain not available. Will perform non-steady-state Kalman.')\n"
     ]
    },
    {
     "name": "stdout",
     "output_type": "stream",
     "text": [
      "Behavior decoding evaluation:\n",
      "  PSID => -0.00827\n",
      "Could not solve DARE: The associated symplectic pencil has eigenvaluestoo close to the unit circle\n"
     ]
    },
    {
     "name": "stderr",
     "output_type": "stream",
     "text": [
      "/home/lauraflyra/anaconda3/envs/Code/lib/python3.10/site-packages/PSID/LSSM.py:212: UserWarning: Steady state Kalman gain not available. Will perform non-steady-state Kalman.\n",
      "  warnings.warn('Steady state Kalman gain not available. Will perform non-steady-state Kalman.')\n"
     ]
    },
    {
     "name": "stdout",
     "output_type": "stream",
     "text": [
      "Behavior decoding evaluation:\n",
      "  PSID => 0.123\n",
      "Could not solve DARE: The associated symplectic pencil has eigenvaluestoo close to the unit circle\n"
     ]
    },
    {
     "name": "stderr",
     "output_type": "stream",
     "text": [
      "/home/lauraflyra/anaconda3/envs/Code/lib/python3.10/site-packages/PSID/LSSM.py:212: UserWarning: Steady state Kalman gain not available. Will perform non-steady-state Kalman.\n",
      "  warnings.warn('Steady state Kalman gain not available. Will perform non-steady-state Kalman.')\n"
     ]
    },
    {
     "name": "stdout",
     "output_type": "stream",
     "text": [
      "Behavior decoding evaluation:\n",
      "  PSID => -0.0184\n",
      "Could not solve DARE: Reordering of (A, B) failed because the transformed matrix pair (A, B) would be too far from generalized Schur form; the problem is very ill-conditioned. (A, B) may have been partially reordered.\n"
     ]
    },
    {
     "name": "stderr",
     "output_type": "stream",
     "text": [
      "/home/lauraflyra/anaconda3/envs/Code/lib/python3.10/site-packages/PSID/LSSM.py:212: UserWarning: Steady state Kalman gain not available. Will perform non-steady-state Kalman.\n",
      "  warnings.warn('Steady state Kalman gain not available. Will perform non-steady-state Kalman.')\n"
     ]
    },
    {
     "name": "stdout",
     "output_type": "stream",
     "text": [
      "Behavior decoding evaluation:\n",
      "  PSID => -0.371\n",
      "Could not solve DARE: Reordering of (A, B) failed because the transformed matrix pair (A, B) would be too far from generalized Schur form; the problem is very ill-conditioned. (A, B) may have been partially reordered.\n"
     ]
    },
    {
     "name": "stderr",
     "output_type": "stream",
     "text": [
      "/home/lauraflyra/anaconda3/envs/Code/lib/python3.10/site-packages/PSID/LSSM.py:212: UserWarning: Steady state Kalman gain not available. Will perform non-steady-state Kalman.\n",
      "  warnings.warn('Steady state Kalman gain not available. Will perform non-steady-state Kalman.')\n"
     ]
    },
    {
     "name": "stdout",
     "output_type": "stream",
     "text": [
      "Behavior decoding evaluation:\n",
      "  PSID => -0.139\n",
      "Could not solve DARE: Reordering of (A, B) failed because the transformed matrix pair (A, B) would be too far from generalized Schur form; the problem is very ill-conditioned. (A, B) may have been partially reordered.\n"
     ]
    },
    {
     "name": "stderr",
     "output_type": "stream",
     "text": [
      "/home/lauraflyra/anaconda3/envs/Code/lib/python3.10/site-packages/PSID/LSSM.py:212: UserWarning: Steady state Kalman gain not available. Will perform non-steady-state Kalman.\n",
      "  warnings.warn('Steady state Kalman gain not available. Will perform non-steady-state Kalman.')\n"
     ]
    },
    {
     "name": "stdout",
     "output_type": "stream",
     "text": [
      "Behavior decoding evaluation:\n",
      "  PSID => -0.00267\n",
      "Could not solve DARE: The associated symplectic pencil has eigenvaluestoo close to the unit circle\n"
     ]
    },
    {
     "name": "stderr",
     "output_type": "stream",
     "text": [
      "/home/lauraflyra/anaconda3/envs/Code/lib/python3.10/site-packages/PSID/LSSM.py:212: UserWarning: Steady state Kalman gain not available. Will perform non-steady-state Kalman.\n",
      "  warnings.warn('Steady state Kalman gain not available. Will perform non-steady-state Kalman.')\n"
     ]
    },
    {
     "name": "stdout",
     "output_type": "stream",
     "text": [
      "Behavior decoding evaluation:\n",
      "  PSID => 0.122\n",
      "Could not solve DARE: Reordering of (A, B) failed because the transformed matrix pair (A, B) would be too far from generalized Schur form; the problem is very ill-conditioned. (A, B) may have been partially reordered.\n"
     ]
    },
    {
     "name": "stderr",
     "output_type": "stream",
     "text": [
      "/home/lauraflyra/anaconda3/envs/Code/lib/python3.10/site-packages/PSID/LSSM.py:212: UserWarning: Steady state Kalman gain not available. Will perform non-steady-state Kalman.\n",
      "  warnings.warn('Steady state Kalman gain not available. Will perform non-steady-state Kalman.')\n"
     ]
    },
    {
     "name": "stdout",
     "output_type": "stream",
     "text": [
      "Behavior decoding evaluation:\n",
      "  PSID => -0.0117\n"
     ]
    }
   ],
   "source": [
    "i_s = [30, 40, 50]\n",
    "evals_burst = []\n",
    "for i in i_s:\n",
    "    eval,behavior_dims_latent = explore_latent_behavior_dims(neural = feature_df_burst, behavior= behavior_df, k_folds=5, n_dims=15, max_dim=30,i=i, cv_eval='R2')\n",
    "    evals_burst.append(eval)\n"
   ],
   "metadata": {
    "collapsed": false,
    "pycharm": {
     "name": "#%%\n"
    }
   }
  },
  {
   "cell_type": "code",
   "execution_count": 11,
   "outputs": [
    {
     "data": {
      "text/plain": "<Figure size 640x480 with 1 Axes>",
      "image/png": "[encoded data removed]"
     },
     "metadata": {},
     "output_type": "display_data"
    }
   ],
   "source": [
    "plot_explorations(evals_burst, behavior_dims_latent, i_s,plot_xgboost=False, feature_type='low beta bursts')"
   ],
   "metadata": {
    "collapsed": false,
    "pycharm": {
     "name": "#%%\n"
    }
   }
  },
  {
   "cell_type": "markdown",
   "source": [
    "# Explore with sub-003"
   ],
   "metadata": {
    "collapsed": false,
    "pycharm": {
     "name": "#%% md\n"
    }
   }
  },
  {
   "cell_type": "code",
   "execution_count": 2,
   "outputs": [],
   "source": [
    "PATH_FEATURES_S3 = \"/home/lauraflyra/Documents/BCCN/Lab_Rotation_USC/Code/Data/py_neuromodulation_derivatives/sub-003_ses-right_task-force_run-4/sub-003_ses-right_task-force_run-4_FEATURES.csv\"\n",
    "data_features_s3 = pd.read_csv(PATH_FEATURES_S3, index_col=0)"
   ],
   "metadata": {
    "collapsed": false,
    "pycharm": {
     "name": "#%%\n"
    }
   }
  },
  {
   "cell_type": "code",
   "execution_count": 3,
   "outputs": [
    {
     "name": "stdout",
     "output_type": "stream",
     "text": [
      "Behavior decoding evaluation:\n",
      "  PSID => -0.0268\n",
      "Behavior decoding evaluation:\n",
      "  PSID => -0.222\n",
      "Behavior decoding evaluation:\n",
      "  PSID => -0.0904\n",
      "Behavior decoding evaluation:\n",
      "  PSID => -0.116\n",
      "Behavior decoding evaluation:\n",
      "  PSID => -0.741\n",
      "Behavior decoding evaluation:\n",
      "  PSID => -0.261\n",
      "Behavior decoding evaluation:\n",
      "  PSID => -0.0928\n",
      "Behavior decoding evaluation:\n",
      "  PSID => -0.761\n",
      "Behavior decoding evaluation:\n",
      "  PSID => -0.241\n",
      "Behavior decoding evaluation:\n",
      "  PSID => -0.0613\n",
      "Behavior decoding evaluation:\n",
      "  PSID => -0.792\n",
      "Behavior decoding evaluation:\n",
      "  PSID => -0.25\n",
      "Behavior decoding evaluation:\n",
      "  PSID => -0.0662\n",
      "Behavior decoding evaluation:\n",
      "  PSID => -0.813\n",
      "Behavior decoding evaluation:\n",
      "  PSID => -0.256\n",
      "Behavior decoding evaluation:\n",
      "  PSID => -0.0778\n",
      "Behavior decoding evaluation:\n",
      "  PSID => -0.801\n",
      "Behavior decoding evaluation:\n",
      "  PSID => -0.251\n"
     ]
    },
    {
     "ename": "KeyboardInterrupt",
     "evalue": "",
     "output_type": "error",
     "traceback": [
      "\u001B[0;31m---------------------------------------------------------------------------\u001B[0m",
      "\u001B[0;31mKeyboardInterrupt\u001B[0m                         Traceback (most recent call last)",
      "Cell \u001B[0;32mIn[3], line 7\u001B[0m\n\u001B[1;32m      5\u001B[0m evals_s3 \u001B[38;5;241m=\u001B[39m []\n\u001B[1;32m      6\u001B[0m \u001B[38;5;28;01mfor\u001B[39;00m i \u001B[38;5;129;01min\u001B[39;00m i_s:\n\u001B[0;32m----> 7\u001B[0m     \u001B[38;5;28meval\u001B[39m, behavior_dims_latent_s3 \u001B[38;5;241m=\u001B[39m \u001B[43mexplore_latent_behavior_dims\u001B[49m\u001B[43m(\u001B[49m\u001B[43mneural\u001B[49m\u001B[38;5;241;43m=\u001B[39;49m\u001B[43mfeature_df_s3\u001B[49m\u001B[43m,\u001B[49m\u001B[43m \u001B[49m\u001B[43mbehavior\u001B[49m\u001B[38;5;241;43m=\u001B[39;49m\u001B[43mbehavior_s3\u001B[49m\u001B[43m,\u001B[49m\u001B[43m \u001B[49m\u001B[43mk_folds\u001B[49m\u001B[38;5;241;43m=\u001B[39;49m\u001B[38;5;241;43m3\u001B[39;49m\u001B[43m,\u001B[49m\n\u001B[1;32m      8\u001B[0m \u001B[43m                                                              \u001B[49m\u001B[43mn_dims\u001B[49m\u001B[38;5;241;43m=\u001B[39;49m\u001B[38;5;241;43m10\u001B[39;49m\u001B[43m,\u001B[49m\u001B[43m \u001B[49m\u001B[43mmax_dim\u001B[49m\u001B[38;5;241;43m=\u001B[39;49m\u001B[38;5;241;43m30\u001B[39;49m\u001B[43m,\u001B[49m\u001B[43m \u001B[49m\u001B[43mi\u001B[49m\u001B[38;5;241;43m=\u001B[39;49m\u001B[43mi\u001B[49m\u001B[43m,\u001B[49m\u001B[43m \u001B[49m\u001B[43mcv_eval\u001B[49m\u001B[38;5;241;43m=\u001B[39;49m\u001B[38;5;124;43m'\u001B[39;49m\u001B[38;5;124;43mR2\u001B[39;49m\u001B[38;5;124;43m'\u001B[39;49m\u001B[43m)\u001B[49m\n\u001B[1;32m      9\u001B[0m     evals_s3\u001B[38;5;241m.\u001B[39mappend(\u001B[38;5;28meval\u001B[39m)\n",
      "File \u001B[0;32m~/Documents/BCCN/Lab_Rotation_USC/Code/src/explore_state_dimensions.py:25\u001B[0m, in \u001B[0;36mexplore_latent_behavior_dims\u001B[0;34m(neural, behavior, k_folds, n_dims, max_dim, i, cv_eval)\u001B[0m\n\u001B[1;32m     23\u001B[0m \u001B[38;5;28;01mfor\u001B[39;00m dim \u001B[38;5;129;01min\u001B[39;00m \u001B[38;5;28mrange\u001B[39m(n_dims):\n\u001B[1;32m     24\u001B[0m     nx \u001B[38;5;241m=\u001B[39m n1 \u001B[38;5;241m=\u001B[39m behavior_dims_latent[dim]\n\u001B[0;32m---> 25\u001B[0m     eval_over_dims[dim, :] \u001B[38;5;241m=\u001B[39m \u001B[43mcross_validation\u001B[49m\u001B[43m(\u001B[49m\u001B[43mneural\u001B[49m\u001B[43m,\u001B[49m\u001B[43m \u001B[49m\u001B[43mbehavior\u001B[49m\u001B[43m,\u001B[49m\u001B[43m \u001B[49m\u001B[43mk_folds\u001B[49m\u001B[43m,\u001B[49m\u001B[43m \u001B[49m\u001B[43mnx\u001B[49m\u001B[43m,\u001B[49m\u001B[43m \u001B[49m\u001B[43mn1\u001B[49m\u001B[43m,\u001B[49m\u001B[43m \u001B[49m\u001B[43mi\u001B[49m\u001B[43m,\u001B[49m\u001B[43m \u001B[49m\u001B[43mmetrics\u001B[49m\u001B[38;5;241;43m=\u001B[39;49m\u001B[43mcv_eval\u001B[49m\u001B[43m)\u001B[49m\n\u001B[1;32m     27\u001B[0m \u001B[38;5;28;01mreturn\u001B[39;00m eval_over_dims, behavior_dims_latent\n",
      "File \u001B[0;32m~/Documents/BCCN/Lab_Rotation_USC/Code/src/cross_validation_PSID.py:29\u001B[0m, in \u001B[0;36mcross_validation\u001B[0;34m(neural_data, behavior, k_folds, nx, n1, i, metrics)\u001B[0m\n\u001B[1;32m     26\u001B[0m neural_data_test, neural_data_train \u001B[38;5;241m=\u001B[39m cross_validation_split(neural_data, k_folds, k)\n\u001B[1;32m     27\u001B[0m behavior_test, behavior_train \u001B[38;5;241m=\u001B[39m cross_validation_split(behavior, k_folds, k)\n\u001B[0;32m---> 29\u001B[0m idSys \u001B[38;5;241m=\u001B[39m \u001B[43mPSID\u001B[49m\u001B[38;5;241;43m.\u001B[39;49m\u001B[43mPSID\u001B[49m\u001B[43m(\u001B[49m\u001B[43mneural_data_train\u001B[49m\u001B[43m,\u001B[49m\u001B[43m \u001B[49m\u001B[43mbehavior_train\u001B[49m\u001B[43m,\u001B[49m\u001B[43m \u001B[49m\u001B[43mnx\u001B[49m\u001B[43m,\u001B[49m\u001B[43m \u001B[49m\u001B[43mn1\u001B[49m\u001B[43m,\u001B[49m\u001B[43m \u001B[49m\u001B[43mi\u001B[49m\u001B[43m)\u001B[49m\n\u001B[1;32m     31\u001B[0m behavior_test_pred, neural_data_test_pred, x_test_pred \u001B[38;5;241m=\u001B[39m idSys\u001B[38;5;241m.\u001B[39mpredict(neural_data_test)\n\u001B[1;32m     32\u001B[0m \u001B[38;5;28meval\u001B[39m \u001B[38;5;241m=\u001B[39m evalPrediction(behavior_test, behavior_test_pred, metrics)\n",
      "File \u001B[0;32m~/anaconda3/envs/Code/lib/python3.10/site-packages/PSID/PSID.py:280\u001B[0m, in \u001B[0;36mPSID\u001B[0;34m(Y, Z, nx, n1, i, WS, return_WS, fit_Cz_via_KF, time_first, remove_mean_Y, remove_mean_Z, zscore_Y, zscore_Z)\u001B[0m\n\u001B[1;32m    278\u001B[0m \u001B[38;5;28;01mif\u001B[39;00m \u001B[38;5;124m'\u001B[39m\u001B[38;5;124mZHat_U\u001B[39m\u001B[38;5;124m'\u001B[39m \u001B[38;5;129;01mnot\u001B[39;00m \u001B[38;5;129;01min\u001B[39;00m WS \u001B[38;5;129;01mor\u001B[39;00m WS[\u001B[38;5;124m'\u001B[39m\u001B[38;5;124mZHat_U\u001B[39m\u001B[38;5;124m'\u001B[39m] \u001B[38;5;129;01mis\u001B[39;00m \u001B[38;5;28;01mNone\u001B[39;00m:\n\u001B[1;32m    279\u001B[0m     Zf \u001B[38;5;241m=\u001B[39m blkhankskip(Z, i, N, i, time_first\u001B[38;5;241m=\u001B[39mtime_first)\n\u001B[0;32m--> 280\u001B[0m     WS[\u001B[38;5;124m'\u001B[39m\u001B[38;5;124mZHat\u001B[39m\u001B[38;5;124m'\u001B[39m] \u001B[38;5;241m=\u001B[39m \u001B[43mprojOrth\u001B[49m\u001B[43m(\u001B[49m\u001B[43mZf\u001B[49m\u001B[43m,\u001B[49m\u001B[43m \u001B[49m\u001B[43mWS\u001B[49m\u001B[43m[\u001B[49m\u001B[38;5;124;43m'\u001B[39;49m\u001B[38;5;124;43mYp\u001B[39;49m\u001B[38;5;124;43m'\u001B[39;49m\u001B[43m]\u001B[49m\u001B[43m)\u001B[49m[\u001B[38;5;241m0\u001B[39m] \u001B[38;5;66;03m# Zf @ WS['Yp'].T @ np.linalg.pinv(WS['Yp'] @ WS['Yp'].T) @ WS['Yp']  # Eq. (10)\u001B[39;00m\n\u001B[1;32m    281\u001B[0m     Yp_Plus \u001B[38;5;241m=\u001B[39m np\u001B[38;5;241m.\u001B[39mconcatenate((WS[\u001B[38;5;124m'\u001B[39m\u001B[38;5;124mYp\u001B[39m\u001B[38;5;124m'\u001B[39m], WS[\u001B[38;5;124m'\u001B[39m\u001B[38;5;124mYii\u001B[39m\u001B[38;5;124m'\u001B[39m]))\n\u001B[1;32m    282\u001B[0m     Zf_Minus \u001B[38;5;241m=\u001B[39m Zf[nz:, :]\n",
      "File \u001B[0;32m~/anaconda3/envs/Code/lib/python3.10/site-packages/PSID/PSID.py:29\u001B[0m, in \u001B[0;36mprojOrth\u001B[0;34m(A, B)\u001B[0m\n\u001B[1;32m     27\u001B[0m \u001B[38;5;28;01mtry\u001B[39;00m:\n\u001B[1;32m     28\u001B[0m     attempts \u001B[38;5;241m+\u001B[39m\u001B[38;5;241m=\u001B[39m \u001B[38;5;241m1\u001B[39m\n\u001B[0;32m---> 29\u001B[0m     W \u001B[38;5;241m=\u001B[39m ABCrossCov \u001B[38;5;241m@\u001B[39m \u001B[43mnp\u001B[49m\u001B[38;5;241;43m.\u001B[39;49m\u001B[43mlinalg\u001B[49m\u001B[38;5;241;43m.\u001B[39;49m\u001B[43mpinv\u001B[49m\u001B[43m(\u001B[49m\u001B[43mBCov\u001B[49m\u001B[43m)\u001B[49m \u001B[38;5;66;03m# or: A / B = A * B.' * pinv(B * B.')\u001B[39;00m\n\u001B[1;32m     30\u001B[0m     isOk \u001B[38;5;241m=\u001B[39m \u001B[38;5;28;01mTrue\u001B[39;00m\n\u001B[1;32m     31\u001B[0m \u001B[38;5;28;01mexcept\u001B[39;00m \u001B[38;5;167;01mException\u001B[39;00m \u001B[38;5;28;01mas\u001B[39;00m e:\n",
      "File \u001B[0;32m<__array_function__ internals>:5\u001B[0m, in \u001B[0;36mpinv\u001B[0;34m(*args, **kwargs)\u001B[0m\n",
      "File \u001B[0;32m~/anaconda3/envs/Code/lib/python3.10/site-packages/numpy/linalg/linalg.py:2002\u001B[0m, in \u001B[0;36mpinv\u001B[0;34m(a, rcond, hermitian)\u001B[0m\n\u001B[1;32m   2000\u001B[0m     \u001B[38;5;28;01mreturn\u001B[39;00m wrap(res)\n\u001B[1;32m   2001\u001B[0m a \u001B[38;5;241m=\u001B[39m a\u001B[38;5;241m.\u001B[39mconjugate()\n\u001B[0;32m-> 2002\u001B[0m u, s, vt \u001B[38;5;241m=\u001B[39m \u001B[43msvd\u001B[49m\u001B[43m(\u001B[49m\u001B[43ma\u001B[49m\u001B[43m,\u001B[49m\u001B[43m \u001B[49m\u001B[43mfull_matrices\u001B[49m\u001B[38;5;241;43m=\u001B[39;49m\u001B[38;5;28;43;01mFalse\u001B[39;49;00m\u001B[43m,\u001B[49m\u001B[43m \u001B[49m\u001B[43mhermitian\u001B[49m\u001B[38;5;241;43m=\u001B[39;49m\u001B[43mhermitian\u001B[49m\u001B[43m)\u001B[49m\n\u001B[1;32m   2004\u001B[0m \u001B[38;5;66;03m# discard small singular values\u001B[39;00m\n\u001B[1;32m   2005\u001B[0m cutoff \u001B[38;5;241m=\u001B[39m rcond[\u001B[38;5;241m.\u001B[39m\u001B[38;5;241m.\u001B[39m\u001B[38;5;241m.\u001B[39m, newaxis] \u001B[38;5;241m*\u001B[39m amax(s, axis\u001B[38;5;241m=\u001B[39m\u001B[38;5;241m-\u001B[39m\u001B[38;5;241m1\u001B[39m, keepdims\u001B[38;5;241m=\u001B[39m\u001B[38;5;28;01mTrue\u001B[39;00m)\n",
      "File \u001B[0;32m<__array_function__ internals>:5\u001B[0m, in \u001B[0;36msvd\u001B[0;34m(*args, **kwargs)\u001B[0m\n",
      "File \u001B[0;32m~/anaconda3/envs/Code/lib/python3.10/site-packages/numpy/linalg/linalg.py:1660\u001B[0m, in \u001B[0;36msvd\u001B[0;34m(a, full_matrices, compute_uv, hermitian)\u001B[0m\n\u001B[1;32m   1657\u001B[0m         gufunc \u001B[38;5;241m=\u001B[39m _umath_linalg\u001B[38;5;241m.\u001B[39msvd_n_s\n\u001B[1;32m   1659\u001B[0m signature \u001B[38;5;241m=\u001B[39m \u001B[38;5;124m'\u001B[39m\u001B[38;5;124mD->DdD\u001B[39m\u001B[38;5;124m'\u001B[39m \u001B[38;5;28;01mif\u001B[39;00m isComplexType(t) \u001B[38;5;28;01melse\u001B[39;00m \u001B[38;5;124m'\u001B[39m\u001B[38;5;124md->ddd\u001B[39m\u001B[38;5;124m'\u001B[39m\n\u001B[0;32m-> 1660\u001B[0m u, s, vh \u001B[38;5;241m=\u001B[39m \u001B[43mgufunc\u001B[49m\u001B[43m(\u001B[49m\u001B[43ma\u001B[49m\u001B[43m,\u001B[49m\u001B[43m \u001B[49m\u001B[43msignature\u001B[49m\u001B[38;5;241;43m=\u001B[39;49m\u001B[43msignature\u001B[49m\u001B[43m,\u001B[49m\u001B[43m \u001B[49m\u001B[43mextobj\u001B[49m\u001B[38;5;241;43m=\u001B[39;49m\u001B[43mextobj\u001B[49m\u001B[43m)\u001B[49m\n\u001B[1;32m   1661\u001B[0m u \u001B[38;5;241m=\u001B[39m u\u001B[38;5;241m.\u001B[39mastype(result_t, copy\u001B[38;5;241m=\u001B[39m\u001B[38;5;28;01mFalse\u001B[39;00m)\n\u001B[1;32m   1662\u001B[0m s \u001B[38;5;241m=\u001B[39m s\u001B[38;5;241m.\u001B[39mastype(_realType(result_t), copy\u001B[38;5;241m=\u001B[39m\u001B[38;5;28;01mFalse\u001B[39;00m)\n",
      "\u001B[0;31mKeyboardInterrupt\u001B[0m: "
     ]
    }
   ],
   "source": [
    "feature_df_s3 = data_features_s3.filter(like='ECOG_RIGHT').filter(like='bandpass_activity').to_numpy()[1:]\n",
    "behavior_s3 = data_features_s3[\"MOV_LEFT_CLEAN\"].to_numpy().reshape(-1, 1)[1:]\n",
    "\n",
    "i_s = [30, 40, 50]\n",
    "evals_s3 = []\n",
    "for i in i_s:\n",
    "    eval, behavior_dims_latent_s3 = explore_latent_behavior_dims(neural=feature_df_s3, behavior=behavior_s3, k_folds=3,\n",
    "                                                              n_dims=10, max_dim=30, i=i, cv_eval='R2')\n",
    "    evals_s3.append(eval)"
   ],
   "metadata": {
    "collapsed": false,
    "pycharm": {
     "name": "#%%\n"
    }
   }
  },
  {
   "cell_type": "code",
   "execution_count": 9,
   "outputs": [
    {
     "data": {
      "text/plain": "<Figure size 640x480 with 1 Axes>",
      "image/png": "[encoded data removed]"
     },
     "metadata": {},
     "output_type": "display_data"
    }
   ],
   "source": [
    "plot_explorations(evals_s3, behavior_dims_latent_s3, i_s,plot_xgboost=False, feature_type='bandpass activity')"
   ],
   "metadata": {
    "collapsed": false,
    "pycharm": {
     "name": "#%%\n"
    }
   }
  },
  {
   "cell_type": "code",
   "execution_count": null,
   "outputs": [],
   "source": [],
   "metadata": {
    "collapsed": false,
    "pycharm": {
     "name": "#%%\n"
    }
   }
  }
 ],
 "metadata": {
  "kernelspec": {
   "display_name": "Python 3",
   "language": "python",
   "name": "python3"
  },
  "language_info": {
   "codemirror_mode": {
    "name": "ipython",
    "version": 2
   },
   "file_extension": ".py",
   "mimetype": "text/x-python",
   "name": "python",
   "nbconvert_exporter": "python",
   "pygments_lexer": "ipython2",
   "version": "2.7.6"
  }
 },
 "nbformat": 4,
 "nbformat_minor": 0
}