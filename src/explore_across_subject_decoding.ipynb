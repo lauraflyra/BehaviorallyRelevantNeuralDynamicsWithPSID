{
 "cells": [
  {
   "cell_type": "code",
   "execution_count": 1,
   "metadata": {
    "collapsed": true
   },
   "outputs": [],
   "source": [
    "import numpy as np\n",
    "import pandas as pd\n",
    "import matplotlib.pyplot as plt\n",
    "import PSID\n",
    "from PSID.evaluation import evalPrediction\n",
    "from train_PSID import train, plot_movement_pred\n",
    "%load_ext autoreload\n",
    "%autoreload 2"
   ]
  },
  {
   "cell_type": "code",
   "execution_count": 2,
   "outputs": [],
   "source": [
    "# explore dimensions of behaviorally relevant dynamics\n",
    "# in here all latent space dimensions will be used to prioritize behavior, meaning n1 = nx\n",
    "\n",
    "# Import features from subject-000\n",
    "\n",
    "PATH_FEATURES_S0 = \"/home/lauraflyra/Documents/BCCN/Lab_Rotation_USC/Code/Data/py_neuromodulation_derivatives/sub-000_ses-right_task-force_run-3/sub-000_ses-right_task-force_run-3_FEATURES.csv\"\n",
    "data_features_s0 = pd.read_csv(PATH_FEATURES_S0, index_col=0)\n",
    "\n",
    "# Import features from subject-001\n",
    "\n",
    "PATH_FEATURES_S1 = \"/home/lauraflyra/Documents/BCCN/Lab_Rotation_USC/Code/Data/py_neuromodulation_derivatives/sub-001_ses-right_task-force_run-2/sub-001_ses-right_task-force_run-2_FEATURES.csv\"\n",
    "data_features_s1 = pd.read_csv(PATH_FEATURES_S1, index_col=0)\n"
   ],
   "metadata": {
    "collapsed": false,
    "pycharm": {
     "name": "#%%\n"
    }
   }
  },
  {
   "cell_type": "markdown",
   "source": [],
   "metadata": {
    "collapsed": false
   }
  },
  {
   "cell_type": "code",
   "execution_count": 3,
   "outputs": [],
   "source": [
    "feature_s0 = pd.concat([data_features_s0.filter(like='LFP'),data_features_s0.filter(like='ECOG')], axis = 1).filter(like='bandpass_activity').to_numpy()\n",
    "feature_s1 = pd.concat([data_features_s1.filter(like='LFP'), data_features_s1.filter(like='ECOG')], axis=1).filter(like='bandpass_activity').to_numpy()\n",
    "\n",
    "behavior_s0 = data_features_s0[\"MOV_LEFT_CLEAN\"].to_numpy().reshape(-1, 1)\n",
    "behavior_s1 = data_features_s1[\"MOV_LEFT_CLEAN\"].to_numpy().reshape(-1, 1)"
   ],
   "metadata": {
    "collapsed": false,
    "pycharm": {
     "name": "#%%\n"
    }
   }
  },
  {
   "cell_type": "code",
   "execution_count": 4,
   "outputs": [
    {
     "name": "stdout",
     "output_type": "stream",
     "text": [
      "Behavior decoding r2:\n",
      "  PSID => 0.613\n",
      "Behavior decoding r2:\n",
      "  PSID => 0.201\n"
     ]
    }
   ],
   "source": [
    "idSys_s0, mov_features_test_pred_s0, mov_features_test_s0, test_idx_features_s0 = train(feature_s0, behavior_s0, 10,10,10)\n",
    "idSys_s1, mov_features_test_pred_s1, mov_features_test_s1, test_idx_features_s1 = train(feature_s1, behavior_s1, 10,10,10)"
   ],
   "metadata": {
    "collapsed": false,
    "pycharm": {
     "name": "#%%\n"
    }
   }
  },
  {
   "cell_type": "code",
   "execution_count": 5,
   "outputs": [],
   "source": [
    "idSys_s0 = train(feature_s0, behavior_s0, 10,10,10, train_whole_data=True)"
   ],
   "metadata": {
    "collapsed": false,
    "pycharm": {
     "name": "#%%\n"
    }
   }
  },
  {
   "cell_type": "code",
   "execution_count": 10,
   "outputs": [
    {
     "ename": "ValueError",
     "evalue": "operands could not be broadcast together with shapes (1,196) (1,63) ",
     "output_type": "error",
     "traceback": [
      "\u001B[0;31m---------------------------------------------------------------------------\u001B[0m",
      "\u001B[0;31mValueError\u001B[0m                                Traceback (most recent call last)",
      "Cell \u001B[0;32mIn[10], line 1\u001B[0m\n\u001B[0;32m----> 1\u001B[0m mov_features_test_pred_s1, feat_test_pred_s1, x_feat_test_pred_s1 \u001B[38;5;241m=\u001B[39m \u001B[43midSys_s0\u001B[49m\u001B[38;5;241;43m.\u001B[39;49m\u001B[43mpredict\u001B[49m\u001B[43m(\u001B[49m\u001B[43mfeature_s1\u001B[49m\u001B[43m)\u001B[49m\n\u001B[1;32m      2\u001B[0m eval_result \u001B[38;5;241m=\u001B[39m evalPrediction(behavior_s1, mov_features_test_pred_s1, \u001B[38;5;124m\"\u001B[39m\u001B[38;5;124mR2\u001B[39m\u001B[38;5;124m\"\u001B[39m)\n\u001B[1;32m      4\u001B[0m \u001B[38;5;28mprint\u001B[39m(\u001B[38;5;124m'\u001B[39m\u001B[38;5;124mBehavior decoding r2:\u001B[39m\u001B[38;5;130;01m\\n\u001B[39;00m\u001B[38;5;124m  PSID => \u001B[39m\u001B[38;5;132;01m{:.3g}\u001B[39;00m\u001B[38;5;124m'\u001B[39m\u001B[38;5;241m.\u001B[39mformat(np\u001B[38;5;241m.\u001B[39mmean(eval_result)))\n",
      "File \u001B[0;32m~/anaconda3/envs/Code/lib/python3.10/site-packages/PSID/LSSM.py:270\u001B[0m, in \u001B[0;36mLSSM.predict\u001B[0;34m(self, Y, useXFilt, **kwargs)\u001B[0m\n\u001B[1;32m    269\u001B[0m \u001B[38;5;28;01mdef\u001B[39;00m \u001B[38;5;21mpredict\u001B[39m(\u001B[38;5;28mself\u001B[39m, Y, useXFilt\u001B[38;5;241m=\u001B[39m\u001B[38;5;28;01mFalse\u001B[39;00m, \u001B[38;5;241m*\u001B[39m\u001B[38;5;241m*\u001B[39mkwargs):\n\u001B[0;32m--> 270\u001B[0m     allXp, allYp, allXf \u001B[38;5;241m=\u001B[39m \u001B[38;5;28;43mself\u001B[39;49m\u001B[38;5;241;43m.\u001B[39;49m\u001B[43mkalman\u001B[49m\u001B[43m(\u001B[49m\u001B[43mY\u001B[49m\u001B[43m,\u001B[49m\u001B[43m \u001B[49m\u001B[38;5;241;43m*\u001B[39;49m\u001B[38;5;241;43m*\u001B[39;49m\u001B[43mkwargs\u001B[49m\u001B[43m)\u001B[49m[\u001B[38;5;241m0\u001B[39m:\u001B[38;5;241m3\u001B[39m]\n\u001B[1;32m    271\u001B[0m     \u001B[38;5;28;01mif\u001B[39;00m useXFilt:\n\u001B[1;32m    272\u001B[0m         allXp \u001B[38;5;241m=\u001B[39m allXf\n",
      "File \u001B[0;32m~/anaconda3/envs/Code/lib/python3.10/site-packages/PSID/LSSM.py:229\u001B[0m, in \u001B[0;36mLSSM.kalman\u001B[0;34m(self, Y, x0, P0, steady_state, return_state_cov)\u001B[0m\n\u001B[1;32m    227\u001B[0m thisY \u001B[38;5;241m=\u001B[39m Y[i, :][np\u001B[38;5;241m.\u001B[39mnewaxis, :]\n\u001B[1;32m    228\u001B[0m \u001B[38;5;28;01mif\u001B[39;00m \u001B[38;5;28mhasattr\u001B[39m(\u001B[38;5;28mself\u001B[39m, \u001B[38;5;124m'\u001B[39m\u001B[38;5;124mYPrepModel\u001B[39m\u001B[38;5;124m'\u001B[39m) \u001B[38;5;129;01mand\u001B[39;00m \u001B[38;5;28mself\u001B[39m\u001B[38;5;241m.\u001B[39mYPrepModel \u001B[38;5;129;01mis\u001B[39;00m \u001B[38;5;129;01mnot\u001B[39;00m \u001B[38;5;28;01mNone\u001B[39;00m:\n\u001B[0;32m--> 229\u001B[0m     thisY \u001B[38;5;241m=\u001B[39m \u001B[38;5;28;43mself\u001B[39;49m\u001B[38;5;241;43m.\u001B[39;49m\u001B[43mYPrepModel\u001B[49m\u001B[38;5;241;43m.\u001B[39;49m\u001B[43mapply\u001B[49m\u001B[43m(\u001B[49m\u001B[43mthisY\u001B[49m\u001B[43m,\u001B[49m\u001B[43m \u001B[49m\u001B[43mtime_first\u001B[49m\u001B[38;5;241;43m=\u001B[39;49m\u001B[38;5;28;43;01mTrue\u001B[39;49;00m\u001B[43m)\u001B[49m \u001B[38;5;66;03m# Apply any mean removal/zscoring\u001B[39;00m\n\u001B[1;32m    230\u001B[0m zi \u001B[38;5;241m=\u001B[39m thisY\u001B[38;5;241m.\u001B[39mT \u001B[38;5;241m-\u001B[39m \u001B[38;5;28mself\u001B[39m\u001B[38;5;241m.\u001B[39mC \u001B[38;5;241m@\u001B[39m Xp \u001B[38;5;66;03m# Innovation Z(i)\u001B[39;00m\n\u001B[1;32m    232\u001B[0m \u001B[38;5;28;01mif\u001B[39;00m steady_state:\n",
      "File \u001B[0;32m~/anaconda3/envs/Code/lib/python3.10/site-packages/PSID/PrepModel.py:124\u001B[0m, in \u001B[0;36mPrepModel.apply\u001B[0;34m(self, Y, time_first)\u001B[0m\n\u001B[1;32m    122\u001B[0m     \u001B[38;5;28;01mreturn\u001B[39;00m [\u001B[38;5;28mself\u001B[39m\u001B[38;5;241m.\u001B[39mapply_segment(YThis,time_first) \u001B[38;5;28;01mfor\u001B[39;00m YThis \u001B[38;5;129;01min\u001B[39;00m Y]\n\u001B[1;32m    123\u001B[0m \u001B[38;5;28;01melse\u001B[39;00m:\n\u001B[0;32m--> 124\u001B[0m     \u001B[38;5;28;01mreturn\u001B[39;00m \u001B[38;5;28;43mself\u001B[39;49m\u001B[38;5;241;43m.\u001B[39;49m\u001B[43mapply_segment\u001B[49m\u001B[43m(\u001B[49m\u001B[43mY\u001B[49m\u001B[43m,\u001B[49m\u001B[43mtime_first\u001B[49m\u001B[43m)\u001B[49m\n",
      "File \u001B[0;32m~/anaconda3/envs/Code/lib/python3.10/site-packages/PSID/PrepModel.py:103\u001B[0m, in \u001B[0;36mPrepModel.apply_segment\u001B[0;34m(self, Y, time_first)\u001B[0m\n\u001B[1;32m     94\u001B[0m \u001B[38;5;250m\u001B[39m\u001B[38;5;124;03m\"\"\"Applies the preprocessing on new data\u001B[39;00m\n\u001B[1;32m     95\u001B[0m \n\u001B[1;32m     96\u001B[0m \u001B[38;5;124;03mArgs:\u001B[39;00m\n\u001B[0;32m   (...)\u001B[0m\n\u001B[1;32m    100\u001B[0m \u001B[38;5;124;03m                        Defaults to True.\u001B[39;00m\n\u001B[1;32m    101\u001B[0m \u001B[38;5;124;03m\"\"\"\u001B[39;00m\n\u001B[1;32m    102\u001B[0m \u001B[38;5;28;01mif\u001B[39;00m \u001B[38;5;28mself\u001B[39m\u001B[38;5;241m.\u001B[39mremove_mean:\n\u001B[0;32m--> 103\u001B[0m     Y \u001B[38;5;241m=\u001B[39m \u001B[43mY\u001B[49m\u001B[43m \u001B[49m\u001B[38;5;241;43m-\u001B[39;49m\u001B[43m \u001B[49m\u001B[38;5;28;43mself\u001B[39;49m\u001B[38;5;241;43m.\u001B[39;49m\u001B[43mget_mean\u001B[49m\u001B[43m(\u001B[49m\u001B[43mtime_first\u001B[49m\u001B[43m)\u001B[49m\n\u001B[1;32m    104\u001B[0m \u001B[38;5;28;01mif\u001B[39;00m \u001B[38;5;28mself\u001B[39m\u001B[38;5;241m.\u001B[39mzscore:\n\u001B[1;32m    105\u001B[0m     okDims \u001B[38;5;241m=\u001B[39m \u001B[38;5;28mself\u001B[39m\u001B[38;5;241m.\u001B[39mstd\u001B[38;5;241m>\u001B[39m\u001B[38;5;241m0\u001B[39m\n",
      "\u001B[0;31mValueError\u001B[0m: operands could not be broadcast together with shapes (1,196) (1,63) "
     ]
    }
   ],
   "source": [
    "mov_features_test_pred_s1, feat_test_pred_s1, x_feat_test_pred_s1 = idSys_s0.predict(feature_s1)\n",
    "eval_result = evalPrediction(behavior_s1, mov_features_test_pred_s1, \"R2\")\n",
    "\n",
    "print('Behavior decoding r2:\\n  PSID => {:.3g}'.format(np.mean(eval_result)))"
   ],
   "metadata": {
    "collapsed": false,
    "pycharm": {
     "name": "#%%\n"
    }
   }
  },
  {
   "cell_type": "code",
   "execution_count": 15,
   "outputs": [
    {
     "ename": "KeyError",
     "evalue": "\"None of [Index([('LFP_RIGHT_0-LFP_RIGHT_2_bandpass_activity_theta', 'LFP_RIGHT_0-LFP_RIGHT_2_bandpass_activity_alpha', 'LFP_RIGHT_0-LFP_RIGHT_2_bandpass_activity_low beta', 'LFP_RIGHT_0-LFP_RIGHT_2_bandpass_activity_high beta', 'LFP_RIGHT_0-LFP_RIGHT_2_bandpass_activity_low gamma', 'LFP_RIGHT_0-LFP_RIGHT_2_bandpass_activity_high gamma', 'LFP_RIGHT_0-LFP_RIGHT_2_bandpass_activity_HFA', 'LFP_RIGHT_1-LFP_RIGHT_0_bandpass_activity_theta', 'LFP_RIGHT_1-LFP_RIGHT_0_bandpass_activity_alpha', 'LFP_RIGHT_1-LFP_RIGHT_0_bandpass_activity_low beta', 'LFP_RIGHT_1-LFP_RIGHT_0_bandpass_activity_high beta', 'LFP_RIGHT_1-LFP_RIGHT_0_bandpass_activity_low gamma', 'LFP_RIGHT_1-LFP_RIGHT_0_bandpass_activity_high gamma', 'LFP_RIGHT_1-LFP_RIGHT_0_bandpass_activity_HFA', 'LFP_RIGHT_2-LFP_RIGHT_1_bandpass_activity_theta', 'LFP_RIGHT_2-LFP_RIGHT_1_bandpass_activity_alpha', 'LFP_RIGHT_2-LFP_RIGHT_1_bandpass_activity_low beta', 'LFP_RIGHT_2-LFP_RIGHT_1_bandpass_activity_high beta', 'LFP_RIGHT_2-LFP_RIGHT_1_bandpass_activity_low gamma', 'LFP_RIGHT_2-LFP_RIGHT_1_bandpass_activity_high gamma', 'LFP_RIGHT_2-LFP_RIGHT_1_bandpass_activity_HFA', 'ECOG_RIGHT_0-avgref_bandpass_activity_theta', 'ECOG_RIGHT_0-avgref_bandpass_activity_alpha', 'ECOG_RIGHT_0-avgref_bandpass_activity_low beta', 'ECOG_RIGHT_0-avgref_bandpass_activity_high beta', 'ECOG_RIGHT_0-avgref_bandpass_activity_low gamma', 'ECOG_RIGHT_0-avgref_bandpass_activity_high gamma', 'ECOG_RIGHT_0-avgref_bandpass_activity_HFA', 'ECOG_RIGHT_1-avgref_bandpass_activity_theta', 'ECOG_RIGHT_1-avgref_bandpass_activity_alpha', 'ECOG_RIGHT_1-avgref_bandpass_activity_low beta', 'ECOG_RIGHT_1-avgref_bandpass_activity_high beta', 'ECOG_RIGHT_1-avgref_bandpass_activity_low gamma', 'ECOG_RIGHT_1-avgref_bandpass_activity_high gamma', 'ECOG_RIGHT_1-avgref_bandpass_activity_HFA', 'ECOG_RIGHT_2-avgref_bandpass_activity_theta', 'ECOG_RIGHT_2-avgref_bandpass_activity_alpha', 'ECOG_RIGHT_2-avgref_bandpass_activity_low beta', 'ECOG_RIGHT_2-avgref_bandpass_activity_high beta', 'ECOG_RIGHT_2-avgref_bandpass_activity_low gamma', 'ECOG_RIGHT_2-avgref_bandpass_activity_high gamma', 'ECOG_RIGHT_2-avgref_bandpass_activity_HFA', 'ECOG_RIGHT_3-avgref_bandpass_activity_theta', 'ECOG_RIGHT_3-avgref_bandpass_activity_alpha', 'ECOG_RIGHT_3-avgref_bandpass_activity_low beta', 'ECOG_RIGHT_3-avgref_bandpass_activity_high beta', 'ECOG_RIGHT_3-avgref_bandpass_activity_low gamma', 'ECOG_RIGHT_3-avgref_bandpass_activity_high gamma', 'ECOG_RIGHT_3-avgref_bandpass_activity_HFA', 'ECOG_RIGHT_4-avgref_bandpass_activity_theta', 'ECOG_RIGHT_4-avgref_bandpass_activity_alpha', 'ECOG_RIGHT_4-avgref_bandpass_activity_low beta', 'ECOG_RIGHT_4-avgref_bandpass_activity_high beta', 'ECOG_RIGHT_4-avgref_bandpass_activity_low gamma', 'ECOG_RIGHT_4-avgref_bandpass_activity_high gamma', 'ECOG_RIGHT_4-avgref_bandpass_activity_HFA', 'ECOG_RIGHT_5-avgref_bandpass_activity_theta', 'ECOG_RIGHT_5-avgref_bandpass_activity_alpha', 'ECOG_RIGHT_5-avgref_bandpass_activity_low beta', 'ECOG_RIGHT_5-avgref_bandpass_activity_high beta', 'ECOG_RIGHT_5-avgref_bandpass_activity_low gamma', 'ECOG_RIGHT_5-avgref_bandpass_activity_high gamma', 'ECOG_RIGHT_5-avgref_bandpass_activity_HFA')], dtype='object')] are in the [columns]\"",
     "output_type": "error",
     "traceback": [
      "\u001B[0;31m---------------------------------------------------------------------------\u001B[0m",
      "\u001B[0;31mKeyError\u001B[0m                                  Traceback (most recent call last)",
      "Cell \u001B[0;32mIn[15], line 4\u001B[0m\n\u001B[1;32m      1\u001B[0m df_0 \u001B[38;5;241m=\u001B[39m pd\u001B[38;5;241m.\u001B[39mconcat([data_features_s0\u001B[38;5;241m.\u001B[39mfilter(like\u001B[38;5;241m=\u001B[39m\u001B[38;5;124m'\u001B[39m\u001B[38;5;124mLFP\u001B[39m\u001B[38;5;124m'\u001B[39m),data_features_s0\u001B[38;5;241m.\u001B[39mfilter(like\u001B[38;5;241m=\u001B[39m\u001B[38;5;124m'\u001B[39m\u001B[38;5;124mECOG\u001B[39m\u001B[38;5;124m'\u001B[39m)], axis \u001B[38;5;241m=\u001B[39m \u001B[38;5;241m1\u001B[39m)\u001B[38;5;241m.\u001B[39mfilter(like\u001B[38;5;241m=\u001B[39m\u001B[38;5;124m'\u001B[39m\u001B[38;5;124mbandpass_activity\u001B[39m\u001B[38;5;124m'\u001B[39m)\n\u001B[1;32m      2\u001B[0m df_1 \u001B[38;5;241m=\u001B[39m pd\u001B[38;5;241m.\u001B[39mconcat([data_features_s1\u001B[38;5;241m.\u001B[39mfilter(like\u001B[38;5;241m=\u001B[39m\u001B[38;5;124m'\u001B[39m\u001B[38;5;124mLFP\u001B[39m\u001B[38;5;124m'\u001B[39m), data_features_s1\u001B[38;5;241m.\u001B[39mfilter(like\u001B[38;5;241m=\u001B[39m\u001B[38;5;124m'\u001B[39m\u001B[38;5;124mECOG\u001B[39m\u001B[38;5;124m'\u001B[39m)], axis\u001B[38;5;241m=\u001B[39m\u001B[38;5;241m1\u001B[39m)\u001B[38;5;241m.\u001B[39mfilter(like\u001B[38;5;241m=\u001B[39m\u001B[38;5;124m'\u001B[39m\u001B[38;5;124mbandpass_activity\u001B[39m\u001B[38;5;124m'\u001B[39m)\n\u001B[0;32m----> 4\u001B[0m \u001B[43mdf_1\u001B[49m\u001B[43m[\u001B[49m\u001B[43m[\u001B[49m\u001B[43mdf_0\u001B[49m\u001B[38;5;241;43m.\u001B[39;49m\u001B[43mkeys\u001B[49m\u001B[43m(\u001B[49m\u001B[43m)\u001B[49m\u001B[43m]\u001B[49m\u001B[43m]\u001B[49m\u001B[38;5;241m.\u001B[39mshape\n",
      "File \u001B[0;32m~/anaconda3/envs/Code/lib/python3.10/site-packages/pandas/core/frame.py:3813\u001B[0m, in \u001B[0;36mDataFrame.__getitem__\u001B[0;34m(self, key)\u001B[0m\n\u001B[1;32m   3811\u001B[0m     \u001B[38;5;28;01mif\u001B[39;00m is_iterator(key):\n\u001B[1;32m   3812\u001B[0m         key \u001B[38;5;241m=\u001B[39m \u001B[38;5;28mlist\u001B[39m(key)\n\u001B[0;32m-> 3813\u001B[0m     indexer \u001B[38;5;241m=\u001B[39m \u001B[38;5;28;43mself\u001B[39;49m\u001B[38;5;241;43m.\u001B[39;49m\u001B[43mcolumns\u001B[49m\u001B[38;5;241;43m.\u001B[39;49m\u001B[43m_get_indexer_strict\u001B[49m\u001B[43m(\u001B[49m\u001B[43mkey\u001B[49m\u001B[43m,\u001B[49m\u001B[43m \u001B[49m\u001B[38;5;124;43m\"\u001B[39;49m\u001B[38;5;124;43mcolumns\u001B[39;49m\u001B[38;5;124;43m\"\u001B[39;49m\u001B[43m)\u001B[49m[\u001B[38;5;241m1\u001B[39m]\n\u001B[1;32m   3815\u001B[0m \u001B[38;5;66;03m# take() does not accept boolean indexers\u001B[39;00m\n\u001B[1;32m   3816\u001B[0m \u001B[38;5;28;01mif\u001B[39;00m \u001B[38;5;28mgetattr\u001B[39m(indexer, \u001B[38;5;124m\"\u001B[39m\u001B[38;5;124mdtype\u001B[39m\u001B[38;5;124m\"\u001B[39m, \u001B[38;5;28;01mNone\u001B[39;00m) \u001B[38;5;241m==\u001B[39m \u001B[38;5;28mbool\u001B[39m:\n",
      "File \u001B[0;32m~/anaconda3/envs/Code/lib/python3.10/site-packages/pandas/core/indexes/base.py:6070\u001B[0m, in \u001B[0;36mIndex._get_indexer_strict\u001B[0;34m(self, key, axis_name)\u001B[0m\n\u001B[1;32m   6067\u001B[0m \u001B[38;5;28;01melse\u001B[39;00m:\n\u001B[1;32m   6068\u001B[0m     keyarr, indexer, new_indexer \u001B[38;5;241m=\u001B[39m \u001B[38;5;28mself\u001B[39m\u001B[38;5;241m.\u001B[39m_reindex_non_unique(keyarr)\n\u001B[0;32m-> 6070\u001B[0m \u001B[38;5;28;43mself\u001B[39;49m\u001B[38;5;241;43m.\u001B[39;49m\u001B[43m_raise_if_missing\u001B[49m\u001B[43m(\u001B[49m\u001B[43mkeyarr\u001B[49m\u001B[43m,\u001B[49m\u001B[43m \u001B[49m\u001B[43mindexer\u001B[49m\u001B[43m,\u001B[49m\u001B[43m \u001B[49m\u001B[43maxis_name\u001B[49m\u001B[43m)\u001B[49m\n\u001B[1;32m   6072\u001B[0m keyarr \u001B[38;5;241m=\u001B[39m \u001B[38;5;28mself\u001B[39m\u001B[38;5;241m.\u001B[39mtake(indexer)\n\u001B[1;32m   6073\u001B[0m \u001B[38;5;28;01mif\u001B[39;00m \u001B[38;5;28misinstance\u001B[39m(key, Index):\n\u001B[1;32m   6074\u001B[0m     \u001B[38;5;66;03m# GH 42790 - Preserve name from an Index\u001B[39;00m\n",
      "File \u001B[0;32m~/anaconda3/envs/Code/lib/python3.10/site-packages/pandas/core/indexes/base.py:6130\u001B[0m, in \u001B[0;36mIndex._raise_if_missing\u001B[0;34m(self, key, indexer, axis_name)\u001B[0m\n\u001B[1;32m   6128\u001B[0m     \u001B[38;5;28;01mif\u001B[39;00m use_interval_msg:\n\u001B[1;32m   6129\u001B[0m         key \u001B[38;5;241m=\u001B[39m \u001B[38;5;28mlist\u001B[39m(key)\n\u001B[0;32m-> 6130\u001B[0m     \u001B[38;5;28;01mraise\u001B[39;00m \u001B[38;5;167;01mKeyError\u001B[39;00m(\u001B[38;5;124mf\u001B[39m\u001B[38;5;124m\"\u001B[39m\u001B[38;5;124mNone of [\u001B[39m\u001B[38;5;132;01m{\u001B[39;00mkey\u001B[38;5;132;01m}\u001B[39;00m\u001B[38;5;124m] are in the [\u001B[39m\u001B[38;5;132;01m{\u001B[39;00maxis_name\u001B[38;5;132;01m}\u001B[39;00m\u001B[38;5;124m]\u001B[39m\u001B[38;5;124m\"\u001B[39m)\n\u001B[1;32m   6132\u001B[0m not_found \u001B[38;5;241m=\u001B[39m \u001B[38;5;28mlist\u001B[39m(ensure_index(key)[missing_mask\u001B[38;5;241m.\u001B[39mnonzero()[\u001B[38;5;241m0\u001B[39m]]\u001B[38;5;241m.\u001B[39munique())\n\u001B[1;32m   6133\u001B[0m \u001B[38;5;28;01mraise\u001B[39;00m \u001B[38;5;167;01mKeyError\u001B[39;00m(\u001B[38;5;124mf\u001B[39m\u001B[38;5;124m\"\u001B[39m\u001B[38;5;132;01m{\u001B[39;00mnot_found\u001B[38;5;132;01m}\u001B[39;00m\u001B[38;5;124m not in index\u001B[39m\u001B[38;5;124m\"\u001B[39m)\n",
      "\u001B[0;31mKeyError\u001B[0m: \"None of [Index([('LFP_RIGHT_0-LFP_RIGHT_2_bandpass_activity_theta', 'LFP_RIGHT_0-LFP_RIGHT_2_bandpass_activity_alpha', 'LFP_RIGHT_0-LFP_RIGHT_2_bandpass_activity_low beta', 'LFP_RIGHT_0-LFP_RIGHT_2_bandpass_activity_high beta', 'LFP_RIGHT_0-LFP_RIGHT_2_bandpass_activity_low gamma', 'LFP_RIGHT_0-LFP_RIGHT_2_bandpass_activity_high gamma', 'LFP_RIGHT_0-LFP_RIGHT_2_bandpass_activity_HFA', 'LFP_RIGHT_1-LFP_RIGHT_0_bandpass_activity_theta', 'LFP_RIGHT_1-LFP_RIGHT_0_bandpass_activity_alpha', 'LFP_RIGHT_1-LFP_RIGHT_0_bandpass_activity_low beta', 'LFP_RIGHT_1-LFP_RIGHT_0_bandpass_activity_high beta', 'LFP_RIGHT_1-LFP_RIGHT_0_bandpass_activity_low gamma', 'LFP_RIGHT_1-LFP_RIGHT_0_bandpass_activity_high gamma', 'LFP_RIGHT_1-LFP_RIGHT_0_bandpass_activity_HFA', 'LFP_RIGHT_2-LFP_RIGHT_1_bandpass_activity_theta', 'LFP_RIGHT_2-LFP_RIGHT_1_bandpass_activity_alpha', 'LFP_RIGHT_2-LFP_RIGHT_1_bandpass_activity_low beta', 'LFP_RIGHT_2-LFP_RIGHT_1_bandpass_activity_high beta', 'LFP_RIGHT_2-LFP_RIGHT_1_bandpass_activity_low gamma', 'LFP_RIGHT_2-LFP_RIGHT_1_bandpass_activity_high gamma', 'LFP_RIGHT_2-LFP_RIGHT_1_bandpass_activity_HFA', 'ECOG_RIGHT_0-avgref_bandpass_activity_theta', 'ECOG_RIGHT_0-avgref_bandpass_activity_alpha', 'ECOG_RIGHT_0-avgref_bandpass_activity_low beta', 'ECOG_RIGHT_0-avgref_bandpass_activity_high beta', 'ECOG_RIGHT_0-avgref_bandpass_activity_low gamma', 'ECOG_RIGHT_0-avgref_bandpass_activity_high gamma', 'ECOG_RIGHT_0-avgref_bandpass_activity_HFA', 'ECOG_RIGHT_1-avgref_bandpass_activity_theta', 'ECOG_RIGHT_1-avgref_bandpass_activity_alpha', 'ECOG_RIGHT_1-avgref_bandpass_activity_low beta', 'ECOG_RIGHT_1-avgref_bandpass_activity_high beta', 'ECOG_RIGHT_1-avgref_bandpass_activity_low gamma', 'ECOG_RIGHT_1-avgref_bandpass_activity_high gamma', 'ECOG_RIGHT_1-avgref_bandpass_activity_HFA', 'ECOG_RIGHT_2-avgref_bandpass_activity_theta', 'ECOG_RIGHT_2-avgref_bandpass_activity_alpha', 'ECOG_RIGHT_2-avgref_bandpass_activity_low beta', 'ECOG_RIGHT_2-avgref_bandpass_activity_high beta', 'ECOG_RIGHT_2-avgref_bandpass_activity_low gamma', 'ECOG_RIGHT_2-avgref_bandpass_activity_high gamma', 'ECOG_RIGHT_2-avgref_bandpass_activity_HFA', 'ECOG_RIGHT_3-avgref_bandpass_activity_theta', 'ECOG_RIGHT_3-avgref_bandpass_activity_alpha', 'ECOG_RIGHT_3-avgref_bandpass_activity_low beta', 'ECOG_RIGHT_3-avgref_bandpass_activity_high beta', 'ECOG_RIGHT_3-avgref_bandpass_activity_low gamma', 'ECOG_RIGHT_3-avgref_bandpass_activity_high gamma', 'ECOG_RIGHT_3-avgref_bandpass_activity_HFA', 'ECOG_RIGHT_4-avgref_bandpass_activity_theta', 'ECOG_RIGHT_4-avgref_bandpass_activity_alpha', 'ECOG_RIGHT_4-avgref_bandpass_activity_low beta', 'ECOG_RIGHT_4-avgref_bandpass_activity_high beta', 'ECOG_RIGHT_4-avgref_bandpass_activity_low gamma', 'ECOG_RIGHT_4-avgref_bandpass_activity_high gamma', 'ECOG_RIGHT_4-avgref_bandpass_activity_HFA', 'ECOG_RIGHT_5-avgref_bandpass_activity_theta', 'ECOG_RIGHT_5-avgref_bandpass_activity_alpha', 'ECOG_RIGHT_5-avgref_bandpass_activity_low beta', 'ECOG_RIGHT_5-avgref_bandpass_activity_high beta', 'ECOG_RIGHT_5-avgref_bandpass_activity_low gamma', 'ECOG_RIGHT_5-avgref_bandpass_activity_high gamma', 'ECOG_RIGHT_5-avgref_bandpass_activity_HFA')], dtype='object')] are in the [columns]\""
     ]
    }
   ],
   "source": [
    "df_0 = pd.concat([data_features_s0.filter(like='LFP'),data_features_s0.filter(like='ECOG')], axis = 1).filter(like='bandpass_activity')\n",
    "df_1 = pd.concat([data_features_s1.filter(like='LFP'), data_features_s1.filter(like='ECOG')], axis=1).filter(like='bandpass_activity')"
   ],
   "metadata": {
    "collapsed": false,
    "pycharm": {
     "name": "#%%\n"
    }
   }
  },
  {
   "cell_type": "code",
   "execution_count": 12,
   "outputs": [
    {
     "data": {
      "text/plain": "array([[0.06106386],\n       [0.08007277],\n       [0.05249654],\n       ...,\n       [0.18637911],\n       [0.17311285],\n       [0.12583333]])"
     },
     "execution_count": 12,
     "metadata": {},
     "output_type": "execute_result"
    }
   ],
   "source": [
    "mov_features_test_pred_s1"
   ],
   "metadata": {
    "collapsed": false,
    "pycharm": {
     "name": "#%%\n"
    }
   }
  },
  {
   "cell_type": "code",
   "execution_count": null,
   "outputs": [],
   "source": [],
   "metadata": {
    "collapsed": false,
    "pycharm": {
     "name": "#%%\n"
    }
   }
  }
 ],
 "metadata": {
  "kernelspec": {
   "display_name": "Python 3",
   "language": "python",
   "name": "python3"
  },
  "language_info": {
   "codemirror_mode": {
    "name": "ipython",
    "version": 2
   },
   "file_extension": ".py",
   "mimetype": "text/x-python",
   "name": "python",
   "nbconvert_exporter": "python",
   "pygments_lexer": "ipython2",
   "version": "2.7.6"
  }
 },
 "nbformat": 4,
 "nbformat_minor": 0
}